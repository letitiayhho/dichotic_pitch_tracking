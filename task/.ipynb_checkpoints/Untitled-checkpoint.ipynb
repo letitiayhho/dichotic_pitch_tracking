{
 "cells": [
  {
   "cell_type": "code",
   "execution_count": 102,
   "id": "890d2cf9",
   "metadata": {},
   "outputs": [],
   "source": [
    "from psychopy.sound.backend_ptb import SoundPTB as Sound\n",
    "from psychtoolbox import GetSecs, WaitSecs, hid\n",
    "from psychopy import prefs\n",
    "import numpy as np\n",
    "import random\n",
    "\n",
    "# prefs.hardware['audioLib'] = ['PTB', 'sounddevice', 'pyo','pygame']\n",
    "# print(prefs.hardware['audioLib'])\n",
    "\n",
    "ISI = 0.4\n",
    "TARGET = 130\n",
    "SEQ_LEN = 100\n",
    "# N_TARGETS_MIN = 15\n",
    "# N_TARGETS_MAX = 25"
   ]
  },
  {
   "cell_type": "code",
   "execution_count": 103,
   "id": "7f1d8a03",
   "metadata": {},
   "outputs": [],
   "source": [
    "def play_tone(ISI, tone_fpath):\n",
    "    now = GetSecs()\n",
    "    snd = Sound(tone_fpath)\n",
    "    snd.play(when = now + 0.1)\n",
    "    WaitSecs(ISI - 0.1)\n",
    "\n",
    "def get_target():\n",
    "    target = random.choice([130, 200, 280])\n",
    "    return(target)\n",
    "\n",
    "# Get list of tone files to play\n",
    "def get_tone_array(target):\n",
    "    tones = [[130, 130],\n",
    "             [130, 200],\n",
    "             [130, 280],\n",
    "             [200, 130],\n",
    "             [200, 200],\n",
    "             [200, 280],\n",
    "             [280, 130],\n",
    "             [280, 200],\n",
    "             [280, 280]]\n",
    "    tones.remove([target, target])\n",
    "    tones = np.array(tones)\n",
    "    distractors\n",
    "    return(tones)\n",
    "\n",
    "def get_is_target(tones, stream, target):\n",
    "    if stream == 'l':\n",
    "        distractors = tones[:, 0]\n",
    "    elif stream == 'r':\n",
    "        distractors = tones[:, 1]\n",
    "    is_target = [x == target for x in distractors]\n",
    "    return(is_target)\n",
    "\n",
    "def get_n_targets(n_targets_min, n_targets_max):\n",
    "    n_targets = random.randint(n_targets_min, n_targets_max)\n",
    "    return(n_targets)\n",
    "\n",
    "def get_stream():\n",
    "    stream = random.choice(['r', 'l'])\n",
    "    return(stream)\n",
    "\n",
    "def get_tone_fname(tone_array):\n",
    "    left_freq = tone_array[0]\n",
    "    right_freq = tone_array[1]\n",
    "    fname = \"tones/left_\" + str(left_freq) + \"_right_\" + str(right_freq) + \".wav\"\n",
    "    return(fname)\n",
    "\n",
    "def _replaceitem(x, target, no_targets):\n",
    "    if x == target:\n",
    "        if no_targets:\n",
    "            return(0)\n",
    "        else:\n",
    "            return(1)\n",
    "    else:\n",
    "        return(2)\n",
    "\n",
    "def get_tone_weights(stream, target, tones, no_targets):\n",
    "    if stream == 'l':\n",
    "        distractors = tones[:, 0]\n",
    "    elif stream == 'r':\n",
    "        distractors = tones[:, 1]\n",
    "    weights = list(map(_replaceitem, distractors, [target] * len(distractors), [no_targets] * len(distractors)))\n",
    "    return(weights)\n",
    "\n",
    "def get_tone(tones, is_targets, weights, no_target_weights, cannot_be_target):\n",
    "    if cannot_be_target:\n",
    "        i = random.choices(range(len(tones)), no_target_weights)[0]\n",
    "    else:\n",
    "        i = random.choices(range(len(tones)), weights)[0]\n",
    "    tone = tones[i]\n",
    "    is_target = is_targets[i]\n",
    "    print(tone)\n",
    "    print(is_target)\n",
    "    return(tone, is_target)    "
   ]
  },
  {
   "cell_type": "code",
   "execution_count": 101,
   "id": "e746a35e",
   "metadata": {},
   "outputs": [
    {
     "name": "stdout",
     "output_type": "stream",
     "text": [
      "used no_target_weights\n",
      "used target_weights\n",
      "used target_weights\n",
      "used no_target_weights\n",
      "used target_weights\n"
     ]
    }
   ],
   "source": [
    "tones = get_tone_array(TARGET)\n",
    "is_targets = get_is_target(tones, stream, TARGET)\n",
    "stream = get_stream()\n",
    "weights = get_tone_weights(stream, TARGET, tones, False)\n",
    "no_target_weights = get_tone_weights(stream, TARGET, tones, True)\n",
    "\n",
    "cannot_be_target = True\n",
    "for i in range(5):\n",
    "    tone, is_target = get_tone(tones, is_targets, weights, no_target_weights, cannot_be_target)\n",
    "    tone_fpath = get_tone_fname(tone)\n",
    "    cannot_be_target = is_target\n",
    "    play_tone(ISI, tone_fpath)\n"
   ]
  },
  {
   "cell_type": "code",
   "execution_count": 76,
   "id": "dd683edb",
   "metadata": {},
   "outputs": [
    {
     "data": {
      "text/plain": [
       "7"
      ]
     },
     "execution_count": 76,
     "metadata": {},
     "output_type": "execute_result"
    }
   ],
   "source": [
    "# if stream == 'l':\n",
    "#     distractors = tones[:, 0]\n",
    "# elif stream == 'r':\n",
    "#     distractors = tones[:, 1]\n",
    "# is_target = [x == TARGET for x in distractors]\n",
    "# print(np.shape(tones))\n",
    "# print(np.shape(is_target))\n",
    "# tones = np.hstack((tones, is_target))\n",
    "\n",
    "random.choices(range(len(tones)), weights)[0]"
   ]
  },
  {
   "cell_type": "code",
   "execution_count": null,
   "id": "a1817b26",
   "metadata": {},
   "outputs": [],
   "source": []
  },
  {
   "cell_type": "code",
   "execution_count": 60,
   "id": "163af106",
   "metadata": {},
   "outputs": [
    {
     "data": {
      "text/plain": [
       "(8, 2)"
      ]
     },
     "execution_count": 60,
     "metadata": {},
     "output_type": "execute_result"
    }
   ],
   "source": [
    "np.shape(tones[:])"
   ]
  },
  {
   "cell_type": "code",
   "execution_count": 49,
   "id": "d49e959a",
   "metadata": {},
   "outputs": [
    {
     "data": {
      "text/plain": [
       "array([ True,  True, False, False, False, False, False, False])"
      ]
     },
     "execution_count": 49,
     "metadata": {},
     "output_type": "execute_result"
    }
   ],
   "source": [
    "is_target"
   ]
  },
  {
   "cell_type": "code",
   "execution_count": 98,
   "id": "6b81e71f",
   "metadata": {},
   "outputs": [
    {
     "data": {
      "text/plain": [
       "array([280, 280])"
      ]
     },
     "execution_count": 98,
     "metadata": {},
     "output_type": "execute_result"
    }
   ],
   "source": [
    "tone"
   ]
  },
  {
   "cell_type": "code",
   "execution_count": 59,
   "id": "1ff3ec9f",
   "metadata": {},
   "outputs": [
    {
     "data": {
      "text/plain": [
       "(8,)"
      ]
     },
     "execution_count": 59,
     "metadata": {},
     "output_type": "execute_result"
    }
   ],
   "source": [
    "np.shape(is_target)"
   ]
  },
  {
   "cell_type": "code",
   "execution_count": 65,
   "id": "694de25f",
   "metadata": {},
   "outputs": [
    {
     "data": {
      "text/plain": [
       "(8, 2)"
      ]
     },
     "execution_count": 65,
     "metadata": {},
     "output_type": "execute_result"
    }
   ],
   "source": [
    "np.shape(is_target)\n",
    "np.shape(tones)"
   ]
  },
  {
   "cell_type": "code",
   "execution_count": 63,
   "id": "99f13ccb",
   "metadata": {},
   "outputs": [
    {
     "ename": "ValueError",
     "evalue": "all the input array dimensions for the concatenation axis must match exactly, but along dimension 1, the array at index 0 has size 2 and the array at index 1 has size 8",
     "output_type": "error",
     "traceback": [
      "\u001b[0;31m---------------------------------------------------------------------------\u001b[0m",
      "\u001b[0;31mValueError\u001b[0m                                Traceback (most recent call last)",
      "\u001b[0;32m<ipython-input-63-77ec713ee0fe>\u001b[0m in \u001b[0;36m<module>\u001b[0;34m\u001b[0m\n\u001b[1;32m      1\u001b[0m \u001b[0;31m# is_target = np.transpose(is_target)\u001b[0m\u001b[0;34m\u001b[0m\u001b[0;34m\u001b[0m\u001b[0;34m\u001b[0m\u001b[0m\n\u001b[0;32m----> 2\u001b[0;31m \u001b[0mnp\u001b[0m\u001b[0;34m.\u001b[0m\u001b[0mvstack\u001b[0m\u001b[0;34m(\u001b[0m\u001b[0;34m(\u001b[0m\u001b[0mtones\u001b[0m\u001b[0;34m,\u001b[0m \u001b[0mis_target\u001b[0m\u001b[0;34m)\u001b[0m\u001b[0;34m)\u001b[0m\u001b[0;34m\u001b[0m\u001b[0;34m\u001b[0m\u001b[0m\n\u001b[0m",
      "\u001b[0;32m<__array_function__ internals>\u001b[0m in \u001b[0;36mvstack\u001b[0;34m(*args, **kwargs)\u001b[0m\n",
      "\u001b[0;32m~/miniconda3/envs/psychopy/lib/python3.6/site-packages/numpy/core/shape_base.py\u001b[0m in \u001b[0;36mvstack\u001b[0;34m(tup)\u001b[0m\n\u001b[1;32m    281\u001b[0m     \u001b[0;32mif\u001b[0m \u001b[0;32mnot\u001b[0m \u001b[0misinstance\u001b[0m\u001b[0;34m(\u001b[0m\u001b[0marrs\u001b[0m\u001b[0;34m,\u001b[0m \u001b[0mlist\u001b[0m\u001b[0;34m)\u001b[0m\u001b[0;34m:\u001b[0m\u001b[0;34m\u001b[0m\u001b[0;34m\u001b[0m\u001b[0m\n\u001b[1;32m    282\u001b[0m         \u001b[0marrs\u001b[0m \u001b[0;34m=\u001b[0m \u001b[0;34m[\u001b[0m\u001b[0marrs\u001b[0m\u001b[0;34m]\u001b[0m\u001b[0;34m\u001b[0m\u001b[0;34m\u001b[0m\u001b[0m\n\u001b[0;32m--> 283\u001b[0;31m     \u001b[0;32mreturn\u001b[0m \u001b[0m_nx\u001b[0m\u001b[0;34m.\u001b[0m\u001b[0mconcatenate\u001b[0m\u001b[0;34m(\u001b[0m\u001b[0marrs\u001b[0m\u001b[0;34m,\u001b[0m \u001b[0;36m0\u001b[0m\u001b[0;34m)\u001b[0m\u001b[0;34m\u001b[0m\u001b[0;34m\u001b[0m\u001b[0m\n\u001b[0m\u001b[1;32m    284\u001b[0m \u001b[0;34m\u001b[0m\u001b[0m\n\u001b[1;32m    285\u001b[0m \u001b[0;34m\u001b[0m\u001b[0m\n",
      "\u001b[0;32m<__array_function__ internals>\u001b[0m in \u001b[0;36mconcatenate\u001b[0;34m(*args, **kwargs)\u001b[0m\n",
      "\u001b[0;31mValueError\u001b[0m: all the input array dimensions for the concatenation axis must match exactly, but along dimension 1, the array at index 0 has size 2 and the array at index 1 has size 8"
     ]
    }
   ],
   "source": [
    "# is_target = np.transpose(is_target)\n",
    "np.vstack((tones, is_target))"
   ]
  }
 ],
 "metadata": {
  "kernelspec": {
   "display_name": "Python 3",
   "language": "python",
   "name": "python3"
  },
  "language_info": {
   "codemirror_mode": {
    "name": "ipython",
    "version": 3
   },
   "file_extension": ".py",
   "mimetype": "text/x-python",
   "name": "python",
   "nbconvert_exporter": "python",
   "pygments_lexer": "ipython3",
   "version": "3.6.15"
  }
 },
 "nbformat": 4,
 "nbformat_minor": 5
}
