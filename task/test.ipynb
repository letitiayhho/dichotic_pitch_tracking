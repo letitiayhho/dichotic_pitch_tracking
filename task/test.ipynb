{
 "cells": [
  {
   "cell_type": "code",
   "execution_count": 41,
   "id": "890d2cf9",
   "metadata": {},
   "outputs": [
    {
     "name": "stdout",
     "output_type": "stream",
     "text": [
      "pygame 2.1.2 (SDL 2.0.18, Python 3.6.15)\n",
      "Hello from the pygame community. https://www.pygame.org/contribute.html\n"
     ]
    }
   ],
   "source": [
    "from psychopy.sound.backend_ptb import SoundPTB as Sound\n",
    "from psychtoolbox import GetSecs, WaitSecs, hid\n",
    "from psychopy import visual, core, event, prefs\n",
    "import numpy as np\n",
    "import pandas as pd\n",
    "import random\n",
    "import os\n",
    "\n",
    "# prefs.hardware['audioLib'] = ['PTB', 'sounddevice', 'pyo','pygame']\n",
    "# print(prefs.hardware['audioLib'])\n",
    "\n",
    "ISI = 0.4\n",
    "# TARGET = 130\n",
    "N_SEQS = 3\n",
    "SEQ_LEN = 10\n",
    "# N_TARGETS_MIN = 15\n",
    "# N_TARGETS_MAX = 25"
   ]
  },
  {
   "cell_type": "code",
   "execution_count": 46,
   "id": "7f1d8a03",
   "metadata": {},
   "outputs": [],
   "source": [
    "def play_tone(ISI, tone_fpath):\n",
    "    print('playing tone')\n",
    "    now = GetSecs()\n",
    "    snd = Sound(tone_fpath)\n",
    "    snd.play(when = now + 0.1)\n",
    "    print('waiting for keypress')\n",
    "    event.waitKeys(keyList = ['return'], maxWait = 5)\n",
    "    print('buffer time')\n",
    "    WaitSecs(ISI - 0.1)\n",
    "\n",
    "def get_target():\n",
    "    target = random.choice([130, 200, 280])\n",
    "    return(target)\n",
    "\n",
    "# Get list of tone files to play\n",
    "def get_tone_array(target):\n",
    "    tones = [[130, 130],\n",
    "             [130, 200],\n",
    "             [130, 280],\n",
    "             [200, 130],\n",
    "             [200, 200],\n",
    "             [200, 280],\n",
    "             [280, 130],\n",
    "             [280, 200],\n",
    "             [280, 280]]\n",
    "    tones.remove([target, target])\n",
    "    tones = np.array(tones)\n",
    "    return(tones)\n",
    "\n",
    "def get_is_target(tones, stream, target):\n",
    "    if stream == 'l':\n",
    "        distractors = tones[:, 0]\n",
    "    elif stream == 'r':\n",
    "        distractors = tones[:, 1]\n",
    "    is_target = [x == target for x in distractors]\n",
    "    return(is_target)\n",
    "\n",
    "def get_n_targets(n_targets_min, n_targets_max):\n",
    "    n_targets = random.randint(n_targets_min, n_targets_max)\n",
    "    return(n_targets)\n",
    "\n",
    "def get_stream():\n",
    "    stream = random.choice(['r', 'l'])\n",
    "    return(stream)\n",
    "\n",
    "def get_tone_fname(tone_array):\n",
    "    left_freq = tone_array[0]\n",
    "    right_freq = tone_array[1]\n",
    "    fname = \"tones/left_\" + str(left_freq) + \"_right_\" + str(right_freq) + \".wav\"\n",
    "    return(fname)\n",
    "\n",
    "def _replaceitem(x, target, no_targets):\n",
    "    if x == target:\n",
    "        if no_targets:\n",
    "            return(0)\n",
    "        else:\n",
    "            return(1)\n",
    "    else:\n",
    "        return(2)\n",
    "\n",
    "def get_tone_weights(stream, target, tones, no_targets):\n",
    "    if stream == 'l':\n",
    "        distractors = tones[:, 0]\n",
    "    elif stream == 'r':\n",
    "        distractors = tones[:, 1]\n",
    "    weights = list(map(_replaceitem, distractors, [target] * len(distractors), [no_targets] * len(distractors)))\n",
    "    return(weights)\n",
    "\n",
    "def get_tone(tones, tone_id, markers, weights, no_target_weights, cannot_be_target):\n",
    "    if cannot_be_target:\n",
    "        i = random.choices(range(len(tones)), no_target_weights)[0]\n",
    "    else:\n",
    "        i = random.choices(range(len(tones)), weights)[0]\n",
    "    tone = tones[i]\n",
    "    is_target = tone_id[i]\n",
    "    print(tone)\n",
    "    print(is_target)\n",
    "    return(tone, is_target)    "
   ]
  },
  {
   "cell_type": "code",
   "execution_count": 24,
   "id": "385a23f9",
   "metadata": {},
   "outputs": [],
   "source": [
    "def broadcast(n_tones, var):\n",
    "    if not isinstance(var, list):\n",
    "        broadcasted_array = [var]*n_tones\n",
    "    return(broadcasted_array)\n",
    "\n",
    "def open_log(SUB_NUM, BLOCK_NUM):\n",
    "    log = \"../data/logs/sub-\" + SUB_NUM + \"_blk-\" + BLOCK_NUM + \".log\"\n",
    "    if not os.path.isfile(log): # create log file if it doesn't exist\n",
    "        print(f\"Creating {log}\")\n",
    "        d = {\n",
    "                'seed': [],\n",
    "                'sub_num': [],\n",
    "                'block_num': [],\n",
    "                'seq_num': [],\n",
    "                'stream': [],\n",
    "                'target': [],\n",
    "                'tone_num' : [],\n",
    "                'left_freq' : [],\n",
    "                'right_freq' : [],\n",
    "                'is_target' : [],\n",
    "            }\n",
    "        df = pd.DataFrame(data = d)\n",
    "        df.to_csv(log, mode='w', index = False)\n",
    "    return(log)\n",
    "\n",
    "def write_log(LOG, SEQ_LEN, seed, sub_num, block_num, seq_num, stream, target, tone_num, left_freq, right_freq, is_target):\n",
    "    print(\"Writing to log file\")\n",
    "    d = {\n",
    "        'seed': broadcast(SEQ_LEN, seed),\n",
    "        'sub_num': broadcast(SEQ_LEN, sub_num),\n",
    "        'block_num': broadcast(SEQ_LEN, block_num),\n",
    "        'seq_num': broadcast(SEQ_LEN, seq_num),\n",
    "        'stream': broadcast(SEQ_LEN, stream),\n",
    "        'target': broadcast(SEQ_LEN, target),\n",
    "        'tone_num' : tone_nums,\n",
    "        'left_freq' : left_freq,\n",
    "        'right_freq' : right_freq,\n",
    "        'is_target' : is_target,\n",
    "    }\n",
    "    df = pd.DataFrame(data = d)\n",
    "    df.to_csv(LOG, mode='a', header = False, index = False)"
   ]
  },
  {
   "cell_type": "code",
   "execution_count": 47,
   "id": "e746a35e",
   "metadata": {},
   "outputs": [
    {
     "name": "stdout",
     "output_type": "stream",
     "text": [
      "[130 130]\n",
      "False\n",
      "playing tone\n",
      "waiting for keypress\n",
      "buffer time\n",
      "[280 280]\n",
      "False\n",
      "playing tone\n",
      "waiting for keypress\n",
      "buffer time\n",
      "[130 280]\n",
      "False\n",
      "playing tone\n",
      "waiting for keypress\n",
      "buffer time\n"
     ]
    },
    {
     "ename": "KeyboardInterrupt",
     "evalue": "",
     "output_type": "error",
     "traceback": [
      "\u001b[0;31m---------------------------------------------------------------------------\u001b[0m",
      "\u001b[0;31mKeyboardInterrupt\u001b[0m                         Traceback (most recent call last)",
      "\u001b[0;32m<ipython-input-47-3b7ff0ce9e74>\u001b[0m in \u001b[0;36m<module>\u001b[0;34m\u001b[0m\n\u001b[1;32m     27\u001b[0m         \u001b[0mtone_fname\u001b[0m \u001b[0;34m=\u001b[0m \u001b[0mget_tone_fname\u001b[0m\u001b[0;34m(\u001b[0m\u001b[0mtone\u001b[0m\u001b[0;34m)\u001b[0m\u001b[0;34m\u001b[0m\u001b[0;34m\u001b[0m\u001b[0m\n\u001b[1;32m     28\u001b[0m         \u001b[0mcannot_be_target\u001b[0m \u001b[0;34m=\u001b[0m \u001b[0mis_target\u001b[0m\u001b[0;34m\u001b[0m\u001b[0;34m\u001b[0m\u001b[0m\n\u001b[0;32m---> 29\u001b[0;31m         \u001b[0mplay_tone\u001b[0m\u001b[0;34m(\u001b[0m\u001b[0mISI\u001b[0m\u001b[0;34m,\u001b[0m \u001b[0mtone_fname\u001b[0m\u001b[0;34m)\u001b[0m\u001b[0;34m\u001b[0m\u001b[0;34m\u001b[0m\u001b[0m\n\u001b[0m\u001b[1;32m     30\u001b[0m         \u001b[0;32mbreak\u001b[0m\u001b[0;34m\u001b[0m\u001b[0;34m\u001b[0m\u001b[0m\n\u001b[1;32m     31\u001b[0m \u001b[0;34m\u001b[0m\u001b[0m\n",
      "\u001b[0;32m<ipython-input-46-c9c015d6bae7>\u001b[0m in \u001b[0;36mplay_tone\u001b[0;34m(ISI, tone_fpath)\u001b[0m\n\u001b[1;32m      7\u001b[0m     \u001b[0mevent\u001b[0m\u001b[0;34m.\u001b[0m\u001b[0mwaitKeys\u001b[0m\u001b[0;34m(\u001b[0m\u001b[0mkeyList\u001b[0m \u001b[0;34m=\u001b[0m \u001b[0;34m[\u001b[0m\u001b[0;34m'return'\u001b[0m\u001b[0;34m]\u001b[0m\u001b[0;34m,\u001b[0m \u001b[0mmaxWait\u001b[0m \u001b[0;34m=\u001b[0m \u001b[0;36m5\u001b[0m\u001b[0;34m)\u001b[0m\u001b[0;34m\u001b[0m\u001b[0;34m\u001b[0m\u001b[0m\n\u001b[1;32m      8\u001b[0m     \u001b[0mprint\u001b[0m\u001b[0;34m(\u001b[0m\u001b[0;34m'buffer time'\u001b[0m\u001b[0;34m)\u001b[0m\u001b[0;34m\u001b[0m\u001b[0;34m\u001b[0m\u001b[0m\n\u001b[0;32m----> 9\u001b[0;31m     \u001b[0mWaitSecs\u001b[0m\u001b[0;34m(\u001b[0m\u001b[0mISI\u001b[0m \u001b[0;34m-\u001b[0m \u001b[0;36m0.1\u001b[0m\u001b[0;34m)\u001b[0m\u001b[0;34m\u001b[0m\u001b[0;34m\u001b[0m\u001b[0m\n\u001b[0m\u001b[1;32m     10\u001b[0m \u001b[0;34m\u001b[0m\u001b[0m\n\u001b[1;32m     11\u001b[0m \u001b[0;32mdef\u001b[0m \u001b[0mget_target\u001b[0m\u001b[0;34m(\u001b[0m\u001b[0;34m)\u001b[0m\u001b[0;34m:\u001b[0m\u001b[0;34m\u001b[0m\u001b[0;34m\u001b[0m\u001b[0m\n",
      "\u001b[0;31mKeyboardInterrupt\u001b[0m: "
     ]
    }
   ],
   "source": [
    "SUB_NUM = \"0\"\n",
    "BLOCK_NUM = \"0\"\n",
    "SEED = int(SUB_NUM + \"0\" + BLOCK_NUM)\n",
    "random.seed(SEED)\n",
    "\n",
    "LOG = open_log(SUB_NUM, BLOCK_NUM)\n",
    "\n",
    "for seq_num in range(N_SEQS):\n",
    "    # Randomize stream and target\n",
    "    stream = get_stream()\n",
    "    target = get_target()\n",
    "    \n",
    "    # Get weights for tones to select from\n",
    "    tones = get_tone_array(target)\n",
    "    weights = get_tone_weights(stream, target, tones, False)\n",
    "    no_target_weights = get_tone_weights(stream, target, tones, True)\n",
    "    tone_id = get_is_target(tones, stream, target)\n",
    "    \n",
    "    tone_nums = []\n",
    "    left_freq = []\n",
    "    right_freq = []\n",
    "    is_targets = []\n",
    "\n",
    "    cannot_be_target = True\n",
    "    for tone_num in range(1, SEQ_LEN + 1):\n",
    "        tone, is_target = get_tone(tones, tone_id, weights, no_target_weights, cannot_be_target)\n",
    "        tone_fname = get_tone_fname(tone)\n",
    "        cannot_be_target = is_target\n",
    "        play_tone(ISI, tone_fname)\n",
    "        break\n",
    "\n",
    "        tone_nums.append(tone_num)\n",
    "        left_freq.append(tone[0])\n",
    "        right_freq.append(tone[1])\n",
    "        is_targets.append(is_target)\n",
    "        break\n",
    "        \n",
    "#     write_log(LOG,\n",
    "#               SEQ_LEN,\n",
    "#               SEED, \n",
    "#               SUB_NUM,\n",
    "#               BLOCK_NUM,\n",
    "#               seq_num,\n",
    "#               stream, \n",
    "#               target, \n",
    "#               tone_nums,\n",
    "#               left_freq, \n",
    "#               right_freq, \n",
    "#               is_targets)"
   ]
  },
  {
   "cell_type": "code",
   "execution_count": 54,
   "id": "b3a0146e",
   "metadata": {},
   "outputs": [
    {
     "name": "stdout",
     "output_type": "stream",
     "text": [
      "Execution time in seconds: 3.0017106533050537\n"
     ]
    }
   ],
   "source": [
    "import RTBox\n",
    "import time\n",
    "startTime = time.time()\n",
    "snd = Sound('tones/left_130.wav')\n",
    "snd.play()\n",
    "WaitSecs(3)\n",
    "# (secs, btns) = box.secs(5)\n",
    "executionTime = (time.time() - startTime)\n",
    "print('Execution time in seconds: ' + str(executionTime))"
   ]
  },
  {
   "cell_type": "code",
   "execution_count": 60,
   "id": "3f304d26",
   "metadata": {},
   "outputs": [
    {
     "ename": "OSError",
     "evalue": "\nDarwin-20.6.0-x86_64-i386-64bit\nPython 3.6.15\npySerial 3.5\nNo RTBox serial port found. Make sure FTDI driver is installed",
     "output_type": "error",
     "traceback": [
      "\u001b[0;31m---------------------------------------------------------------------------\u001b[0m",
      "\u001b[0;31mOSError\u001b[0m                                   Traceback (most recent call last)",
      "\u001b[0;32m<ipython-input-60-b9ff54fee24c>\u001b[0m in \u001b[0;36m<module>\u001b[0;34m\u001b[0m\n\u001b[1;32m      1\u001b[0m \u001b[0;32mimport\u001b[0m \u001b[0mRTBox\u001b[0m\u001b[0;34m\u001b[0m\u001b[0;34m\u001b[0m\u001b[0m\n\u001b[0;32m----> 2\u001b[0;31m \u001b[0mbox\u001b[0m \u001b[0;34m=\u001b[0m \u001b[0mRTBox\u001b[0m\u001b[0;34m.\u001b[0m\u001b[0mRTBox\u001b[0m\u001b[0;34m(\u001b[0m\u001b[0;34m)\u001b[0m\u001b[0;34m\u001b[0m\u001b[0;34m\u001b[0m\u001b[0m\n\u001b[0m\u001b[1;32m      3\u001b[0m \u001b[0mboxSecs\u001b[0m\u001b[0;34m(\u001b[0m\u001b[0;34m)\u001b[0m\u001b[0;34m\u001b[0m\u001b[0;34m\u001b[0m\u001b[0m\n",
      "\u001b[0;32m~/src/dichotic_pitch_tracking/task/RTBox.py\u001b[0m in \u001b[0;36m__init__\u001b[0;34m(self, host_clock, boxID)\u001b[0m\n\u001b[1;32m    119\u001b[0m         \u001b[0;32mif\u001b[0m \u001b[0mself\u001b[0m\u001b[0;34m.\u001b[0m\u001b[0m_p\u001b[0m\u001b[0;34m.\u001b[0m\u001b[0mfake\u001b[0m\u001b[0;34m:\u001b[0m \u001b[0;32mreturn\u001b[0m\u001b[0;34m\u001b[0m\u001b[0;34m\u001b[0m\u001b[0m\n\u001b[1;32m    120\u001b[0m \u001b[0;34m\u001b[0m\u001b[0m\n\u001b[0;32m--> 121\u001b[0;31m         \u001b[0;34m(\u001b[0m\u001b[0mser\u001b[0m\u001b[0;34m,\u001b[0m \u001b[0mv\u001b[0m\u001b[0;34m)\u001b[0m \u001b[0;34m=\u001b[0m \u001b[0mself\u001b[0m\u001b[0;34m.\u001b[0m\u001b[0m_openBox\u001b[0m\u001b[0;34m(\u001b[0m\u001b[0;34m)\u001b[0m\u001b[0;34m\u001b[0m\u001b[0;34m\u001b[0m\u001b[0m\n\u001b[0m\u001b[1;32m    122\u001b[0m         \u001b[0;32mif\u001b[0m \u001b[0mv\u001b[0m\u001b[0;34m<=\u001b[0m\u001b[0;36m1.9\u001b[0m \u001b[0;32mor\u001b[0m \u001b[0;34m(\u001b[0m\u001b[0mv\u001b[0m\u001b[0;34m>\u001b[0m\u001b[0;36m2\u001b[0m \u001b[0;32mand\u001b[0m \u001b[0mv\u001b[0m\u001b[0;34m<\u001b[0m\u001b[0;36m4.3\u001b[0m\u001b[0;34m)\u001b[0m\u001b[0;34m:\u001b[0m\u001b[0;34m\u001b[0m\u001b[0;34m\u001b[0m\u001b[0m\n\u001b[1;32m    123\u001b[0m             \u001b[0mser\u001b[0m\u001b[0;34m.\u001b[0m\u001b[0mwrite\u001b[0m\u001b[0;34m(\u001b[0m\u001b[0;34mb'x'\u001b[0m\u001b[0;34m)\u001b[0m\u001b[0;34m\u001b[0m\u001b[0;34m\u001b[0m\u001b[0m\n",
      "\u001b[0;32m~/src/dichotic_pitch_tracking/task/RTBox.py\u001b[0m in \u001b[0;36m_openBox\u001b[0;34m(self)\u001b[0m\n\u001b[1;32m    926\u001b[0m         \u001b[0;32melse\u001b[0m\u001b[0;34m:\u001b[0m\u001b[0;34m\u001b[0m\u001b[0;34m\u001b[0m\u001b[0m\n\u001b[1;32m    927\u001b[0m             \u001b[0merr\u001b[0m \u001b[0;34m=\u001b[0m \u001b[0;34m'Possible RTBox ports %s are already in use'\u001b[0m \u001b[0;34m%\u001b[0m \u001b[0minUse\u001b[0m\u001b[0;34m\u001b[0m\u001b[0;34m\u001b[0m\u001b[0m\n\u001b[0;32m--> 928\u001b[0;31m         \u001b[0;32mraise\u001b[0m \u001b[0mEnvironmentError\u001b[0m\u001b[0;34m(\u001b[0m\u001b[0;34m'\\n'\u001b[0m \u001b[0;34m+\u001b[0m \u001b[0mself\u001b[0m\u001b[0;34m.\u001b[0m\u001b[0m_p\u001b[0m\u001b[0;34m.\u001b[0m\u001b[0msysinfo\u001b[0m \u001b[0;34m+\u001b[0m \u001b[0;34m'\\n'\u001b[0m \u001b[0;34m+\u001b[0m \u001b[0merr\u001b[0m\u001b[0;34m)\u001b[0m\u001b[0;34m\u001b[0m\u001b[0;34m\u001b[0m\u001b[0m\n\u001b[0m\u001b[1;32m    929\u001b[0m \u001b[0;34m\u001b[0m\u001b[0m\n",
      "\u001b[0;31mOSError\u001b[0m: \nDarwin-20.6.0-x86_64-i386-64bit\nPython 3.6.15\npySerial 3.5\nNo RTBox serial port found. Make sure FTDI driver is installed"
     ]
    }
   ],
   "source": [
    "import RTBox\n",
    "box = RTBox.RTBox()\n",
    "boxSecs()"
   ]
  },
  {
   "cell_type": "code",
   "execution_count": 60,
   "id": "e2a55eb4",
   "metadata": {},
   "outputs": [
    {
     "data": {
      "text/plain": [
       "(8, 2)"
      ]
     },
     "execution_count": 60,
     "metadata": {},
     "output_type": "execute_result"
    }
   ],
   "source": [
    "np.shape(tones[:])"
   ]
  },
  {
   "cell_type": "code",
   "execution_count": 49,
   "id": "f50b4ed9",
   "metadata": {},
   "outputs": [
    {
     "data": {
      "text/plain": [
       "array([ True,  True, False, False, False, False, False, False])"
      ]
     },
     "execution_count": 49,
     "metadata": {},
     "output_type": "execute_result"
    }
   ],
   "source": [
    "is_target"
   ]
  },
  {
   "cell_type": "code",
   "execution_count": 98,
   "id": "9ed1d0ad",
   "metadata": {},
   "outputs": [
    {
     "data": {
      "text/plain": [
       "array([280, 280])"
      ]
     },
     "execution_count": 98,
     "metadata": {},
     "output_type": "execute_result"
    }
   ],
   "source": [
    "tone"
   ]
  },
  {
   "cell_type": "code",
   "execution_count": 59,
   "id": "27e946e1",
   "metadata": {},
   "outputs": [
    {
     "data": {
      "text/plain": [
       "(8,)"
      ]
     },
     "execution_count": 59,
     "metadata": {},
     "output_type": "execute_result"
    }
   ],
   "source": [
    "np.shape(is_target)"
   ]
  },
  {
   "cell_type": "code",
   "execution_count": 65,
   "id": "068c8379",
   "metadata": {},
   "outputs": [
    {
     "data": {
      "text/plain": [
       "(8, 2)"
      ]
     },
     "execution_count": 65,
     "metadata": {},
     "output_type": "execute_result"
    }
   ],
   "source": [
    "np.shape(is_target)\n",
    "np.shape(tones)"
   ]
  },
  {
   "cell_type": "code",
   "execution_count": 63,
   "id": "7f9de357",
   "metadata": {},
   "outputs": [
    {
     "ename": "ValueError",
     "evalue": "all the input array dimensions for the concatenation axis must match exactly, but along dimension 1, the array at index 0 has size 2 and the array at index 1 has size 8",
     "output_type": "error",
     "traceback": [
      "\u001b[0;31m---------------------------------------------------------------------------\u001b[0m",
      "\u001b[0;31mValueError\u001b[0m                                Traceback (most recent call last)",
      "\u001b[0;32m<ipython-input-63-77ec713ee0fe>\u001b[0m in \u001b[0;36m<module>\u001b[0;34m\u001b[0m\n\u001b[1;32m      1\u001b[0m \u001b[0;31m# is_target = np.transpose(is_target)\u001b[0m\u001b[0;34m\u001b[0m\u001b[0;34m\u001b[0m\u001b[0;34m\u001b[0m\u001b[0m\n\u001b[0;32m----> 2\u001b[0;31m \u001b[0mnp\u001b[0m\u001b[0;34m.\u001b[0m\u001b[0mvstack\u001b[0m\u001b[0;34m(\u001b[0m\u001b[0;34m(\u001b[0m\u001b[0mtones\u001b[0m\u001b[0;34m,\u001b[0m \u001b[0mis_target\u001b[0m\u001b[0;34m)\u001b[0m\u001b[0;34m)\u001b[0m\u001b[0;34m\u001b[0m\u001b[0;34m\u001b[0m\u001b[0m\n\u001b[0m",
      "\u001b[0;32m<__array_function__ internals>\u001b[0m in \u001b[0;36mvstack\u001b[0;34m(*args, **kwargs)\u001b[0m\n",
      "\u001b[0;32m~/miniconda3/envs/psychopy/lib/python3.6/site-packages/numpy/core/shape_base.py\u001b[0m in \u001b[0;36mvstack\u001b[0;34m(tup)\u001b[0m\n\u001b[1;32m    281\u001b[0m     \u001b[0;32mif\u001b[0m \u001b[0;32mnot\u001b[0m \u001b[0misinstance\u001b[0m\u001b[0;34m(\u001b[0m\u001b[0marrs\u001b[0m\u001b[0;34m,\u001b[0m \u001b[0mlist\u001b[0m\u001b[0;34m)\u001b[0m\u001b[0;34m:\u001b[0m\u001b[0;34m\u001b[0m\u001b[0;34m\u001b[0m\u001b[0m\n\u001b[1;32m    282\u001b[0m         \u001b[0marrs\u001b[0m \u001b[0;34m=\u001b[0m \u001b[0;34m[\u001b[0m\u001b[0marrs\u001b[0m\u001b[0;34m]\u001b[0m\u001b[0;34m\u001b[0m\u001b[0;34m\u001b[0m\u001b[0m\n\u001b[0;32m--> 283\u001b[0;31m     \u001b[0;32mreturn\u001b[0m \u001b[0m_nx\u001b[0m\u001b[0;34m.\u001b[0m\u001b[0mconcatenate\u001b[0m\u001b[0;34m(\u001b[0m\u001b[0marrs\u001b[0m\u001b[0;34m,\u001b[0m \u001b[0;36m0\u001b[0m\u001b[0;34m)\u001b[0m\u001b[0;34m\u001b[0m\u001b[0;34m\u001b[0m\u001b[0m\n\u001b[0m\u001b[1;32m    284\u001b[0m \u001b[0;34m\u001b[0m\u001b[0m\n\u001b[1;32m    285\u001b[0m \u001b[0;34m\u001b[0m\u001b[0m\n",
      "\u001b[0;32m<__array_function__ internals>\u001b[0m in \u001b[0;36mconcatenate\u001b[0;34m(*args, **kwargs)\u001b[0m\n",
      "\u001b[0;31mValueError\u001b[0m: all the input array dimensions for the concatenation axis must match exactly, but along dimension 1, the array at index 0 has size 2 and the array at index 1 has size 8"
     ]
    }
   ],
   "source": [
    "# is_target = np.transpose(is_target)\n",
    "np.vstack((tones, is_target))"
   ]
  }
 ],
 "metadata": {
  "kernelspec": {
   "display_name": "Python 3",
   "language": "python",
   "name": "python3"
  },
  "language_info": {
   "codemirror_mode": {
    "name": "ipython",
    "version": 3
   },
   "file_extension": ".py",
   "mimetype": "text/x-python",
   "name": "python",
   "nbconvert_exporter": "python",
   "pygments_lexer": "ipython3",
   "version": "3.6.15"
  }
 },
 "nbformat": 4,
 "nbformat_minor": 5
}
