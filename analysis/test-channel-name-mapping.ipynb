{
 "cells": [
  {
   "cell_type": "code",
   "execution_count": 1,
   "id": "922e54a9",
   "metadata": {},
   "outputs": [],
   "source": [
    "from mne_bids import BIDSPath, write_raw_bids, get_anonymization_daysback\n",
    "import random\n",
    "import pandas as pd\n",
    "import numpy as np\n",
    "import itertools\n",
    "import mne\n",
    "import os\n",
    "import sys\n",
    "import re\n",
    "from util.io.get_chan_mapping import get_chan_mapping\n",
    "from util.io.add_stream_to_event_tags import *\n",
    "from util.io.remap_aux_labels import *\n",
    "from util.io.iter_raw_paths import *"
   ]
  },
  {
   "cell_type": "code",
   "execution_count": 2,
   "id": "83a70f08",
   "metadata": {},
   "outputs": [],
   "source": [
    "RAW_DIR = '../data/raw/'\n",
    "BIDS_DIR = '../data/bids/'\n",
    "MAPS_DIR = '../data/captrak/'"
   ]
  },
  {
   "cell_type": "code",
   "execution_count": 10,
   "id": "43bf88fe",
   "metadata": {},
   "outputs": [
    {
     "name": "stdout",
     "output_type": "stream",
     "text": [
      "sub-24.vhdr\n",
      "Extracting parameters from ../data/raw/sub-24.vhdr...\n",
      "Setting channel info structure...\n",
      "sub-40.vhdr\n",
      "Extracting parameters from ../data/raw/sub-40.vhdr...\n",
      "Setting channel info structure...\n",
      "sub-1.vhdr\n",
      "Extracting parameters from ../data/raw/sub-1.vhdr...\n"
     ]
    },
    {
     "name": "stderr",
     "output_type": "stream",
     "text": [
      "/home/letitiayhho/.conda/envs/pitch-tracking/lib/python3.10/site-packages/pandas/core/dtypes/cast.py:883: VisibleDeprecationWarning: Creating an ndarray from ragged nested sequences (which is a list-or-tuple of lists-or-tuples-or ndarrays with different lengths or shapes) is deprecated. If you meant to do this, you must specify 'dtype=object' when creating the ndarray.\n",
      "  element = np.asarray(element)\n",
      "/tmp/ipykernel_24250/3535399067.py:11: RuntimeWarning: No coordinate information found for channels ['leog', 'reog', 'Audio', 'Audio2']. Setting channel types to misc. To avoid this warning, set channel types explicitly.\n",
      "  raw = mne.io.read_raw_brainvision(full_fpath)\n",
      "/tmp/ipykernel_24250/3535399067.py:11: RuntimeWarning: Not setting positions of 4 misc channels found in montage:\n",
      "['leog', 'reog', 'Audio', 'Audio2']\n",
      "Consider setting the channel types to be of EEG/sEEG/ECoG/DBS/fNIRS using inst.set_channel_types before calling inst.set_montage, or omit these channels when creating your montage.\n",
      "  raw = mne.io.read_raw_brainvision(full_fpath)\n"
     ]
    },
    {
     "name": "stdout",
     "output_type": "stream",
     "text": [
      "Setting channel info structure...\n",
      "sub-20.vhdr\n",
      "Extracting parameters from ../data/raw/sub-20.vhdr...\n",
      "Setting channel info structure...\n",
      "sub-41.vhdr\n",
      "Extracting parameters from ../data/raw/sub-41.vhdr...\n",
      "Setting channel info structure...\n",
      "sub-30.vhdr\n",
      "Extracting parameters from ../data/raw/sub-30.vhdr...\n",
      "Setting channel info structure...\n"
     ]
    },
    {
     "name": "stderr",
     "output_type": "stream",
     "text": [
      "/tmp/ipykernel_24250/3535399067.py:11: RuntimeWarning: No coordinate information found for channels ['leog', 'reog', 'right', 'left']. Setting channel types to misc. To avoid this warning, set channel types explicitly.\n",
      "  raw = mne.io.read_raw_brainvision(full_fpath)\n",
      "/tmp/ipykernel_24250/3535399067.py:11: RuntimeWarning: Not setting positions of 4 misc channels found in montage:\n",
      "['leog', 'reog', 'right', 'left']\n",
      "Consider setting the channel types to be of EEG/sEEG/ECoG/DBS/fNIRS using inst.set_channel_types before calling inst.set_montage, or omit these channels when creating your montage.\n",
      "  raw = mne.io.read_raw_brainvision(full_fpath)\n",
      "/tmp/ipykernel_24250/3535399067.py:11: RuntimeWarning: No coordinate information found for channels ['leog', 'reog', 'Audio', 'Audio2']. Setting channel types to misc. To avoid this warning, set channel types explicitly.\n",
      "  raw = mne.io.read_raw_brainvision(full_fpath)\n",
      "/tmp/ipykernel_24250/3535399067.py:11: RuntimeWarning: Not setting positions of 4 misc channels found in montage:\n",
      "['leog', 'reog', 'Audio', 'Audio2']\n",
      "Consider setting the channel types to be of EEG/sEEG/ECoG/DBS/fNIRS using inst.set_channel_types before calling inst.set_montage, or omit these channels when creating your montage.\n",
      "  raw = mne.io.read_raw_brainvision(full_fpath)\n"
     ]
    },
    {
     "name": "stdout",
     "output_type": "stream",
     "text": [
      "sub-6.vhdr\n",
      "Extracting parameters from ../data/raw/sub-6.vhdr...\n",
      "Setting channel info structure...\n",
      "sub-42.vhdr\n",
      "Extracting parameters from ../data/raw/sub-42.vhdr...\n",
      "Setting channel info structure...\n"
     ]
    },
    {
     "name": "stderr",
     "output_type": "stream",
     "text": [
      "/tmp/ipykernel_24250/3535399067.py:11: RuntimeWarning: No coordinate information found for channels ['leog', 'reog', 'right', 'left']. Setting channel types to misc. To avoid this warning, set channel types explicitly.\n",
      "  raw = mne.io.read_raw_brainvision(full_fpath)\n",
      "/tmp/ipykernel_24250/3535399067.py:11: RuntimeWarning: Not setting positions of 4 misc channels found in montage:\n",
      "['leog', 'reog', 'right', 'left']\n",
      "Consider setting the channel types to be of EEG/sEEG/ECoG/DBS/fNIRS using inst.set_channel_types before calling inst.set_montage, or omit these channels when creating your montage.\n",
      "  raw = mne.io.read_raw_brainvision(full_fpath)\n"
     ]
    },
    {
     "name": "stdout",
     "output_type": "stream",
     "text": [
      "sub-38.vhdr\n",
      "Extracting parameters from ../data/raw/sub-38.vhdr...\n",
      "Setting channel info structure...\n"
     ]
    },
    {
     "name": "stderr",
     "output_type": "stream",
     "text": [
      "/tmp/ipykernel_24250/3535399067.py:11: RuntimeWarning: No coordinate information found for channels ['leog', 'reog', 'Audio', 'Audio2']. Setting channel types to misc. To avoid this warning, set channel types explicitly.\n",
      "  raw = mne.io.read_raw_brainvision(full_fpath)\n",
      "/tmp/ipykernel_24250/3535399067.py:11: RuntimeWarning: Not setting positions of 4 misc channels found in montage:\n",
      "['leog', 'reog', 'Audio', 'Audio2']\n",
      "Consider setting the channel types to be of EEG/sEEG/ECoG/DBS/fNIRS using inst.set_channel_types before calling inst.set_montage, or omit these channels when creating your montage.\n",
      "  raw = mne.io.read_raw_brainvision(full_fpath)\n"
     ]
    },
    {
     "name": "stdout",
     "output_type": "stream",
     "text": [
      "sub-33.vhdr\n",
      "Extracting parameters from ../data/raw/sub-33.vhdr...\n",
      "Setting channel info structure...\n",
      "sub-35.vhdr\n",
      "Extracting parameters from ../data/raw/sub-35.vhdr...\n"
     ]
    },
    {
     "name": "stderr",
     "output_type": "stream",
     "text": [
      "/tmp/ipykernel_24250/3535399067.py:11: RuntimeWarning: No coordinate information found for channels ['leog', 'reog', 'Audio', 'Audio2']. Setting channel types to misc. To avoid this warning, set channel types explicitly.\n",
      "  raw = mne.io.read_raw_brainvision(full_fpath)\n",
      "/tmp/ipykernel_24250/3535399067.py:11: RuntimeWarning: Not setting positions of 4 misc channels found in montage:\n",
      "['leog', 'reog', 'Audio', 'Audio2']\n",
      "Consider setting the channel types to be of EEG/sEEG/ECoG/DBS/fNIRS using inst.set_channel_types before calling inst.set_montage, or omit these channels when creating your montage.\n",
      "  raw = mne.io.read_raw_brainvision(full_fpath)\n"
     ]
    },
    {
     "name": "stdout",
     "output_type": "stream",
     "text": [
      "Setting channel info structure...\n"
     ]
    },
    {
     "name": "stderr",
     "output_type": "stream",
     "text": [
      "/tmp/ipykernel_24250/3535399067.py:11: RuntimeWarning: No coordinate information found for channels ['leog', 'reog', 'Audio', 'Audio2']. Setting channel types to misc. To avoid this warning, set channel types explicitly.\n",
      "  raw = mne.io.read_raw_brainvision(full_fpath)\n",
      "/tmp/ipykernel_24250/3535399067.py:11: RuntimeWarning: Not setting positions of 4 misc channels found in montage:\n",
      "['leog', 'reog', 'Audio', 'Audio2']\n",
      "Consider setting the channel types to be of EEG/sEEG/ECoG/DBS/fNIRS using inst.set_channel_types before calling inst.set_montage, or omit these channels when creating your montage.\n",
      "  raw = mne.io.read_raw_brainvision(full_fpath)\n"
     ]
    },
    {
     "name": "stdout",
     "output_type": "stream",
     "text": [
      "sub-8.vhdr\n",
      "Extracting parameters from ../data/raw/sub-8.vhdr...\n",
      "Setting channel info structure...\n",
      "sub-43.vhdr\n",
      "Extracting parameters from ../data/raw/sub-43.vhdr...\n",
      "Setting channel info structure...\n"
     ]
    },
    {
     "name": "stderr",
     "output_type": "stream",
     "text": [
      "/tmp/ipykernel_24250/3535399067.py:11: RuntimeWarning: No coordinate information found for channels ['leog', 'reog', 'right', 'left']. Setting channel types to misc. To avoid this warning, set channel types explicitly.\n",
      "  raw = mne.io.read_raw_brainvision(full_fpath)\n",
      "/tmp/ipykernel_24250/3535399067.py:11: RuntimeWarning: Not setting positions of 4 misc channels found in montage:\n",
      "['leog', 'reog', 'right', 'left']\n",
      "Consider setting the channel types to be of EEG/sEEG/ECoG/DBS/fNIRS using inst.set_channel_types before calling inst.set_montage, or omit these channels when creating your montage.\n",
      "  raw = mne.io.read_raw_brainvision(full_fpath)\n"
     ]
    },
    {
     "name": "stdout",
     "output_type": "stream",
     "text": [
      "sub-25.vhdr\n",
      "Extracting parameters from ../data/raw/sub-25.vhdr...\n",
      "Setting channel info structure...\n",
      "sub-9.vhdr\n",
      "Extracting parameters from ../data/raw/sub-9.vhdr...\n",
      "Setting channel info structure...\n",
      "sub-11.vhdr\n",
      "Extracting parameters from ../data/raw/sub-11.vhdr...\n",
      "Setting channel info structure...\n",
      "sub-14.vhdr\n",
      "Extracting parameters from ../data/raw/sub-14.vhdr...\n",
      "Setting channel info structure...\n",
      "sub-4.vhdr\n",
      "Extracting parameters from ../data/raw/sub-4.vhdr...\n",
      "Setting channel info structure...\n",
      "sub-5.vhdr\n",
      "Extracting parameters from ../data/raw/sub-5.vhdr...\n",
      "Setting channel info structure...\n",
      "sub-29.vhdr\n",
      "Extracting parameters from ../data/raw/sub-29.vhdr...\n",
      "Setting channel info structure...\n"
     ]
    },
    {
     "name": "stderr",
     "output_type": "stream",
     "text": [
      "/tmp/ipykernel_24250/3535399067.py:11: RuntimeWarning: No coordinate information found for channels ['leog', 'reog', 'Audio', 'Audio2']. Setting channel types to misc. To avoid this warning, set channel types explicitly.\n",
      "  raw = mne.io.read_raw_brainvision(full_fpath)\n",
      "/tmp/ipykernel_24250/3535399067.py:11: RuntimeWarning: Not setting positions of 4 misc channels found in montage:\n",
      "['leog', 'reog', 'Audio', 'Audio2']\n",
      "Consider setting the channel types to be of EEG/sEEG/ECoG/DBS/fNIRS using inst.set_channel_types before calling inst.set_montage, or omit these channels when creating your montage.\n",
      "  raw = mne.io.read_raw_brainvision(full_fpath)\n"
     ]
    },
    {
     "name": "stdout",
     "output_type": "stream",
     "text": [
      "sub-31.vhdr\n",
      "Extracting parameters from ../data/raw/sub-31.vhdr...\n",
      "Setting channel info structure...\n"
     ]
    },
    {
     "name": "stderr",
     "output_type": "stream",
     "text": [
      "/tmp/ipykernel_24250/3535399067.py:11: RuntimeWarning: No coordinate information found for channels ['leog', 'reog', 'Audio', 'Audio2']. Setting channel types to misc. To avoid this warning, set channel types explicitly.\n",
      "  raw = mne.io.read_raw_brainvision(full_fpath)\n",
      "/tmp/ipykernel_24250/3535399067.py:11: RuntimeWarning: Not setting positions of 4 misc channels found in montage:\n",
      "['leog', 'reog', 'Audio', 'Audio2']\n",
      "Consider setting the channel types to be of EEG/sEEG/ECoG/DBS/fNIRS using inst.set_channel_types before calling inst.set_montage, or omit these channels when creating your montage.\n",
      "  raw = mne.io.read_raw_brainvision(full_fpath)\n"
     ]
    },
    {
     "name": "stdout",
     "output_type": "stream",
     "text": [
      "sub-39.vhdr\n",
      "Extracting parameters from ../data/raw/sub-39.vhdr...\n",
      "Setting channel info structure...\n"
     ]
    },
    {
     "name": "stderr",
     "output_type": "stream",
     "text": [
      "/tmp/ipykernel_24250/3535399067.py:11: RuntimeWarning: No coordinate information found for channels ['leog', 'reog', 'Audio', 'Audio2']. Setting channel types to misc. To avoid this warning, set channel types explicitly.\n",
      "  raw = mne.io.read_raw_brainvision(full_fpath)\n",
      "/tmp/ipykernel_24250/3535399067.py:11: RuntimeWarning: Not setting positions of 4 misc channels found in montage:\n",
      "['leog', 'reog', 'Audio', 'Audio2']\n",
      "Consider setting the channel types to be of EEG/sEEG/ECoG/DBS/fNIRS using inst.set_channel_types before calling inst.set_montage, or omit these channels when creating your montage.\n",
      "  raw = mne.io.read_raw_brainvision(full_fpath)\n"
     ]
    }
   ],
   "source": [
    "# Check ch_names\n",
    "row_dict = {\n",
    "    'sub': [],\n",
    "    'ch_names': [],\n",
    "    'n_ch': []\n",
    "   }\n",
    "df = pd.DataFrame(row_dict)\n",
    "\n",
    "for fpath, sub, task, run in iter_raw_paths(RAW_DIR):\n",
    "    full_fpath = os.path.join(RAW_DIR, fpath)\n",
    "    raw = mne.io.read_raw_brainvision(full_fpath)\n",
    "    ch_names = raw.info['ch_names']\n",
    "    n_ch = len(ch_names)\n",
    "    df.loc[len(df.index)] = [int(sub), ch_names, n_ch] "
   ]
  },
  {
   "cell_type": "code",
   "execution_count": 29,
   "id": "bf8e00b3",
   "metadata": {},
   "outputs": [],
   "source": [
    "df_clean = df.sort_values(by = ['sub'])\n",
    "df_clean = df_clean.reset_index(drop = True)\n",
    "df_clean = df_clean.drop(columns = ['index'])"
   ]
  },
  {
   "cell_type": "code",
   "execution_count": 30,
   "id": "1778200f",
   "metadata": {},
   "outputs": [
    {
     "data": {
      "text/html": [
       "<div>\n",
       "<style scoped>\n",
       "    .dataframe tbody tr th:only-of-type {\n",
       "        vertical-align: middle;\n",
       "    }\n",
       "\n",
       "    .dataframe tbody tr th {\n",
       "        vertical-align: top;\n",
       "    }\n",
       "\n",
       "    .dataframe thead th {\n",
       "        text-align: right;\n",
       "    }\n",
       "</style>\n",
       "<table border=\"1\" class=\"dataframe\">\n",
       "  <thead>\n",
       "    <tr style=\"text-align: right;\">\n",
       "      <th></th>\n",
       "      <th>sub</th>\n",
       "      <th>ch_names</th>\n",
       "      <th>n_ch</th>\n",
       "    </tr>\n",
       "  </thead>\n",
       "  <tbody>\n",
       "    <tr>\n",
       "      <th>0</th>\n",
       "      <td>1</td>\n",
       "      <td>[Ch1, Ch2, Ch3, Ch4, Ch5, Ch6, Ch7, Ch8, Ch9, ...</td>\n",
       "      <td>65</td>\n",
       "    </tr>\n",
       "    <tr>\n",
       "      <th>1</th>\n",
       "      <td>4</td>\n",
       "      <td>[Ch1, Ch2, Ch3, Ch4, Ch5, Ch6, Ch7, Ch8, Ch9, ...</td>\n",
       "      <td>65</td>\n",
       "    </tr>\n",
       "    <tr>\n",
       "      <th>2</th>\n",
       "      <td>5</td>\n",
       "      <td>[Ch1, Ch2, Ch3, Ch4, Ch5, Ch6, Ch7, Ch8, Ch9, ...</td>\n",
       "      <td>65</td>\n",
       "    </tr>\n",
       "    <tr>\n",
       "      <th>3</th>\n",
       "      <td>6</td>\n",
       "      <td>[Ch1, Ch2, Ch3, Ch4, Ch5, Ch6, Ch7, Ch8, Ch9, ...</td>\n",
       "      <td>65</td>\n",
       "    </tr>\n",
       "    <tr>\n",
       "      <th>4</th>\n",
       "      <td>8</td>\n",
       "      <td>[Ch1, Ch2, Ch3, Ch4, Ch5, Ch6, Ch7, Ch8, Ch9, ...</td>\n",
       "      <td>65</td>\n",
       "    </tr>\n",
       "    <tr>\n",
       "      <th>5</th>\n",
       "      <td>9</td>\n",
       "      <td>[Ch1, Ch2, Ch3, Ch4, Ch5, Ch6, Ch7, Ch8, Ch9, ...</td>\n",
       "      <td>65</td>\n",
       "    </tr>\n",
       "    <tr>\n",
       "      <th>6</th>\n",
       "      <td>11</td>\n",
       "      <td>[Ch1, Ch2, Ch3, Ch4, Ch5, Ch6, Ch7, Ch8, Ch9, ...</td>\n",
       "      <td>65</td>\n",
       "    </tr>\n",
       "    <tr>\n",
       "      <th>7</th>\n",
       "      <td>14</td>\n",
       "      <td>[Ch1, Ch2, Ch3, Ch4, Ch5, Ch6, Ch7, Ch8, Ch9, ...</td>\n",
       "      <td>65</td>\n",
       "    </tr>\n",
       "    <tr>\n",
       "      <th>8</th>\n",
       "      <td>20</td>\n",
       "      <td>[Ch1, Ch2, Ch3, Ch4, Ch5, Ch6, Ch7, Ch8, Ch9, ...</td>\n",
       "      <td>65</td>\n",
       "    </tr>\n",
       "    <tr>\n",
       "      <th>9</th>\n",
       "      <td>24</td>\n",
       "      <td>[Ch1, Ch2, Ch3, Ch4, Ch5, Ch6, Ch7, Ch8, Ch9, ...</td>\n",
       "      <td>65</td>\n",
       "    </tr>\n",
       "    <tr>\n",
       "      <th>10</th>\n",
       "      <td>25</td>\n",
       "      <td>[Ch1, Ch2, Ch3, Ch4, Ch5, Ch6, Ch7, Ch8, Ch9, ...</td>\n",
       "      <td>65</td>\n",
       "    </tr>\n",
       "    <tr>\n",
       "      <th>11</th>\n",
       "      <td>29</td>\n",
       "      <td>[Fp1, Fz, F3, F7, FT9, FC5, FC1, C3, T7, TP9, ...</td>\n",
       "      <td>65</td>\n",
       "    </tr>\n",
       "    <tr>\n",
       "      <th>12</th>\n",
       "      <td>30</td>\n",
       "      <td>[Fp1, Fz, F3, F7, FT9, FC5, FC1, C3, T7, TP9, ...</td>\n",
       "      <td>65</td>\n",
       "    </tr>\n",
       "    <tr>\n",
       "      <th>13</th>\n",
       "      <td>31</td>\n",
       "      <td>[Fp1, Fz, F3, F7, FT9, FC5, FC1, C3, T7, TP9, ...</td>\n",
       "      <td>65</td>\n",
       "    </tr>\n",
       "    <tr>\n",
       "      <th>14</th>\n",
       "      <td>33</td>\n",
       "      <td>[Fp1, Fz, F3, F7, FT9, FC5, FC1, C3, T7, TP9, ...</td>\n",
       "      <td>65</td>\n",
       "    </tr>\n",
       "    <tr>\n",
       "      <th>15</th>\n",
       "      <td>35</td>\n",
       "      <td>[Fp1, Fz, F3, F7, FT9, FC5, FC1, C3, T7, TP9, ...</td>\n",
       "      <td>65</td>\n",
       "    </tr>\n",
       "    <tr>\n",
       "      <th>16</th>\n",
       "      <td>38</td>\n",
       "      <td>[Fp1, Fz, F3, F7, FT9, FC5, FC1, C3, T7, TP9, ...</td>\n",
       "      <td>65</td>\n",
       "    </tr>\n",
       "    <tr>\n",
       "      <th>17</th>\n",
       "      <td>39</td>\n",
       "      <td>[Fp1, Fz, F3, F7, FT9, FC5, FC1, C3, T7, TP9, ...</td>\n",
       "      <td>65</td>\n",
       "    </tr>\n",
       "    <tr>\n",
       "      <th>18</th>\n",
       "      <td>40</td>\n",
       "      <td>[Fp1, Fz, F3, F7, FT9, FC5, FC1, C3, T7, TP9, ...</td>\n",
       "      <td>65</td>\n",
       "    </tr>\n",
       "    <tr>\n",
       "      <th>19</th>\n",
       "      <td>41</td>\n",
       "      <td>[Fp1, Fz, F3, F7, FT9, FC5, FC1, C3, T7, TP9, ...</td>\n",
       "      <td>65</td>\n",
       "    </tr>\n",
       "    <tr>\n",
       "      <th>20</th>\n",
       "      <td>42</td>\n",
       "      <td>[Fp1, Fz, F3, F7, FT9, FC5, FC1, C3, T7, TP9, ...</td>\n",
       "      <td>65</td>\n",
       "    </tr>\n",
       "    <tr>\n",
       "      <th>21</th>\n",
       "      <td>43</td>\n",
       "      <td>[Fp1, Fz, F3, F7, FT9, FC5, FC1, C3, T7, TP9, ...</td>\n",
       "      <td>65</td>\n",
       "    </tr>\n",
       "  </tbody>\n",
       "</table>\n",
       "</div>"
      ],
      "text/plain": [
       "    sub                                           ch_names  n_ch\n",
       "0     1  [Ch1, Ch2, Ch3, Ch4, Ch5, Ch6, Ch7, Ch8, Ch9, ...    65\n",
       "1     4  [Ch1, Ch2, Ch3, Ch4, Ch5, Ch6, Ch7, Ch8, Ch9, ...    65\n",
       "2     5  [Ch1, Ch2, Ch3, Ch4, Ch5, Ch6, Ch7, Ch8, Ch9, ...    65\n",
       "3     6  [Ch1, Ch2, Ch3, Ch4, Ch5, Ch6, Ch7, Ch8, Ch9, ...    65\n",
       "4     8  [Ch1, Ch2, Ch3, Ch4, Ch5, Ch6, Ch7, Ch8, Ch9, ...    65\n",
       "5     9  [Ch1, Ch2, Ch3, Ch4, Ch5, Ch6, Ch7, Ch8, Ch9, ...    65\n",
       "6    11  [Ch1, Ch2, Ch3, Ch4, Ch5, Ch6, Ch7, Ch8, Ch9, ...    65\n",
       "7    14  [Ch1, Ch2, Ch3, Ch4, Ch5, Ch6, Ch7, Ch8, Ch9, ...    65\n",
       "8    20  [Ch1, Ch2, Ch3, Ch4, Ch5, Ch6, Ch7, Ch8, Ch9, ...    65\n",
       "9    24  [Ch1, Ch2, Ch3, Ch4, Ch5, Ch6, Ch7, Ch8, Ch9, ...    65\n",
       "10   25  [Ch1, Ch2, Ch3, Ch4, Ch5, Ch6, Ch7, Ch8, Ch9, ...    65\n",
       "11   29  [Fp1, Fz, F3, F7, FT9, FC5, FC1, C3, T7, TP9, ...    65\n",
       "12   30  [Fp1, Fz, F3, F7, FT9, FC5, FC1, C3, T7, TP9, ...    65\n",
       "13   31  [Fp1, Fz, F3, F7, FT9, FC5, FC1, C3, T7, TP9, ...    65\n",
       "14   33  [Fp1, Fz, F3, F7, FT9, FC5, FC1, C3, T7, TP9, ...    65\n",
       "15   35  [Fp1, Fz, F3, F7, FT9, FC5, FC1, C3, T7, TP9, ...    65\n",
       "16   38  [Fp1, Fz, F3, F7, FT9, FC5, FC1, C3, T7, TP9, ...    65\n",
       "17   39  [Fp1, Fz, F3, F7, FT9, FC5, FC1, C3, T7, TP9, ...    65\n",
       "18   40  [Fp1, Fz, F3, F7, FT9, FC5, FC1, C3, T7, TP9, ...    65\n",
       "19   41  [Fp1, Fz, F3, F7, FT9, FC5, FC1, C3, T7, TP9, ...    65\n",
       "20   42  [Fp1, Fz, F3, F7, FT9, FC5, FC1, C3, T7, TP9, ...    65\n",
       "21   43  [Fp1, Fz, F3, F7, FT9, FC5, FC1, C3, T7, TP9, ...    65"
      ]
     },
     "execution_count": 30,
     "metadata": {},
     "output_type": "execute_result"
    }
   ],
   "source": [
    "df_clean"
   ]
  },
  {
   "cell_type": "code",
   "execution_count": 35,
   "id": "21843227",
   "metadata": {},
   "outputs": [
    {
     "name": "stdout",
     "output_type": "stream",
     "text": [
      "[['Ch1', 'Ch2', 'Ch3', 'Ch4', 'Ch5', 'Ch6', 'Ch7', 'Ch8', 'Ch9', 'Ch10', 'Ch11', 'Ch12', 'Ch13', 'Ch14', 'Ch15', 'Ch16', 'Ch17', 'Ch18', 'Ch19', 'Ch20', 'Ch21', 'Ch22', 'Ch23', 'Ch25', 'Ch26', 'Ch27', 'Ch28', 'Ch29', 'Ch30', 'Ch31', 'Ch32', 'Ch33', 'Ch34', 'Ch35', 'Ch36', 'Ch37', 'Ch38', 'Ch39', 'Ch40', 'Ch41', 'Ch42', 'Ch43', 'Ch44', 'Ch45', 'Ch46', 'Ch47', 'Ch48', 'Ch49', 'Ch50', 'Ch51', 'Ch52', 'Ch53', 'Ch54', 'Ch55', 'Ch56', 'Ch57', 'Ch58', 'Ch59', 'Ch60', 'Ch61', 'Ch62', 'Ch63', 'Ch64', 'Left', 'Right']]\n",
      "[['Fp1', 'Fz', 'F3', 'F7', 'FT9', 'FC5', 'FC1', 'C3', 'T7', 'TP9', 'CP5', 'CP1', 'Pz', 'P3', 'P7', 'O1', 'Oz', 'O2', 'P4', 'P8', 'TP10', 'CP6', 'CP2', 'C4', 'T8', 'FT10', 'FC6', 'FC2', 'F4', 'F8', 'Fp2', 'leog', 'AF3', 'AFz', 'F1', 'F5', 'FT7', 'FC3', 'C1', 'C5', 'TP7', 'CP3', 'P1', 'P5', 'PO7', 'PO3', 'POz', 'PO4', 'PO8', 'P6', 'P2', 'CPz', 'CP4', 'TP8', 'C6', 'C2', 'FC4', 'FT8', 'F6', 'reog', 'AF4', 'F2', 'FCz', 'Audio', 'Audio2']]\n"
     ]
    }
   ],
   "source": [
    "ch_names_1 = df['ch_names'][df['sub'] == 4]\n",
    "print(list(ch_names_1))\n",
    "ch_names_2 = df['ch_names'][df['sub'] == 40]\n",
    "print(list(ch_names_2))"
   ]
  },
  {
   "cell_type": "code",
   "execution_count": 38,
   "id": "2a57e8d4",
   "metadata": {},
   "outputs": [
    {
     "data": {
      "text/plain": [
       "{'Ch1': 'Fp1',\n",
       " 'Ch2': 'Fz',\n",
       " 'Ch3': 'F3',\n",
       " 'Ch4': 'F7',\n",
       " 'Ch5': 'FT9',\n",
       " 'Ch6': 'FC5',\n",
       " 'Ch7': 'FC1',\n",
       " 'Ch8': 'C3',\n",
       " 'Ch9': 'T7',\n",
       " 'Ch10': 'TP9',\n",
       " 'Ch11': 'CP5',\n",
       " 'Ch12': 'CP1',\n",
       " 'Ch13': 'Pz',\n",
       " 'Ch14': 'P3',\n",
       " 'Ch15': 'P7',\n",
       " 'Ch16': 'O1',\n",
       " 'Ch17': 'Oz',\n",
       " 'Ch18': 'O2',\n",
       " 'Ch19': 'P4',\n",
       " 'Ch20': 'P8',\n",
       " 'Ch21': 'TP10',\n",
       " 'Ch22': 'CP6',\n",
       " 'Ch23': 'CP2',\n",
       " 'Ch24': 'Cz',\n",
       " 'Ch25': 'C4',\n",
       " 'Ch26': 'T8',\n",
       " 'Ch27': 'FT10',\n",
       " 'Ch28': 'FC6',\n",
       " 'Ch29': 'FC2',\n",
       " 'Ch30': 'F4',\n",
       " 'Ch31': 'F8',\n",
       " 'Ch32': 'Fp2',\n",
       " 'Ch33': 'leog',\n",
       " 'Ch34': 'AF3',\n",
       " 'Ch35': 'AFz',\n",
       " 'Ch36': 'F1',\n",
       " 'Ch37': 'F5',\n",
       " 'Ch38': 'FT7',\n",
       " 'Ch39': 'FC3',\n",
       " 'Ch40': 'C1',\n",
       " 'Ch41': 'C5',\n",
       " 'Ch42': 'TP7',\n",
       " 'Ch43': 'CP3',\n",
       " 'Ch44': 'P1',\n",
       " 'Ch45': 'P5',\n",
       " 'Ch46': 'PO7',\n",
       " 'Ch47': 'PO3',\n",
       " 'Ch48': 'POz',\n",
       " 'Ch49': 'PO4',\n",
       " 'Ch50': 'PO8',\n",
       " 'Ch51': 'P6',\n",
       " 'Ch52': 'P2',\n",
       " 'Ch53': 'CPz',\n",
       " 'Ch54': 'CP4',\n",
       " 'Ch55': 'TP8',\n",
       " 'Ch56': 'C6',\n",
       " 'Ch57': 'C2',\n",
       " 'Ch58': 'FC4',\n",
       " 'Ch59': 'FT8',\n",
       " 'Ch60': 'F6',\n",
       " 'Ch61': 'reog',\n",
       " 'Ch62': 'AF4',\n",
       " 'Ch63': 'F2',\n",
       " 'Ch64': 'FCz'}"
      ]
     },
     "execution_count": 38,
     "metadata": {},
     "output_type": "execute_result"
    }
   ],
   "source": [
    "map_fp = '../data/captrak/pitch_tracking_64_at_FCZ.csv'\n",
    "mapping_table = pd.read_csv(map_fp)\n",
    "mapping = {mapping_table.number[i]: mapping_table.name[i] for i in range(len(mapping_table))}\n",
    "mapping"
   ]
  }
 ],
 "metadata": {
  "kernelspec": {
   "display_name": "Python 3 (ipykernel)",
   "language": "python",
   "name": "python3"
  },
  "language_info": {
   "codemirror_mode": {
    "name": "ipython",
    "version": 3
   },
   "file_extension": ".py",
   "mimetype": "text/x-python",
   "name": "python",
   "nbconvert_exporter": "python",
   "pygments_lexer": "ipython3",
   "version": "3.10.4"
  }
 },
 "nbformat": 4,
 "nbformat_minor": 5
}
