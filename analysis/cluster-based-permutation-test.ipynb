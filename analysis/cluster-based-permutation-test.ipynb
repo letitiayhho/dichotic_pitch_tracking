{
 "cells": [
  {
   "cell_type": "code",
   "execution_count": 230,
   "id": "3ce0f70d",
   "metadata": {},
   "outputs": [],
   "source": [
    "import mne\n",
    "import glob\n",
    "import re\n",
    "import numpy as np\n",
    "import matplotlib.pyplot as plt\n",
    "import pandas as pd\n",
    "from scipy import signal\n",
    "from scipy.fft import fftshift\n",
    "from bids import BIDSLayout\n",
    "from util.io.ffr import *"
   ]
  },
  {
   "cell_type": "markdown",
   "id": "6ca92864",
   "metadata": {},
   "source": [
    "### Import and clean data"
   ]
  },
  {
   "cell_type": "code",
   "execution_count": 118,
   "id": "0f2d68af",
   "metadata": {},
   "outputs": [],
   "source": [
    "spectrums = pd.read_csv('diff_spectrums.csv', sep = '\\t')"
   ]
  },
  {
   "cell_type": "code",
   "execution_count": 222,
   "id": "b71d0ef0",
   "metadata": {},
   "outputs": [
    {
     "data": {
      "text/html": [
       "<div>\n",
       "<style scoped>\n",
       "    .dataframe tbody tr th:only-of-type {\n",
       "        vertical-align: middle;\n",
       "    }\n",
       "\n",
       "    .dataframe tbody tr th {\n",
       "        vertical-align: top;\n",
       "    }\n",
       "\n",
       "    .dataframe thead th {\n",
       "        text-align: right;\n",
       "    }\n",
       "</style>\n",
       "<table border=\"1\" class=\"dataframe\">\n",
       "  <thead>\n",
       "    <tr style=\"text-align: right;\">\n",
       "      <th></th>\n",
       "      <th>sub</th>\n",
       "      <th>left_chs</th>\n",
       "      <th>x</th>\n",
       "      <th>y</th>\n",
       "      <th>freq</th>\n",
       "      <th>stim</th>\n",
       "      <th>stream</th>\n",
       "      <th>attended</th>\n",
       "      <th>dB_diff</th>\n",
       "    </tr>\n",
       "  </thead>\n",
       "  <tbody>\n",
       "    <tr>\n",
       "      <th>0</th>\n",
       "      <td>9.0</td>\n",
       "      <td>AF3</td>\n",
       "      <td>175.0</td>\n",
       "      <td>366.0</td>\n",
       "      <td>130.0</td>\n",
       "      <td>130.0</td>\n",
       "      <td>l</td>\n",
       "      <td>True</td>\n",
       "      <td>3.262019</td>\n",
       "    </tr>\n",
       "    <tr>\n",
       "      <th>1</th>\n",
       "      <td>9.0</td>\n",
       "      <td>C1</td>\n",
       "      <td>182.0</td>\n",
       "      <td>245.0</td>\n",
       "      <td>130.0</td>\n",
       "      <td>130.0</td>\n",
       "      <td>l</td>\n",
       "      <td>True</td>\n",
       "      <td>0.063900</td>\n",
       "    </tr>\n",
       "    <tr>\n",
       "      <th>2</th>\n",
       "      <td>9.0</td>\n",
       "      <td>C3</td>\n",
       "      <td>144.0</td>\n",
       "      <td>245.0</td>\n",
       "      <td>130.0</td>\n",
       "      <td>130.0</td>\n",
       "      <td>l</td>\n",
       "      <td>True</td>\n",
       "      <td>2.720311</td>\n",
       "    </tr>\n",
       "    <tr>\n",
       "      <th>3</th>\n",
       "      <td>9.0</td>\n",
       "      <td>C5</td>\n",
       "      <td>102.0</td>\n",
       "      <td>245.0</td>\n",
       "      <td>130.0</td>\n",
       "      <td>130.0</td>\n",
       "      <td>l</td>\n",
       "      <td>True</td>\n",
       "      <td>4.814894</td>\n",
       "    </tr>\n",
       "    <tr>\n",
       "      <th>4</th>\n",
       "      <td>9.0</td>\n",
       "      <td>T7</td>\n",
       "      <td>63.0</td>\n",
       "      <td>245.0</td>\n",
       "      <td>130.0</td>\n",
       "      <td>130.0</td>\n",
       "      <td>l</td>\n",
       "      <td>True</td>\n",
       "      <td>4.795095</td>\n",
       "    </tr>\n",
       "    <tr>\n",
       "      <th>...</th>\n",
       "      <td>...</td>\n",
       "      <td>...</td>\n",
       "      <td>...</td>\n",
       "      <td>...</td>\n",
       "      <td>...</td>\n",
       "      <td>...</td>\n",
       "      <td>...</td>\n",
       "      <td>...</td>\n",
       "      <td>...</td>\n",
       "    </tr>\n",
       "    <tr>\n",
       "      <th>19435</th>\n",
       "      <td>40.0</td>\n",
       "      <td>P7</td>\n",
       "      <td>95.0</td>\n",
       "      <td>150.0</td>\n",
       "      <td>280.0</td>\n",
       "      <td>280.0</td>\n",
       "      <td>r</td>\n",
       "      <td>False</td>\n",
       "      <td>-4.462605</td>\n",
       "    </tr>\n",
       "    <tr>\n",
       "      <th>19436</th>\n",
       "      <td>40.0</td>\n",
       "      <td>PO3</td>\n",
       "      <td>174.0</td>\n",
       "      <td>121.0</td>\n",
       "      <td>280.0</td>\n",
       "      <td>280.0</td>\n",
       "      <td>r</td>\n",
       "      <td>False</td>\n",
       "      <td>0.766769</td>\n",
       "    </tr>\n",
       "    <tr>\n",
       "      <th>19437</th>\n",
       "      <td>40.0</td>\n",
       "      <td>PO7</td>\n",
       "      <td>130.0</td>\n",
       "      <td>114.0</td>\n",
       "      <td>280.0</td>\n",
       "      <td>280.0</td>\n",
       "      <td>r</td>\n",
       "      <td>False</td>\n",
       "      <td>-0.660786</td>\n",
       "    </tr>\n",
       "    <tr>\n",
       "      <th>19438</th>\n",
       "      <td>40.0</td>\n",
       "      <td>TP7</td>\n",
       "      <td>71.0</td>\n",
       "      <td>195.0</td>\n",
       "      <td>280.0</td>\n",
       "      <td>280.0</td>\n",
       "      <td>r</td>\n",
       "      <td>False</td>\n",
       "      <td>-2.714720</td>\n",
       "    </tr>\n",
       "    <tr>\n",
       "      <th>19439</th>\n",
       "      <td>40.0</td>\n",
       "      <td>TP9</td>\n",
       "      <td>33.0</td>\n",
       "      <td>181.0</td>\n",
       "      <td>280.0</td>\n",
       "      <td>280.0</td>\n",
       "      <td>r</td>\n",
       "      <td>False</td>\n",
       "      <td>1.631340</td>\n",
       "    </tr>\n",
       "  </tbody>\n",
       "</table>\n",
       "<p>18468 rows × 9 columns</p>\n",
       "</div>"
      ],
      "text/plain": [
       "        sub left_chs      x      y   freq   stim stream attended   dB_diff\n",
       "0       9.0      AF3  175.0  366.0  130.0  130.0      l     True  3.262019\n",
       "1       9.0       C1  182.0  245.0  130.0  130.0      l     True  0.063900\n",
       "2       9.0       C3  144.0  245.0  130.0  130.0      l     True  2.720311\n",
       "3       9.0       C5  102.0  245.0  130.0  130.0      l     True  4.814894\n",
       "4       9.0       T7   63.0  245.0  130.0  130.0      l     True  4.795095\n",
       "...     ...      ...    ...    ...    ...    ...    ...      ...       ...\n",
       "19435  40.0       P7   95.0  150.0  280.0  280.0      r    False -4.462605\n",
       "19436  40.0      PO3  174.0  121.0  280.0  280.0      r    False  0.766769\n",
       "19437  40.0      PO7  130.0  114.0  280.0  280.0      r    False -0.660786\n",
       "19438  40.0      TP7   71.0  195.0  280.0  280.0      r    False -2.714720\n",
       "19439  40.0      TP9   33.0  181.0  280.0  280.0      r    False  1.631340\n",
       "\n",
       "[18468 rows x 9 columns]"
      ]
     },
     "execution_count": 222,
     "metadata": {},
     "output_type": "execute_result"
    }
   ],
   "source": [
    "spectrums"
   ]
  },
  {
   "cell_type": "code",
   "execution_count": 119,
   "id": "77fc750a",
   "metadata": {},
   "outputs": [
    {
     "name": "stdout",
     "output_type": "stream",
     "text": [
      "Dropping sub 4.0, obs = 936\n",
      "Dropping sub nan, obs = 0\n"
     ]
    }
   ],
   "source": [
    "# Clean data\n",
    "\n",
    "# Drop subs with missing channels\n",
    "for sub in np.unique(spectrums['sub']):\n",
    "    obs = len(spectrums[spectrums['sub'] == sub]) # 936 for sub 4, 972 for all other subs\n",
    "    if obs != 972:\n",
    "        print(f'Dropping sub {sub}, obs = {obs}')\n",
    "        spectrums = spectrums[spectrums['sub'] != sub]\n",
    "        spectrums = spectrums[~spectrums['sub'].isnull()] "
   ]
  },
  {
   "cell_type": "code",
   "execution_count": 141,
   "id": "32c994db",
   "metadata": {},
   "outputs": [],
   "source": [
    "# Check data is in the right shape\n",
    "n_subs = len(spectrums['sub'].unique()) \n",
    "n_chans = len(spectrums['left_chs'].unique()) \n",
    "n_stims = len(spectrums['stim'].unique())\n",
    "n_streams = len(spectrums['stream'].unique())\n",
    "n_attend = len(spectrums['attended'].unique()) \n",
    "n_freqs = len(spectrums['freq'].unique())\n",
    "\n",
    "# Check\n",
    "if n_subs != len(spectrums)/n_chans/n_stims/n_attend/n_freq/n_streams: # n_epochs across all subs\n",
    "    raise ValueError('Incorrect number of subjects!')"
   ]
  },
  {
   "cell_type": "markdown",
   "id": "503bbc6c",
   "metadata": {},
   "source": [
    "### Reshape for permutation test"
   ]
  },
  {
   "cell_type": "markdown",
   "id": "9ab3438c",
   "metadata": {},
   "source": [
    "#### Get channel adjacency"
   ]
  },
  {
   "cell_type": "code",
   "execution_count": 236,
   "id": "6bfff36e",
   "metadata": {},
   "outputs": [
    {
     "name": "stdout",
     "output_type": "stream",
     "text": [
      "Could not find a adjacency matrix for the data. Computing adjacency based on Delaunay triangulations.\n",
      "-- number of adjacent vertices : 27\n"
     ]
    },
    {
     "data": {
      "text/plain": [
       "<27x27 sparse matrix of type '<class 'numpy.int64'>'\n",
       "\twith 169 stored elements in Compressed Sparse Row format>"
      ]
     },
     "execution_count": 236,
     "metadata": {},
     "output_type": "execute_result"
    }
   ],
   "source": [
    "# Lift epochs.info object from a random sub\n",
    "sub = '14'\n",
    "BIDS_ROOT = '../data/bids'\n",
    "epochs = read_epochs(sub, 'clean')\n",
    "left_channels = ['AF3', 'C1','C3','C5','T7','CP1','CP3','CP5','F1','F3','F5','F7','FC1','FC3','FC5','FT7','FT9','Fp1','O1','P1','P3','P5','P7','PO3','PO7','TP7','TP9']\n",
    "epochs = epochs.pick(left_channels)\n",
    "\n",
    "# Apply mne.channels.find_ch_adjacency\n",
    "ch_adjacency, ch_names = mne.channels.find_ch_adjacency(epochs.info, ch_type = 'eeg')\n",
    "ch_adjacency"
   ]
  },
  {
   "cell_type": "markdown",
   "id": "b6d8565a",
   "metadata": {},
   "source": [
    "#### Run test on each stim and each stream"
   ]
  },
  {
   "cell_type": "code",
   "execution_count": 237,
   "id": "1756c3ed",
   "metadata": {},
   "outputs": [
    {
     "name": "stdout",
     "output_type": "stream",
     "text": [
      "stim_freq: 130\n",
      "stream: l\n",
      "sub: 5.0\n",
      "sub: 6.0\n",
      "sub: 8.0\n",
      "sub: 9.0\n",
      "sub: 11.0\n",
      "sub: 14.0\n",
      "sub: 24.0\n",
      "sub: 25.0\n",
      "sub: 29.0\n",
      "sub: 30.0\n",
      "sub: 31.0\n",
      "sub: 33.0\n",
      "sub: 35.0\n",
      "sub: 38.0\n",
      "sub: 39.0\n",
      "sub: 40.0\n",
      "sub: 41.0\n",
      "sub: 42.0\n",
      "sub: 43.0\n",
      "(19, 3, 27)\n",
      "Using a threshold of 1.882603\n",
      "stat_fun(H1): min=0.185536 max=1.542308\n",
      "Running initial clustering …\n",
      "Found 0 clusters\n",
      "[]\n",
      "stream: r\n",
      "sub: 5.0\n",
      "sub: 6.0\n"
     ]
    },
    {
     "name": "stderr",
     "output_type": "stream",
     "text": [
      "/tmp/ipykernel_32467/4129936998.py:34: RuntimeWarning: Ignoring argument \"tail\", performing 1-tailed F-test\n",
      "  F_obs, clusters, cluster_p_values, H0 = mne.stats.permutation_cluster_test(X, adjacency = ch_adjacency)\n",
      "/tmp/ipykernel_32467/4129936998.py:34: RuntimeWarning: No clusters found, returning empty H0, clusters, and cluster_pv\n",
      "  F_obs, clusters, cluster_p_values, H0 = mne.stats.permutation_cluster_test(X, adjacency = ch_adjacency)\n"
     ]
    },
    {
     "name": "stdout",
     "output_type": "stream",
     "text": [
      "sub: 8.0\n",
      "sub: 9.0\n",
      "sub: 11.0\n",
      "sub: 14.0\n",
      "sub: 24.0\n",
      "sub: 25.0\n",
      "sub: 29.0\n",
      "sub: 30.0\n",
      "sub: 31.0\n",
      "sub: 33.0\n",
      "sub: 35.0\n",
      "sub: 38.0\n",
      "sub: 39.0\n",
      "sub: 40.0\n",
      "sub: 41.0\n",
      "sub: 42.0\n",
      "sub: 43.0\n",
      "(19, 3, 27)\n",
      "Using a threshold of 1.882603\n",
      "stat_fun(H1): min=0.548037 max=2.144584\n",
      "Running initial clustering …\n",
      "Found 1 cluster\n"
     ]
    },
    {
     "name": "stderr",
     "output_type": "stream",
     "text": [
      "/tmp/ipykernel_32467/4129936998.py:34: RuntimeWarning: Ignoring argument \"tail\", performing 1-tailed F-test\n",
      "  F_obs, clusters, cluster_p_values, H0 = mne.stats.permutation_cluster_test(X, adjacency = ch_adjacency)\n"
     ]
    },
    {
     "data": {
      "application/vnd.jupyter.widget-view+json": {
       "model_id": "f0fda7f8565e43c286b4a3d671ab63fe",
       "version_major": 2,
       "version_minor": 0
      },
      "text/plain": [
       "  0%|          | Permuting : 0/1023 [00:00<?,       ?it/s]"
      ]
     },
     "metadata": {},
     "output_type": "display_data"
    },
    {
     "name": "stdout",
     "output_type": "stream",
     "text": [
      "[0.48242188]\n",
      "stim_freq: 200\n",
      "stream: l\n",
      "sub: 5.0\n",
      "sub: 6.0\n",
      "sub: 8.0\n",
      "sub: 9.0\n",
      "sub: 11.0\n",
      "sub: 14.0\n",
      "sub: 24.0\n",
      "sub: 25.0\n",
      "sub: 29.0\n",
      "sub: 30.0\n",
      "sub: 31.0\n",
      "sub: 33.0\n",
      "sub: 35.0\n",
      "sub: 38.0\n",
      "sub: 39.0\n",
      "sub: 40.0\n",
      "sub: 41.0\n",
      "sub: 42.0\n",
      "sub: 43.0\n",
      "(19, 3, 27)\n",
      "Using a threshold of 1.882603\n",
      "stat_fun(H1): min=0.365580 max=2.676459\n",
      "Running initial clustering …\n",
      "Found 2 clusters\n"
     ]
    },
    {
     "name": "stderr",
     "output_type": "stream",
     "text": [
      "/tmp/ipykernel_32467/4129936998.py:34: RuntimeWarning: Ignoring argument \"tail\", performing 1-tailed F-test\n",
      "  F_obs, clusters, cluster_p_values, H0 = mne.stats.permutation_cluster_test(X, adjacency = ch_adjacency)\n"
     ]
    },
    {
     "data": {
      "application/vnd.jupyter.widget-view+json": {
       "model_id": "38550be3b87745a99523ffc59964006a",
       "version_major": 2,
       "version_minor": 0
      },
      "text/plain": [
       "  0%|          | Permuting : 0/1023 [00:00<?,       ?it/s]"
      ]
     },
     "metadata": {},
     "output_type": "display_data"
    },
    {
     "name": "stdout",
     "output_type": "stream",
     "text": [
      "[0.67578125 0.24316406]\n",
      "stream: r\n",
      "sub: 5.0\n",
      "sub: 6.0\n",
      "sub: 8.0\n",
      "sub: 9.0\n",
      "sub: 11.0\n",
      "sub: 14.0\n",
      "sub: 24.0\n",
      "sub: 25.0\n",
      "sub: 29.0\n",
      "sub: 30.0\n",
      "sub: 31.0\n",
      "sub: 33.0\n",
      "sub: 35.0\n",
      "sub: 38.0\n",
      "sub: 39.0\n",
      "sub: 40.0\n",
      "sub: 41.0\n",
      "sub: 42.0\n",
      "sub: 43.0\n",
      "(19, 3, 27)\n",
      "Using a threshold of 1.882603\n",
      "stat_fun(H1): min=0.452251 max=2.474863\n",
      "Running initial clustering …\n",
      "Found 1 cluster\n"
     ]
    },
    {
     "name": "stderr",
     "output_type": "stream",
     "text": [
      "/tmp/ipykernel_32467/4129936998.py:34: RuntimeWarning: Ignoring argument \"tail\", performing 1-tailed F-test\n",
      "  F_obs, clusters, cluster_p_values, H0 = mne.stats.permutation_cluster_test(X, adjacency = ch_adjacency)\n"
     ]
    },
    {
     "data": {
      "application/vnd.jupyter.widget-view+json": {
       "model_id": "9c5dc2b05a2545608c0ad0c3e3d56180",
       "version_major": 2,
       "version_minor": 0
      },
      "text/plain": [
       "  0%|          | Permuting : 0/1023 [00:00<?,       ?it/s]"
      ]
     },
     "metadata": {},
     "output_type": "display_data"
    },
    {
     "name": "stdout",
     "output_type": "stream",
     "text": [
      "[0.2890625]\n",
      "stim_freq: 280\n",
      "stream: l\n",
      "sub: 5.0\n",
      "sub: 6.0\n",
      "sub: 8.0\n",
      "sub: 9.0\n",
      "sub: 11.0\n",
      "sub: 14.0\n",
      "sub: 24.0\n",
      "sub: 25.0\n",
      "sub: 29.0\n",
      "sub: 30.0\n",
      "sub: 31.0\n",
      "sub: 33.0\n",
      "sub: 35.0\n",
      "sub: 38.0\n",
      "sub: 39.0\n",
      "sub: 40.0\n",
      "sub: 41.0\n",
      "sub: 42.0\n",
      "sub: 43.0\n",
      "(19, 3, 27)\n",
      "Using a threshold of 1.882603\n",
      "stat_fun(H1): min=0.491223 max=2.705616\n",
      "Running initial clustering …\n",
      "Found 2 clusters\n"
     ]
    },
    {
     "name": "stderr",
     "output_type": "stream",
     "text": [
      "/tmp/ipykernel_32467/4129936998.py:34: RuntimeWarning: Ignoring argument \"tail\", performing 1-tailed F-test\n",
      "  F_obs, clusters, cluster_p_values, H0 = mne.stats.permutation_cluster_test(X, adjacency = ch_adjacency)\n"
     ]
    },
    {
     "data": {
      "application/vnd.jupyter.widget-view+json": {
       "model_id": "ccc1963bc76f467ab5f760e4211892bb",
       "version_major": 2,
       "version_minor": 0
      },
      "text/plain": [
       "  0%|          | Permuting : 0/1023 [00:00<?,       ?it/s]"
      ]
     },
     "metadata": {},
     "output_type": "display_data"
    },
    {
     "name": "stdout",
     "output_type": "stream",
     "text": [
      "[0.22460938 0.5546875 ]\n",
      "stream: r\n",
      "sub: 5.0\n",
      "sub: 6.0\n",
      "sub: 8.0\n",
      "sub: 9.0\n",
      "sub: 11.0\n",
      "sub: 14.0\n",
      "sub: 24.0\n",
      "sub: 25.0\n",
      "sub: 29.0\n",
      "sub: 30.0\n",
      "sub: 31.0\n",
      "sub: 33.0\n",
      "sub: 35.0\n",
      "sub: 38.0\n",
      "sub: 39.0\n",
      "sub: 40.0\n",
      "sub: 41.0\n",
      "sub: 42.0\n",
      "sub: 43.0\n",
      "(19, 3, 27)\n",
      "Using a threshold of 1.882603\n",
      "stat_fun(H1): min=0.410858 max=2.368500\n",
      "Running initial clustering …\n",
      "Found 2 clusters\n"
     ]
    },
    {
     "name": "stderr",
     "output_type": "stream",
     "text": [
      "/tmp/ipykernel_32467/4129936998.py:34: RuntimeWarning: Ignoring argument \"tail\", performing 1-tailed F-test\n",
      "  F_obs, clusters, cluster_p_values, H0 = mne.stats.permutation_cluster_test(X, adjacency = ch_adjacency)\n"
     ]
    },
    {
     "data": {
      "application/vnd.jupyter.widget-view+json": {
       "model_id": "1f2dda4b6d094f39b48e6c39bbf1ab67",
       "version_major": 2,
       "version_minor": 0
      },
      "text/plain": [
       "  0%|          | Permuting : 0/1023 [00:00<?,       ?it/s]"
      ]
     },
     "metadata": {},
     "output_type": "display_data"
    },
    {
     "name": "stdout",
     "output_type": "stream",
     "text": [
      "[0.08398438 0.40722656]\n"
     ]
    }
   ],
   "source": [
    "stim_freqs = [130, 200, 280]\n",
    "streams = ['l', 'r']\n",
    "\n",
    "for stim_freq in stim_freqs:\n",
    "    print(f'stim_freq: {stim_freq}')\n",
    "\n",
    "    for stream in streams:\n",
    "        print(f'stream: {stream}')\n",
    "\n",
    "        # Select data\n",
    "        stim_spectrums = spectrums[(spectrums['stim'] == stim_freq) & (spectrums['stream'] == stream)]\n",
    "\n",
    "        # Average over attended and unattended\n",
    "        stim_spectrums = stim_spectrums.groupby(['sub', 'freq', 'left_chs'], as_index = False)['dB_diff'].mean()\n",
    "\n",
    "        # Check\n",
    "        if n_subs != len(stim_spectrums)/n_freqs/n_chans:\n",
    "            raise ValueError('Incorrect number of subjects!')\n",
    "\n",
    "        X = np.empty((n_subs, n_freqs, n_chans))\n",
    "\n",
    "        # Index into every single value and add to a matrix, so I know exactly where each value is\n",
    "        for i, sub in enumerate(np.unique(stim_spectrums['sub'])):\n",
    "            print(f'sub: {sub}')\n",
    "            for j, freq in enumerate(np.unique(stim_spectrums['freq'])):\n",
    "                for k, ch in enumerate(np.unique(stim_spectrums['left_chs'])):\n",
    "                    value = stim_spectrums['dB_diff'][(stim_spectrums['sub'] == sub) &\n",
    "                                         (stim_spectrums['freq'] == freq) &\n",
    "                                         (stim_spectrums['left_chs'] == ch)]\n",
    "                    X[i, j, k] = value\n",
    "\n",
    "        print(np.shape(X))\n",
    "\n",
    "        F_obs, clusters, cluster_p_values, H0 = mne.stats.permutation_cluster_test(X, adjacency = ch_adjacency)\n",
    "        print(cluster_p_values)"
   ]
  },
  {
   "cell_type": "code",
   "execution_count": 215,
   "id": "4e117faa",
   "metadata": {},
   "outputs": [
    {
     "name": "stdout",
     "output_type": "stream",
     "text": [
      "sub: 5.0\n",
      "sub: 6.0\n",
      "sub: 8.0\n",
      "sub: 9.0\n",
      "sub: 11.0\n",
      "sub: 14.0\n",
      "sub: 24.0\n",
      "sub: 25.0\n",
      "sub: 29.0\n",
      "sub: 30.0\n",
      "sub: 31.0\n",
      "sub: 33.0\n",
      "sub: 35.0\n",
      "sub: 38.0\n",
      "sub: 39.0\n",
      "sub: 40.0\n",
      "sub: 41.0\n",
      "sub: 42.0\n",
      "sub: 43.0\n",
      "(19, 3, 2, 27)\n",
      "Using a threshold of 1.882603\n",
      "stat_fun(H1): min=0.185536 max=2.144584\n",
      "Running initial clustering …\n",
      "Found 1 cluster\n"
     ]
    },
    {
     "name": "stderr",
     "output_type": "stream",
     "text": [
      "/tmp/ipykernel_32467/2421113483.py:30: RuntimeWarning: Ignoring argument \"tail\", performing 1-tailed F-test\n",
      "  F_obs, clusters, cluster_p_values, H0 = mne.stats.permutation_cluster_test(X)\n"
     ]
    },
    {
     "data": {
      "application/vnd.jupyter.widget-view+json": {
       "model_id": "47e01c110c4a4f43aada38fb67d89bb7",
       "version_major": 2,
       "version_minor": 0
      },
      "text/plain": [
       "  0%|          | Permuting : 0/1023 [00:00<?,       ?it/s]"
      ]
     },
     "metadata": {},
     "output_type": "display_data"
    },
    {
     "name": "stdout",
     "output_type": "stream",
     "text": [
      "[0.73632812]\n",
      "sub: 5.0\n",
      "sub: 6.0\n",
      "sub: 8.0\n",
      "sub: 9.0\n",
      "sub: 11.0\n",
      "sub: 14.0\n",
      "sub: 24.0\n",
      "sub: 25.0\n",
      "sub: 29.0\n",
      "sub: 30.0\n",
      "sub: 31.0\n",
      "sub: 33.0\n",
      "sub: 35.0\n",
      "sub: 38.0\n",
      "sub: 39.0\n",
      "sub: 40.0\n",
      "sub: 41.0\n",
      "sub: 42.0\n",
      "sub: 43.0\n",
      "(19, 3, 2, 27)\n",
      "Using a threshold of 1.882603\n",
      "stat_fun(H1): min=0.365580 max=2.676459\n",
      "Running initial clustering …\n",
      "Found 3 clusters\n"
     ]
    },
    {
     "name": "stderr",
     "output_type": "stream",
     "text": [
      "/tmp/ipykernel_32467/2421113483.py:30: RuntimeWarning: Ignoring argument \"tail\", performing 1-tailed F-test\n",
      "  F_obs, clusters, cluster_p_values, H0 = mne.stats.permutation_cluster_test(X)\n"
     ]
    },
    {
     "data": {
      "application/vnd.jupyter.widget-view+json": {
       "model_id": "6146980ba66049fe86b80b45a84a9d9a",
       "version_major": 2,
       "version_minor": 0
      },
      "text/plain": [
       "  0%|          | Permuting : 0/1023 [00:00<?,       ?it/s]"
      ]
     },
     "metadata": {},
     "output_type": "display_data"
    },
    {
     "name": "stdout",
     "output_type": "stream",
     "text": [
      "[0.88671875 0.36328125 0.47460938]\n",
      "sub: 5.0\n",
      "sub: 6.0\n",
      "sub: 8.0\n",
      "sub: 9.0\n",
      "sub: 11.0\n",
      "sub: 14.0\n",
      "sub: 24.0\n",
      "sub: 25.0\n",
      "sub: 29.0\n",
      "sub: 30.0\n",
      "sub: 31.0\n",
      "sub: 33.0\n",
      "sub: 35.0\n",
      "sub: 38.0\n",
      "sub: 39.0\n",
      "sub: 40.0\n",
      "sub: 41.0\n",
      "sub: 42.0\n",
      "sub: 43.0\n",
      "(19, 3, 2, 27)\n",
      "Using a threshold of 1.882603\n",
      "stat_fun(H1): min=0.410858 max=2.705616\n",
      "Running initial clustering …\n",
      "Found 5 clusters\n"
     ]
    },
    {
     "name": "stderr",
     "output_type": "stream",
     "text": [
      "/tmp/ipykernel_32467/2421113483.py:30: RuntimeWarning: Ignoring argument \"tail\", performing 1-tailed F-test\n",
      "  F_obs, clusters, cluster_p_values, H0 = mne.stats.permutation_cluster_test(X)\n"
     ]
    },
    {
     "data": {
      "application/vnd.jupyter.widget-view+json": {
       "model_id": "084b4a1561af41cd821c9854cb195349",
       "version_major": 2,
       "version_minor": 0
      },
      "text/plain": [
       "  0%|          | Permuting : 0/1023 [00:00<?,       ?it/s]"
      ]
     },
     "metadata": {},
     "output_type": "display_data"
    },
    {
     "name": "stdout",
     "output_type": "stream",
     "text": [
      "[0.36523438 0.81640625 0.90820312 0.5625     0.63378906]\n"
     ]
    }
   ],
   "source": [
    "# # Don't separate by stream\n",
    "# stim_freqs = [130, 200, 280]\n",
    "\n",
    "# for stim_freq in stim_freqs:\n",
    "#     print(f'stim_freq: {stim_freq}')\n",
    "#     # Select data\n",
    "\n",
    "#     stim_spectrums = spectrums[spectrums['stim'] == stim_freq]\n",
    "\n",
    "#     # Average over attended and unattended\n",
    "#     stim_spectrums = stim_spectrums.groupby(['sub', 'freq', 'left_chs', 'stream'], as_index = False)['dB_diff'].mean()\n",
    "\n",
    "#     # Check\n",
    "#     if n_subs != len(stim_spectrums)/n_freqs/n_chans/n_streams:\n",
    "#         raise ValueError('Incorrect number of subjects!')\n",
    "\n",
    "#     X = np.empty((n_subs, n_freqs, n_streams, n_chans))\n",
    "\n",
    "#     # Index into every single value and add to a matrix, so I know exactly where each value is\n",
    "#     for i, sub in enumerate(np.unique(stim_spectrums['sub'])):\n",
    "#         print(f'sub: {sub}')\n",
    "#         for j, freq in enumerate(np.unique(stim_spectrums['freq'])):\n",
    "#             for k, stream in enumerate(np.unique(stim_spectrums['stream'])):\n",
    "#                 for l, ch in enumerate(np.unique(stim_spectrums['left_chs'])):\n",
    "#                     value = stim_spectrums['dB_diff'][(stim_spectrums['sub'] == sub) &\n",
    "#                                          (stim_spectrums['freq'] == freq) &\n",
    "#                                          (stim_spectrums['stream'] == stream) &\n",
    "#                                          (stim_spectrums['left_chs'] == ch)]\n",
    "#                     X[i, j, k, l] = value\n",
    "\n",
    "#     print(np.shape(X))\n",
    "\n",
    "#     F_obs, clusters, cluster_p_values, H0 = mne.stats.permutation_cluster_test(X)\n",
    "#     print(cluster_p_values)"
   ]
  },
  {
   "cell_type": "code",
   "execution_count": null,
   "id": "0f41f641",
   "metadata": {},
   "outputs": [],
   "source": []
  }
 ],
 "metadata": {
  "kernelspec": {
   "display_name": "Python 3 (ipykernel)",
   "language": "python",
   "name": "python3"
  },
  "language_info": {
   "codemirror_mode": {
    "name": "ipython",
    "version": 3
   },
   "file_extension": ".py",
   "mimetype": "text/x-python",
   "name": "python",
   "nbconvert_exporter": "python",
   "pygments_lexer": "ipython3",
   "version": "3.10.4"
  }
 },
 "nbformat": 4,
 "nbformat_minor": 5
}
