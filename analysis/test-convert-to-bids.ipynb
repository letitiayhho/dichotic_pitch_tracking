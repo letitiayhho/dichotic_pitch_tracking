{
 "cells": [
  {
   "cell_type": "code",
   "execution_count": 1,
   "id": "5ee2cc7c",
   "metadata": {},
   "outputs": [],
   "source": [
    "from mne_bids import BIDSPath, write_raw_bids, get_anonymization_daysback\n",
    "import random\n",
    "import pandas as pd\n",
    "import numpy as np\n",
    "import itertools\n",
    "import mne\n",
    "import os\n",
    "import sys\n",
    "import re\n",
    "from util.io.add_stream_to_event_tags import *\n",
    "from util.io.remap_aux_labels import *\n",
    "from util.io.iter_raw_paths import *"
   ]
  },
  {
   "cell_type": "code",
   "execution_count": 3,
   "id": "695812b4",
   "metadata": {},
   "outputs": [],
   "source": [
    "RAW_DIR = '../data/raw/'\n",
    "BIDS_DIR = '../data/bids/'\n",
    "MAPS_DIR = '../data/captrak/'"
   ]
  },
  {
   "cell_type": "code",
   "execution_count": 11,
   "id": "d66ebc2c",
   "metadata": {},
   "outputs": [
    {
     "name": "stdout",
     "output_type": "stream",
     "text": [
      "sub-24.vhdr\n",
      "sub-24.vhdr 24 dichotic 1\n",
      "../data/raw/sub-24.vhdr\n",
      "Extracting parameters from ../data/raw/sub-24.vhdr...\n",
      "Setting channel info structure...\n",
      "Reading 0 ... 17303499  =      0.000 ...  3460.700 secs...\n",
      "Renaming aux channels\n",
      "Add line_freq to raw.info\n",
      "Map channel numbers to channel names\n",
      "Original channel names: ['Ch1', 'Ch2', 'Ch3', 'Ch4', 'Ch5', 'Ch6', 'Ch7', 'Ch8', 'Ch9', 'Ch10', 'Ch11', 'Ch12', 'Ch13', 'Ch14', 'Ch15', 'Ch16', 'Ch17', 'Ch18', 'Ch19', 'Ch20', 'Ch21', 'Ch22', 'Ch23', 'Ch25', 'Ch26', 'Ch27', 'Ch28', 'Ch29', 'Ch30', 'Ch31', 'Ch32', 'Ch33', 'Ch34', 'Ch35', 'Ch36', 'Ch37', 'Ch38', 'Ch39', 'Ch40', 'Ch41', 'Ch42', 'Ch43', 'Ch44', 'Ch45', 'Ch46', 'Ch47', 'Ch48', 'Ch49', 'Ch50', 'Ch51', 'Ch52', 'Ch53', 'Ch54', 'Ch55', 'Ch56', 'Ch57', 'Ch58', 'Ch59', 'Ch60', 'Ch61', 'Ch62', 'Ch63', 'Ch64', 'Left', 'Right']\n",
      "Location for this channel is unknown; consider calling set_montage() again if needed.\n",
      "Channel names: ['Fp1', 'Fz', 'F3', 'F7', 'FT9', 'FC5', 'FC1', 'C3', 'T7', 'TP9', 'CP5', 'CP1', 'Pz', 'P3', 'P7', 'O1', 'Oz', 'O2', 'P4', 'P8', 'TP10', 'CP6', 'CP2', 'C4', 'T8', 'FT10', 'FC6', 'FC2', 'F4', 'F8', 'Fp2', 'leog', 'AF3', 'AFz', 'F1', 'F5', 'FT7', 'FC3', 'C1', 'C5', 'TP7', 'CP3', 'P1', 'P5', 'PO7', 'PO3', 'POz', 'PO4', 'PO8', 'P6', 'P2', 'CPz', 'CP4', 'TP8', 'C6', 'C2', 'FC4', 'FT8', 'F6', 'reog', 'AF4', 'F2', 'FCz', 'Left', 'Right', 'Cz']\n",
      "Channel types: ['eeg', 'eeg', 'eeg', 'eeg', 'eeg', 'eeg', 'eeg', 'eeg', 'eeg', 'eeg', 'eeg', 'eeg', 'eeg', 'eeg', 'eeg', 'eeg', 'eeg', 'eeg', 'eeg', 'eeg', 'eeg', 'eeg', 'eeg', 'eeg', 'eeg', 'eeg', 'eeg', 'eeg', 'eeg', 'eeg', 'eeg', 'eeg', 'eeg', 'eeg', 'eeg', 'eeg', 'eeg', 'eeg', 'eeg', 'eeg', 'eeg', 'eeg', 'eeg', 'eeg', 'eeg', 'eeg', 'eeg', 'eeg', 'eeg', 'eeg', 'eeg', 'eeg', 'eeg', 'eeg', 'eeg', 'eeg', 'eeg', 'eeg', 'eeg', 'eeg', 'eeg', 'eeg', 'eeg', 'stim', 'stim', 'eeg']\n",
      "Number of channels: 66\n",
      "Map channels to their captrak coordinates\n",
      "Looking for captrak file\n",
      "../data/captrak/sub-24.bvct\n",
      "Using captrak file from 24\n",
      "Set annotations\n",
      "Used Annotations descriptions: ['New Segment/', 'Stimulus/S 11', 'Stimulus/S 12', 'Stimulus/S 13', 'Stimulus/S 21', 'Stimulus/S 22', 'Stimulus/S 23', 'Stimulus/S 31', 'Stimulus/S 32', 'Stimulus/S 33']\n"
     ]
    },
    {
     "name": "stderr",
     "output_type": "stream",
     "text": [
      "/tmp/ipykernel_19314/3980103411.py:53: RuntimeWarning: DigMontage is only a subset of info. There are 2 channel positions not present in the DigMontage. The channels missing from the montage are:\n",
      "\n",
      "['leog', 'reog'].\n",
      "\n",
      "Consider using inst.rename_channels to match the montage nomenclature, or inst.set_channel_types if these are not EEG channels, or use the on_missing parameter if the channel positions are allowed to be unknown in your analyses.\n",
      "  raw.set_montage(dig, on_missing = 'warn')\n"
     ]
    },
    {
     "name": "stdout",
     "output_type": "stream",
     "text": [
      "../data/logs/sub-24_blk-2.log\n",
      "../data/logs/sub-24_blk-4.log\n",
      "../data/logs/sub-24_blk-0.log\n",
      "../data/logs/sub-24_blk-1.log\n",
      "../data/logs/sub-24_blk-3.log\n",
      "Successfully matched marks and tags :-)\n",
      "Write data into BIDS directory\n",
      "Writing '../data/bids/participants.tsv'...\n",
      "Writing '../data/bids/participants.json'...\n",
      "Writing '../data/bids/sub-24/eeg/sub-24_space-CapTrak_electrodes.tsv'...\n",
      "Writing '../data/bids/sub-24/eeg/sub-24_space-CapTrak_coordsystem.json'...\n",
      "Used Annotations descriptions: ['111', '112', '113', '121', '122', '123', '131', '132', '133', '211', '212', '213', '221', '222', '223', '231', '232', '233']\n",
      "Writing '../data/bids/sub-24/eeg/sub-24_task-dichotic_run-1_events.tsv'...\n",
      "Writing '../data/bids/dataset_description.json'...\n",
      "Writing '../data/bids/sub-24/eeg/sub-24_task-dichotic_run-1_eeg.json'...\n",
      "Writing '../data/bids/sub-24/eeg/sub-24_task-dichotic_run-1_channels.tsv'...\n",
      "Copying data files to sub-24_task-dichotic_run-1_eeg.vhdr\n"
     ]
    },
    {
     "name": "stderr",
     "output_type": "stream",
     "text": [
      "/tmp/ipykernel_19314/3980103411.py:86: RuntimeWarning: Converting data files to BrainVision format\n",
      "  write_raw_bids(\n"
     ]
    },
    {
     "name": "stdout",
     "output_type": "stream",
     "text": [
      "Writing '../data/bids/sub-24/sub-24_scans.tsv'...\n",
      "Wrote ../data/bids/sub-24/sub-24_scans.tsv entry with eeg/sub-24_task-dichotic_run-1_eeg.vhdr.\n",
      ".vhdr file written? True\n",
      "Done :-)\n",
      "sub-40.vhdr\n",
      "sub-40.vhdr 40 dichotic 1\n",
      "../data/raw/sub-40.vhdr\n",
      "Extracting parameters from ../data/raw/sub-40.vhdr...\n",
      "Setting channel info structure...\n"
     ]
    },
    {
     "name": "stderr",
     "output_type": "stream",
     "text": [
      "/tmp/ipykernel_19314/3980103411.py:7: RuntimeWarning: No coordinate information found for channels ['leog', 'reog', 'Audio', 'Audio2']. Setting channel types to misc. To avoid this warning, set channel types explicitly.\n",
      "  raw = mne.io.read_raw_brainvision(full_fpath)\n",
      "/tmp/ipykernel_19314/3980103411.py:7: RuntimeWarning: Not setting positions of 4 misc channels found in montage:\n",
      "['leog', 'reog', 'Audio', 'Audio2']\n",
      "Consider setting the channel types to be of EEG/sEEG/ECoG/DBS/fNIRS using inst.set_channel_types before calling inst.set_montage, or omit these channels when creating your montage.\n",
      "  raw = mne.io.read_raw_brainvision(full_fpath)\n"
     ]
    },
    {
     "name": "stdout",
     "output_type": "stream",
     "text": [
      "Reading 0 ... 16163699  =      0.000 ...  3232.740 secs...\n",
      "Renaming aux channels\n",
      "Add line_freq to raw.info\n",
      "Map channel numbers to channel names\n",
      "Original channel names: ['Fp1', 'Fz', 'F3', 'F7', 'FT9', 'FC5', 'FC1', 'C3', 'T7', 'TP9', 'CP5', 'CP1', 'Pz', 'P3', 'P7', 'O1', 'Oz', 'O2', 'P4', 'P8', 'TP10', 'CP6', 'CP2', 'C4', 'T8', 'FT10', 'FC6', 'FC2', 'F4', 'F8', 'Fp2', 'leog', 'AF3', 'AFz', 'F1', 'F5', 'FT7', 'FC3', 'C1', 'C5', 'TP7', 'CP3', 'P1', 'P5', 'PO7', 'PO3', 'POz', 'PO4', 'PO8', 'P6', 'P2', 'CPz', 'CP4', 'TP8', 'C6', 'C2', 'FC4', 'FT8', 'F6', 'reog', 'AF4', 'F2', 'FCz', 'Left', 'Right']\n"
     ]
    },
    {
     "name": "stderr",
     "output_type": "stream",
     "text": [
      "/tmp/ipykernel_19314/3980103411.py:14: RuntimeWarning: The unit for channel(s) Left, Right has changed from NA to V.\n",
      "  raw.set_channel_types({'Left': 'stim', 'Right': 'stim'})\n",
      "/tmp/ipykernel_19314/3980103411.py:28: RuntimeWarning: The locations of multiple reference channels are ignored.\n",
      "  raw.add_reference_channels(ref_channels = ['Cz'])\n"
     ]
    },
    {
     "name": "stdout",
     "output_type": "stream",
     "text": [
      "Channel names: ['Fp1', 'Fz', 'F3', 'F7', 'FT9', 'FC5', 'FC1', 'C3', 'T7', 'TP9', 'CP5', 'CP1', 'Pz', 'P3', 'P7', 'O1', 'Oz', 'O2', 'P4', 'P8', 'TP10', 'CP6', 'CP2', 'C4', 'T8', 'FT10', 'FC6', 'FC2', 'F4', 'F8', 'Fp2', 'leog', 'AF3', 'AFz', 'F1', 'F5', 'FT7', 'FC3', 'C1', 'C5', 'TP7', 'CP3', 'P1', 'P5', 'PO7', 'PO3', 'POz', 'PO4', 'PO8', 'P6', 'P2', 'CPz', 'CP4', 'TP8', 'C6', 'C2', 'FC4', 'FT8', 'F6', 'reog', 'AF4', 'F2', 'FCz', 'Left', 'Right', 'Cz']\n",
      "Channel types: ['eeg', 'eeg', 'eeg', 'eeg', 'eeg', 'eeg', 'eeg', 'eeg', 'eeg', 'eeg', 'eeg', 'eeg', 'eeg', 'eeg', 'eeg', 'eeg', 'eeg', 'eeg', 'eeg', 'eeg', 'eeg', 'eeg', 'eeg', 'eeg', 'eeg', 'eeg', 'eeg', 'eeg', 'eeg', 'eeg', 'eeg', 'eeg', 'eeg', 'eeg', 'eeg', 'eeg', 'eeg', 'eeg', 'eeg', 'eeg', 'eeg', 'eeg', 'eeg', 'eeg', 'eeg', 'eeg', 'eeg', 'eeg', 'eeg', 'eeg', 'eeg', 'eeg', 'eeg', 'eeg', 'eeg', 'eeg', 'eeg', 'eeg', 'eeg', 'eeg', 'eeg', 'eeg', 'eeg', 'stim', 'stim', 'eeg']\n",
      "Number of channels: 66\n",
      "Map channels to their captrak coordinates\n",
      "Looking for captrak file\n",
      "../data/captrak/sub-40.bvct\n",
      "Looking for captrak file\n",
      "../data/captrak/sub-3.bvct\n",
      "Looking for captrak file\n",
      "../data/captrak/sub-21.bvct\n",
      "Using captrak file from 21\n",
      "Set annotations\n",
      "Used Annotations descriptions: ['New Segment/', 'Stimulus/S 11', 'Stimulus/S 12', 'Stimulus/S 13', 'Stimulus/S 21', 'Stimulus/S 22', 'Stimulus/S 23', 'Stimulus/S 31', 'Stimulus/S 32', 'Stimulus/S 33']\n",
      "../data/logs/sub-40_blk-3.log\n",
      "../data/logs/sub-40_blk-4.log\n"
     ]
    },
    {
     "name": "stderr",
     "output_type": "stream",
     "text": [
      "/tmp/ipykernel_19314/3980103411.py:32: RuntimeWarning: The unit for channel(s) leog, reog has changed from NA to V.\n",
      "  raw.set_channel_types({'leog': 'eeg', 'reog': 'eeg'})\n",
      "/tmp/ipykernel_19314/3980103411.py:53: RuntimeWarning: DigMontage is only a subset of info. There are 2 channel positions not present in the DigMontage. The channels missing from the montage are:\n",
      "\n",
      "['leog', 'reog'].\n",
      "\n",
      "Consider using inst.rename_channels to match the montage nomenclature, or inst.set_channel_types if these are not EEG channels, or use the on_missing parameter if the channel positions are allowed to be unknown in your analyses.\n",
      "  raw.set_montage(dig, on_missing = 'warn')\n"
     ]
    },
    {
     "name": "stdout",
     "output_type": "stream",
     "text": [
      "../data/logs/sub-40_blk-2.log\n",
      "../data/logs/sub-40_blk-0.log\n",
      "../data/logs/sub-40_blk-1.log\n",
      "Successfully matched marks and tags :-)\n",
      "Write data into BIDS directory\n",
      "Writing '../data/bids/participants.tsv'...\n",
      "Writing '../data/bids/participants.json'...\n",
      "Writing '../data/bids/sub-40/eeg/sub-40_space-CapTrak_electrodes.tsv'...\n",
      "Writing '../data/bids/sub-40/eeg/sub-40_space-CapTrak_coordsystem.json'...\n",
      "Used Annotations descriptions: ['111', '112', '113', '121', '122', '123', '131', '132', '133', '211', '212', '213', '221', '222', '223', '231', '232', '233']\n",
      "Writing '../data/bids/sub-40/eeg/sub-40_task-dichotic_run-1_events.tsv'...\n",
      "Writing '../data/bids/dataset_description.json'...\n",
      "Writing '../data/bids/sub-40/eeg/sub-40_task-dichotic_run-1_eeg.json'...\n",
      "Writing '../data/bids/sub-40/eeg/sub-40_task-dichotic_run-1_channels.tsv'...\n",
      "Copying data files to sub-40_task-dichotic_run-1_eeg.vhdr\n"
     ]
    },
    {
     "name": "stderr",
     "output_type": "stream",
     "text": [
      "/tmp/ipykernel_19314/3980103411.py:86: RuntimeWarning: Converting data files to BrainVision format\n",
      "  write_raw_bids(\n"
     ]
    },
    {
     "name": "stdout",
     "output_type": "stream",
     "text": [
      "Writing '../data/bids/sub-40/sub-40_scans.tsv'...\n",
      "Wrote ../data/bids/sub-40/sub-40_scans.tsv entry with eeg/sub-40_task-dichotic_run-1_eeg.vhdr.\n",
      ".vhdr file written? True\n",
      "Done :-)\n",
      "sub-1.vhdr\n",
      "sub-1.vhdr 1 dichotic 1\n",
      "../data/raw/sub-1.vhdr\n",
      "Extracting parameters from ../data/raw/sub-1.vhdr...\n",
      "Setting channel info structure...\n",
      "Reading 0 ... 3916749  =      0.000 ...   783.350 secs...\n",
      "Renaming aux channels\n"
     ]
    },
    {
     "ename": "ValueError",
     "evalue": "New channel names are not unique, renaming failed",
     "output_type": "error",
     "traceback": [
      "\u001b[0;31m---------------------------------------------------------------------------\u001b[0m",
      "\u001b[0;31mValueError\u001b[0m                                Traceback (most recent call last)",
      "Input \u001b[0;32mIn [11]\u001b[0m, in \u001b[0;36m<cell line: 1>\u001b[0;34m()\u001b[0m\n\u001b[1;32m     11\u001b[0m \u001b[38;5;28mprint\u001b[39m(\u001b[38;5;124m\"\u001b[39m\u001b[38;5;124mRenaming aux channels\u001b[39m\u001b[38;5;124m\"\u001b[39m)\n\u001b[1;32m     12\u001b[0m raw, remap_dict \u001b[38;5;241m=\u001b[39m remap_aux_labels(sub, raw, \u001b[38;5;124m'\u001b[39m\u001b[38;5;124maux-label-remapping.csv\u001b[39m\u001b[38;5;124m'\u001b[39m) \u001b[38;5;66;03m# First number in tag is left channel\u001b[39;00m\n\u001b[0;32m---> 13\u001b[0m \u001b[43mraw\u001b[49m\u001b[38;5;241;43m.\u001b[39;49m\u001b[43mrename_channels\u001b[49m\u001b[43m(\u001b[49m\u001b[43mremap_dict\u001b[49m\u001b[43m)\u001b[49m\n\u001b[1;32m     14\u001b[0m raw\u001b[38;5;241m.\u001b[39mset_channel_types({\u001b[38;5;124m'\u001b[39m\u001b[38;5;124mLeft\u001b[39m\u001b[38;5;124m'\u001b[39m: \u001b[38;5;124m'\u001b[39m\u001b[38;5;124mstim\u001b[39m\u001b[38;5;124m'\u001b[39m, \u001b[38;5;124m'\u001b[39m\u001b[38;5;124mRight\u001b[39m\u001b[38;5;124m'\u001b[39m: \u001b[38;5;124m'\u001b[39m\u001b[38;5;124mstim\u001b[39m\u001b[38;5;124m'\u001b[39m})\n\u001b[1;32m     16\u001b[0m \u001b[38;5;66;03m# add some info BIDS will want\u001b[39;00m\n",
      "File \u001b[0;32m<decorator-gen-48>:12\u001b[0m, in \u001b[0;36mrename_channels\u001b[0;34m(self, mapping, allow_duplicates, verbose)\u001b[0m\n",
      "File \u001b[0;32m~/.conda/envs/pitch-tracking/lib/python3.10/site-packages/mne/channels/channels.py:502\u001b[0m, in \u001b[0;36mSetChannelsMixin.rename_channels\u001b[0;34m(self, mapping, allow_duplicates, verbose)\u001b[0m\n\u001b[1;32m    499\u001b[0m \u001b[38;5;28;01mfrom\u001b[39;00m \u001b[38;5;21;01m.\u001b[39;00m\u001b[38;5;21;01m.\u001b[39;00m\u001b[38;5;21;01mio\u001b[39;00m \u001b[38;5;28;01mimport\u001b[39;00m BaseRaw\n\u001b[1;32m    501\u001b[0m ch_names_orig \u001b[38;5;241m=\u001b[39m \u001b[38;5;28mlist\u001b[39m(\u001b[38;5;28mself\u001b[39m\u001b[38;5;241m.\u001b[39minfo[\u001b[38;5;124m\"\u001b[39m\u001b[38;5;124mch_names\u001b[39m\u001b[38;5;124m\"\u001b[39m])\n\u001b[0;32m--> 502\u001b[0m \u001b[43mrename_channels\u001b[49m\u001b[43m(\u001b[49m\u001b[38;5;28;43mself\u001b[39;49m\u001b[38;5;241;43m.\u001b[39;49m\u001b[43minfo\u001b[49m\u001b[43m,\u001b[49m\u001b[43m \u001b[49m\u001b[43mmapping\u001b[49m\u001b[43m,\u001b[49m\u001b[43m \u001b[49m\u001b[43mallow_duplicates\u001b[49m\u001b[43m)\u001b[49m\n\u001b[1;32m    504\u001b[0m \u001b[38;5;66;03m# Update self._orig_units for Raw\u001b[39;00m\n\u001b[1;32m    505\u001b[0m \u001b[38;5;28;01mif\u001b[39;00m \u001b[38;5;28misinstance\u001b[39m(\u001b[38;5;28mself\u001b[39m, BaseRaw):\n\u001b[1;32m    506\u001b[0m     \u001b[38;5;66;03m# whatever mapping was provided, now we can just use a dict\u001b[39;00m\n",
      "File \u001b[0;32m<decorator-gen-58>:12\u001b[0m, in \u001b[0;36mrename_channels\u001b[0;34m(info, mapping, allow_duplicates, verbose)\u001b[0m\n",
      "File \u001b[0;32m~/.conda/envs/pitch-tracking/lib/python3.10/site-packages/mne/channels/channels.py:1291\u001b[0m, in \u001b[0;36mrename_channels\u001b[0;34m(info, mapping, allow_duplicates, verbose)\u001b[0m\n\u001b[1;32m   1289\u001b[0m \u001b[38;5;66;03m# check that all the channel names are unique\u001b[39;00m\n\u001b[1;32m   1290\u001b[0m \u001b[38;5;28;01mif\u001b[39;00m \u001b[38;5;28mlen\u001b[39m(ch_names) \u001b[38;5;241m!=\u001b[39m \u001b[38;5;28mlen\u001b[39m(np\u001b[38;5;241m.\u001b[39munique(ch_names)) \u001b[38;5;129;01mand\u001b[39;00m \u001b[38;5;129;01mnot\u001b[39;00m allow_duplicates:\n\u001b[0;32m-> 1291\u001b[0m     \u001b[38;5;28;01mraise\u001b[39;00m \u001b[38;5;167;01mValueError\u001b[39;00m(\u001b[38;5;124m\"\u001b[39m\u001b[38;5;124mNew channel names are not unique, renaming failed\u001b[39m\u001b[38;5;124m\"\u001b[39m)\n\u001b[1;32m   1293\u001b[0m \u001b[38;5;66;03m# do the remapping in info\u001b[39;00m\n\u001b[1;32m   1294\u001b[0m info[\u001b[38;5;124m\"\u001b[39m\u001b[38;5;124mbads\u001b[39m\u001b[38;5;124m\"\u001b[39m] \u001b[38;5;241m=\u001b[39m bads\n",
      "\u001b[0;31mValueError\u001b[0m: New channel names are not unique, renaming failed"
     ]
    }
   ],
   "source": [
    "for fpath, sub, task, run in iter_raw_paths(RAW_DIR):\n",
    "    print(fpath, sub, task, run)\n",
    "\n",
    "    # load data with MNE function for your file format\n",
    "    full_fpath = os.path.join(RAW_DIR, fpath)\n",
    "    print(full_fpath)\n",
    "    raw = mne.io.read_raw_brainvision(full_fpath)\n",
    "    raw.load_data()\n",
    "    \n",
    "    # Rename channels according to aux-label-remapping.csv\n",
    "    print(\"Renaming aux channels\")\n",
    "    raw, remap_dict = remap_aux_labels(sub, raw, 'aux-label-remapping.csv') # First number in tag is left channel\n",
    "    raw.rename_channels(remap_dict)\n",
    "    raw.set_channel_types({'Left': 'stim', 'Right': 'stim'})\n",
    "\n",
    "    # add some info BIDS will want\n",
    "    print(\"Add line_freq to raw.info\")\n",
    "    raw.info['line_freq'] = 60 # the power line frequency in the building we collected in\n",
    "\n",
    "    # map channel numbers to channel names\n",
    "    print(\"Map channel numbers to channel names\")\n",
    "    print(f\"Original channel names: {raw.ch_names}\")\n",
    "    if int(sub) < 29:\n",
    "        map_fp = '../data/captrak/pitch_tracking_64_at_FCZ.csv'\n",
    "        mapping_table = pd.read_csv(map_fp)\n",
    "        mapping = {mapping_table.number[i]: mapping_table.name[i] for i in range(len(mapping_table))}\n",
    "        raw.rename_channels(mapping)\n",
    "    raw.add_reference_channels(ref_channels = ['Cz'])\n",
    "    print(f\"Channel names: {raw.ch_names}\")\n",
    "    \n",
    "    # Double check that eog channels are labeled as eeg\n",
    "    raw.set_channel_types({'leog': 'eeg', 'reog': 'eeg'})\n",
    "    print(f\"Channel types: {raw.get_channel_types()}\")\n",
    "    \n",
    "    # Checks\n",
    "    n_channels = len(raw.ch_names)\n",
    "    print(f\"Number of channels: {n_channels}\")\n",
    "    if n_channels != 66:\n",
    "        sys.exit(f\"Incorrect number of channels, there should be 66 (2 aux incl) channels, instead there are {n_chans} channels\")\n",
    "\n",
    "    # Map channels to their coordinates\n",
    "    print(\"Map channels to their captrak coordinates\")\n",
    "    captrak_found = False\n",
    "    captrak_sub = sub\n",
    "\n",
    "    while not captrak_found:\n",
    "        print(\"Looking for captrak file\")\n",
    "        captrak_path = MAPS_DIR + 'sub-' + str(captrak_sub) + '.bvct'\n",
    "        print(captrak_path)\n",
    "        if os.path.isfile(captrak_path):\n",
    "            print(f\"Using captrak file from {captrak_sub}\")\n",
    "            dig = mne.channels.read_dig_captrak(captrak_path)\n",
    "            raw.set_montage(dig, on_missing = 'warn')\n",
    "            captrak_found = True\n",
    "        else:\n",
    "            captrak_sub = random.randint(3, 30)\n",
    "\n",
    "    # Extract events from raw file\n",
    "    print(\"Set annotations\")\n",
    "    events, event_ids = mne.events_from_annotations(raw)\n",
    "\n",
    "    # Add stream to event tags\n",
    "    events = add_stream_to_event_tags(events, sub)\n",
    "\n",
    "    # Drop meaningless event name\n",
    "    events = np.array(events)\n",
    "    events = events[events[:,2] != event_ids['New Segment/'], :]\n",
    "\n",
    "    # Rename events to their stimulus pitch\n",
    "    annot = mne.annotations_from_events(events, sfreq = raw.info['sfreq'])\n",
    "    raw.set_annotations(annot)\n",
    "\n",
    "    # Get range of dates the BIDS specification will accept\n",
    "    daysback_min, daysback_max = get_anonymization_daysback(raw)\n",
    "\n",
    "    # Write data into BIDS directory, while anonymizing\n",
    "    print(\"Write data into BIDS directory\")\n",
    "    bids_path = BIDSPath(\n",
    "            run = run,\n",
    "            subject = sub,\n",
    "            task = task,\n",
    "            datatype = 'eeg',\n",
    "            root = BIDS_DIR\n",
    "    )\n",
    "\n",
    "    write_raw_bids(\n",
    "        raw,\n",
    "        bids_path = bids_path,\n",
    "        allow_preload = True, # whether to load full dataset into memory when copying\n",
    "        format = 'BrainVision', # format to save to\n",
    "        anonymize = dict(daysback = daysback_min), # shift dates by daysback\n",
    "        overwrite = True,\n",
    "    )\n",
    "\n",
    "    # Check if conversion was successful and .vhdr file was written\n",
    "    vhdr_path = str(bids_path)\n",
    "    print(f\".vhdr file written? {os.path.exists(vhdr_path)}\")\n",
    "    print(\"Done :-)\")"
   ]
  },
  {
   "cell_type": "code",
   "execution_count": 12,
   "id": "69838d66",
   "metadata": {},
   "outputs": [
    {
     "data": {
      "text/plain": [
       "['Ch1',\n",
       " 'Ch2',\n",
       " 'Ch3',\n",
       " 'Ch4',\n",
       " 'Ch5',\n",
       " 'Ch6',\n",
       " 'Ch7',\n",
       " 'Ch8',\n",
       " 'Ch9',\n",
       " 'Ch10',\n",
       " 'Ch11',\n",
       " 'Ch12',\n",
       " 'Ch13',\n",
       " 'Ch14',\n",
       " 'Ch15',\n",
       " 'Ch16',\n",
       " 'Ch17',\n",
       " 'Ch18',\n",
       " 'Ch19',\n",
       " 'Ch20',\n",
       " 'Ch21',\n",
       " 'Ch22',\n",
       " 'Ch23',\n",
       " 'Ch25',\n",
       " 'Ch26',\n",
       " 'Ch27',\n",
       " 'Ch28',\n",
       " 'Ch29',\n",
       " 'Ch30',\n",
       " 'Ch31',\n",
       " 'Ch32',\n",
       " 'Ch33',\n",
       " 'Ch34',\n",
       " 'Ch35',\n",
       " 'Ch36',\n",
       " 'Ch37',\n",
       " 'Ch38',\n",
       " 'Ch39',\n",
       " 'Ch40',\n",
       " 'Ch41',\n",
       " 'Ch42',\n",
       " 'Ch43',\n",
       " 'Ch44',\n",
       " 'Ch45',\n",
       " 'Ch46',\n",
       " 'Ch47',\n",
       " 'Ch48',\n",
       " 'Ch49',\n",
       " 'Ch50',\n",
       " 'Ch51',\n",
       " 'Ch52',\n",
       " 'Ch53',\n",
       " 'Ch54',\n",
       " 'Ch55',\n",
       " 'Ch56',\n",
       " 'Ch57',\n",
       " 'Ch58',\n",
       " 'Ch59',\n",
       " 'Ch60',\n",
       " 'Ch61',\n",
       " 'Ch62',\n",
       " 'Ch63',\n",
       " 'Ch64',\n",
       " 'Left',\n",
       " 'Right']"
      ]
     },
     "execution_count": 12,
     "metadata": {},
     "output_type": "execute_result"
    }
   ],
   "source": [
    "raw.ch_names"
   ]
  },
  {
   "cell_type": "code",
   "execution_count": null,
   "id": "61b1070f",
   "metadata": {},
   "outputs": [],
   "source": []
  },
  {
   "cell_type": "code",
   "execution_count": null,
   "id": "df0ef00a",
   "metadata": {},
   "outputs": [],
   "source": []
  },
  {
   "cell_type": "code",
   "execution_count": null,
   "id": "10cec50c",
   "metadata": {},
   "outputs": [],
   "source": []
  },
  {
   "cell_type": "code",
   "execution_count": null,
   "id": "fc71e2b1",
   "metadata": {},
   "outputs": [],
   "source": []
  },
  {
   "cell_type": "code",
   "execution_count": null,
   "id": "2b8b1a0d",
   "metadata": {},
   "outputs": [],
   "source": []
  },
  {
   "cell_type": "code",
   "execution_count": null,
   "id": "5d86d94f",
   "metadata": {},
   "outputs": [],
   "source": []
  },
  {
   "cell_type": "code",
   "execution_count": null,
   "id": "e25b7a3a",
   "metadata": {},
   "outputs": [],
   "source": []
  },
  {
   "cell_type": "code",
   "execution_count": null,
   "id": "8a407604",
   "metadata": {},
   "outputs": [],
   "source": []
  },
  {
   "cell_type": "code",
   "execution_count": null,
   "id": "52d51429",
   "metadata": {},
   "outputs": [],
   "source": []
  }
 ],
 "metadata": {
  "kernelspec": {
   "display_name": "Python 3 (ipykernel)",
   "language": "python",
   "name": "python3"
  },
  "language_info": {
   "codemirror_mode": {
    "name": "ipython",
    "version": 3
   },
   "file_extension": ".py",
   "mimetype": "text/x-python",
   "name": "python",
   "nbconvert_exporter": "python",
   "pygments_lexer": "ipython3",
   "version": "3.10.4"
  }
 },
 "nbformat": 4,
 "nbformat_minor": 5
}
