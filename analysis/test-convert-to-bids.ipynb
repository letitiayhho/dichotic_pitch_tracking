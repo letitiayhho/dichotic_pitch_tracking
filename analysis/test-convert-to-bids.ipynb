{
 "cells": [
  {
   "cell_type": "code",
   "execution_count": 6,
   "id": "5ee2cc7c",
   "metadata": {},
   "outputs": [],
   "source": [
    "from mne_bids import BIDSPath, write_raw_bids, get_anonymization_daysback\n",
    "import random\n",
    "import pandas as pd\n",
    "import numpy as np\n",
    "import itertools\n",
    "import mne\n",
    "import os\n",
    "import sys\n",
    "import re\n",
    "from util.io.add_stream_to_event_tags import *\n",
    "from util.io.remap_aux_labels import *\n",
    "from util.io.iter_raw_paths import *"
   ]
  },
  {
   "cell_type": "code",
   "execution_count": 2,
   "id": "c77b9764",
   "metadata": {},
   "outputs": [],
   "source": [
    "RAW_DIR = '../data/raw/'\n",
    "BIDS_DIR = '../data/bids/'\n",
    "MAPS_DIR = '../data/captrak/'"
   ]
  },
  {
   "cell_type": "code",
   "execution_count": 3,
   "id": "5f8baf28",
   "metadata": {},
   "outputs": [],
   "source": [
    "force = True"
   ]
  },
  {
   "cell_type": "code",
   "execution_count": 8,
   "id": "d66ebc2c",
   "metadata": {},
   "outputs": [
    {
     "name": "stdout",
     "output_type": "stream",
     "text": [
      "sub-24.vhdr\n",
      "sub-24.vhdr 24 dichotic 1\n",
      "sub-40.vhdr\n",
      "sub-40.vhdr 40 dichotic 1\n",
      "../data/raw/sub-40.vhdr\n",
      "Extracting parameters from ../data/raw/sub-40.vhdr...\n",
      "Setting channel info structure...\n"
     ]
    },
    {
     "name": "stderr",
     "output_type": "stream",
     "text": [
      "/tmp/ipykernel_55889/2049025406.py:29: RuntimeWarning: No coordinate information found for channels ['leog', 'reog', 'Audio', 'Audio2']. Setting channel types to misc. To avoid this warning, set channel types explicitly.\n",
      "  raw = mne.io.read_raw_brainvision(full_fpath)\n",
      "/tmp/ipykernel_55889/2049025406.py:29: RuntimeWarning: Not setting positions of 4 misc channels found in montage:\n",
      "['leog', 'reog', 'Audio', 'Audio2']\n",
      "Consider setting the channel types to be of EEG/sEEG/ECoG/DBS/fNIRS using inst.set_channel_types before calling inst.set_montage, or omit these channels when creating your montage.\n",
      "  raw = mne.io.read_raw_brainvision(full_fpath)\n"
     ]
    },
    {
     "name": "stdout",
     "output_type": "stream",
     "text": [
      "Reading 0 ... 16163699  =      0.000 ...  3232.740 secs...\n",
      "Renaming aux channels\n",
      "Add line_freq to raw.info\n",
      "Map channel numbers to channel names\n",
      "Original channel names: ['Fp1', 'Fz', 'F3', 'F7', 'FT9', 'FC5', 'FC1', 'C3', 'T7', 'TP9', 'CP5', 'CP1', 'Pz', 'P3', 'P7', 'O1', 'Oz', 'O2', 'P4', 'P8', 'TP10', 'CP6', 'CP2', 'C4', 'T8', 'FT10', 'FC6', 'FC2', 'F4', 'F8', 'Fp2', 'leog', 'AF3', 'AFz', 'F1', 'F5', 'FT7', 'FC3', 'C1', 'C5', 'TP7', 'CP3', 'P1', 'P5', 'PO7', 'PO3', 'POz', 'PO4', 'PO8', 'P6', 'P2', 'CPz', 'CP4', 'TP8', 'C6', 'C2', 'FC4', 'FT8', 'F6', 'reog', 'AF4', 'F2', 'FCz', 'Left', 'Right']\n"
     ]
    },
    {
     "name": "stderr",
     "output_type": "stream",
     "text": [
      "/tmp/ipykernel_55889/2049025406.py:37: RuntimeWarning: The unit for channel(s) leog, reog has changed from NA to V.\n",
      "  raw.set_channel_types({'leog': 'eeg', 'reog': 'eeg'})\n",
      "/tmp/ipykernel_55889/2049025406.py:51: RuntimeWarning: The locations of multiple reference channels are ignored.\n",
      "  raw.add_reference_channels(ref_channels = ['Cz'])\n"
     ]
    },
    {
     "name": "stdout",
     "output_type": "stream",
     "text": [
      "Channel names: ['Fp1', 'Fz', 'F3', 'F7', 'FT9', 'FC5', 'FC1', 'C3', 'T7', 'TP9', 'CP5', 'CP1', 'Pz', 'P3', 'P7', 'O1', 'Oz', 'O2', 'P4', 'P8', 'TP10', 'CP6', 'CP2', 'C4', 'T8', 'FT10', 'FC6', 'FC2', 'F4', 'F8', 'Fp2', 'leog', 'AF3', 'AFz', 'F1', 'F5', 'FT7', 'FC3', 'C1', 'C5', 'TP7', 'CP3', 'P1', 'P5', 'PO7', 'PO3', 'POz', 'PO4', 'PO8', 'P6', 'P2', 'CPz', 'CP4', 'TP8', 'C6', 'C2', 'FC4', 'FT8', 'F6', 'reog', 'AF4', 'F2', 'FCz', 'Left', 'Right', 'Cz']\n",
      "Number of channels: 66\n",
      "Map channels to their captrak coordinates\n",
      "Looking for captrak file\n",
      "../data/captrak/sub-40.bvct\n",
      "Looking for captrak file\n",
      "../data/captrak/sub-26.bvct\n",
      "Using captrak file from 26\n",
      "Set annotations\n",
      "Used Annotations descriptions: ['New Segment/', 'Stimulus/S 11', 'Stimulus/S 12', 'Stimulus/S 13', 'Stimulus/S 21', 'Stimulus/S 22', 'Stimulus/S 23', 'Stimulus/S 31', 'Stimulus/S 32', 'Stimulus/S 33']\n"
     ]
    },
    {
     "name": "stderr",
     "output_type": "stream",
     "text": [
      "/tmp/ipykernel_55889/2049025406.py:72: RuntimeWarning: DigMontage is only a subset of info. There are 2 channel positions not present in the DigMontage. The required channels are:\n",
      "\n",
      "['leog', 'reog'].\n",
      "\n",
      "Consider using inst.set_channel_types if these are not EEG channels, or use the on_missing parameter if the channel positions are allowed to be unknown in your analyses.\n",
      "  raw.set_montage(dig, on_missing = 'warn')\n"
     ]
    },
    {
     "name": "stdout",
     "output_type": "stream",
     "text": [
      "../data/logs/sub-40_blk-3.log\n",
      "../data/logs/sub-40_blk-4.log\n",
      "../data/logs/sub-40_blk-2.log\n",
      "../data/logs/sub-40_blk-0.log\n",
      "../data/logs/sub-40_blk-1.log\n",
      "Successfully matched marks and tags :-)\n",
      "Write data into BIDS directory\n",
      "Writing '../data/bids/participants.tsv'...\n",
      "Writing '../data/bids/participants.json'...\n",
      "Writing '../data/bids/sub-40/eeg/sub-40_space-CapTrak_electrodes.tsv'...\n",
      "Writing '../data/bids/sub-40/eeg/sub-40_space-CapTrak_coordsystem.json'...\n",
      "Used Annotations descriptions: ['111', '112', '113', '121', '122', '123', '131', '132', '133', '211', '212', '213', '221', '222', '223', '231', '232', '233']\n",
      "Writing '../data/bids/sub-40/eeg/sub-40_task-dichotic_run-1_events.tsv'...\n",
      "Writing '../data/bids/dataset_description.json'...\n",
      "Writing '../data/bids/sub-40/eeg/sub-40_task-dichotic_run-1_eeg.json'...\n",
      "Writing '../data/bids/sub-40/eeg/sub-40_task-dichotic_run-1_channels.tsv'...\n",
      "Copying data files to sub-40_task-dichotic_run-1_eeg.vhdr\n"
     ]
    },
    {
     "name": "stderr",
     "output_type": "stream",
     "text": [
      "/tmp/ipykernel_55889/2049025406.py:97: RuntimeWarning: Converting data files to BrainVision format\n",
      "  write_raw_bids(\n",
      "/home/letitiayhho/.conda/envs/pitch-tracking/lib/python3.10/site-packages/pybv/io.py:394: UserWarning: Encountered unsupported non-voltage units: n/a\n",
      "Note that the BrainVision format specification supports only µV.\n",
      "  warn(msg)\n"
     ]
    },
    {
     "name": "stdout",
     "output_type": "stream",
     "text": [
      "Writing '../data/bids/sub-40/sub-40_scans.tsv'...\n",
      "Wrote ../data/bids/sub-40/sub-40_scans.tsv entry with eeg/sub-40_task-dichotic_run-1_eeg.vhdr.\n",
      ".vhdr file written? True\n",
      "Done :-)\n",
      "sub-1.vhdr\n",
      "sub-1.vhdr 1 dichotic 1\n",
      "sub-20.vhdr\n",
      "sub-20.vhdr 20 dichotic 1\n",
      "sub-41.vhdr\n",
      "sub-41.vhdr 41 dichotic 1\n",
      "../data/raw/sub-41.vhdr\n",
      "Extracting parameters from ../data/raw/sub-41.vhdr...\n",
      "Setting channel info structure...\n"
     ]
    },
    {
     "name": "stderr",
     "output_type": "stream",
     "text": [
      "/tmp/ipykernel_55889/2049025406.py:29: RuntimeWarning: No coordinate information found for channels ['leog', 'reog', 'right', 'left']. Setting channel types to misc. To avoid this warning, set channel types explicitly.\n",
      "  raw = mne.io.read_raw_brainvision(full_fpath)\n",
      "/tmp/ipykernel_55889/2049025406.py:29: RuntimeWarning: Not setting positions of 4 misc channels found in montage:\n",
      "['leog', 'reog', 'right', 'left']\n",
      "Consider setting the channel types to be of EEG/sEEG/ECoG/DBS/fNIRS using inst.set_channel_types before calling inst.set_montage, or omit these channels when creating your montage.\n",
      "  raw = mne.io.read_raw_brainvision(full_fpath)\n"
     ]
    },
    {
     "name": "stdout",
     "output_type": "stream",
     "text": [
      "Reading 0 ... 16341299  =      0.000 ...  3268.260 secs...\n",
      "Renaming aux channels\n",
      "Add line_freq to raw.info\n",
      "Map channel numbers to channel names\n",
      "Original channel names: ['Fp1', 'Fz', 'F3', 'F7', 'FT9', 'FC5', 'FC1', 'C3', 'T7', 'TP9', 'CP5', 'CP1', 'Pz', 'P3', 'P7', 'O1', 'Oz', 'O2', 'P4', 'P8', 'TP10', 'CP6', 'CP2', 'C4', 'T8', 'FT10', 'FC6', 'FC2', 'F4', 'F8', 'Fp2', 'leog', 'AF3', 'AFz', 'F1', 'F5', 'FT7', 'FC3', 'C1', 'C5', 'TP7', 'CP3', 'P1', 'P5', 'PO7', 'PO3', 'POz', 'PO4', 'PO8', 'P6', 'P2', 'CPz', 'CP4', 'TP8', 'C6', 'C2', 'FC4', 'FT8', 'F6', 'reog', 'AF4', 'F2', 'FCz', 'Left', 'Right']\n"
     ]
    },
    {
     "name": "stderr",
     "output_type": "stream",
     "text": [
      "/tmp/ipykernel_55889/2049025406.py:37: RuntimeWarning: The unit for channel(s) leog, reog has changed from NA to V.\n",
      "  raw.set_channel_types({'leog': 'eeg', 'reog': 'eeg'})\n",
      "/tmp/ipykernel_55889/2049025406.py:51: RuntimeWarning: The locations of multiple reference channels are ignored.\n",
      "  raw.add_reference_channels(ref_channels = ['Cz'])\n"
     ]
    },
    {
     "name": "stdout",
     "output_type": "stream",
     "text": [
      "Channel names: ['Fp1', 'Fz', 'F3', 'F7', 'FT9', 'FC5', 'FC1', 'C3', 'T7', 'TP9', 'CP5', 'CP1', 'Pz', 'P3', 'P7', 'O1', 'Oz', 'O2', 'P4', 'P8', 'TP10', 'CP6', 'CP2', 'C4', 'T8', 'FT10', 'FC6', 'FC2', 'F4', 'F8', 'Fp2', 'leog', 'AF3', 'AFz', 'F1', 'F5', 'FT7', 'FC3', 'C1', 'C5', 'TP7', 'CP3', 'P1', 'P5', 'PO7', 'PO3', 'POz', 'PO4', 'PO8', 'P6', 'P2', 'CPz', 'CP4', 'TP8', 'C6', 'C2', 'FC4', 'FT8', 'F6', 'reog', 'AF4', 'F2', 'FCz', 'Left', 'Right', 'Cz']\n",
      "Number of channels: 66\n",
      "Map channels to their captrak coordinates\n",
      "Looking for captrak file\n",
      "../data/captrak/sub-41.bvct\n",
      "Looking for captrak file\n",
      "../data/captrak/sub-9.bvct\n",
      "Using captrak file from 9\n",
      "Set annotations\n",
      "Used Annotations descriptions: ['New Segment/', 'Stimulus/S 11', 'Stimulus/S 12', 'Stimulus/S 13', 'Stimulus/S 21', 'Stimulus/S 22', 'Stimulus/S 23', 'Stimulus/S 31', 'Stimulus/S 32', 'Stimulus/S 33']\n",
      "../data/logs/sub-41_blk-4.log\n"
     ]
    },
    {
     "name": "stderr",
     "output_type": "stream",
     "text": [
      "/tmp/ipykernel_55889/2049025406.py:72: RuntimeWarning: DigMontage is only a subset of info. There are 2 channel positions not present in the DigMontage. The required channels are:\n",
      "\n",
      "['leog', 'reog'].\n",
      "\n",
      "Consider using inst.set_channel_types if these are not EEG channels, or use the on_missing parameter if the channel positions are allowed to be unknown in your analyses.\n",
      "  raw.set_montage(dig, on_missing = 'warn')\n"
     ]
    },
    {
     "name": "stdout",
     "output_type": "stream",
     "text": [
      "../data/logs/sub-41_blk-0.log\n",
      "../data/logs/sub-41_blk-3.log\n",
      "../data/logs/sub-41_blk-2.log\n",
      "../data/logs/sub-41_blk-1.log\n",
      "Successfully matched marks and tags :-)\n",
      "Write data into BIDS directory\n",
      "Writing '../data/bids/participants.tsv'...\n",
      "Writing '../data/bids/participants.json'...\n",
      "Writing '../data/bids/sub-41/eeg/sub-41_space-CapTrak_electrodes.tsv'...\n",
      "Writing '../data/bids/sub-41/eeg/sub-41_space-CapTrak_coordsystem.json'...\n",
      "Used Annotations descriptions: ['111', '112', '113', '121', '122', '123', '131', '132', '133', '211', '212', '213', '221', '222', '223', '231', '232', '233']\n",
      "Writing '../data/bids/sub-41/eeg/sub-41_task-dichotic_run-1_events.tsv'...\n",
      "Writing '../data/bids/dataset_description.json'...\n",
      "Writing '../data/bids/sub-41/eeg/sub-41_task-dichotic_run-1_eeg.json'...\n",
      "Writing '../data/bids/sub-41/eeg/sub-41_task-dichotic_run-1_channels.tsv'...\n",
      "Copying data files to sub-41_task-dichotic_run-1_eeg.vhdr\n"
     ]
    },
    {
     "name": "stderr",
     "output_type": "stream",
     "text": [
      "/tmp/ipykernel_55889/2049025406.py:97: RuntimeWarning: Converting data files to BrainVision format\n",
      "  write_raw_bids(\n",
      "/home/letitiayhho/.conda/envs/pitch-tracking/lib/python3.10/site-packages/pybv/io.py:394: UserWarning: Encountered unsupported non-voltage units: n/a\n",
      "Note that the BrainVision format specification supports only µV.\n",
      "  warn(msg)\n"
     ]
    },
    {
     "name": "stdout",
     "output_type": "stream",
     "text": [
      "Writing '../data/bids/sub-41/sub-41_scans.tsv'...\n",
      "Wrote ../data/bids/sub-41/sub-41_scans.tsv entry with eeg/sub-41_task-dichotic_run-1_eeg.vhdr.\n",
      ".vhdr file written? True\n",
      "Done :-)\n",
      "sub-30.vhdr\n",
      "sub-30.vhdr 30 dichotic 1\n",
      "../data/raw/sub-30.vhdr\n",
      "Extracting parameters from ../data/raw/sub-30.vhdr...\n",
      "Setting channel info structure...\n"
     ]
    },
    {
     "name": "stderr",
     "output_type": "stream",
     "text": [
      "/tmp/ipykernel_55889/2049025406.py:29: RuntimeWarning: No coordinate information found for channels ['leog', 'reog', 'Audio', 'Audio2']. Setting channel types to misc. To avoid this warning, set channel types explicitly.\n",
      "  raw = mne.io.read_raw_brainvision(full_fpath)\n",
      "/tmp/ipykernel_55889/2049025406.py:29: RuntimeWarning: Not setting positions of 4 misc channels found in montage:\n",
      "['leog', 'reog', 'Audio', 'Audio2']\n",
      "Consider setting the channel types to be of EEG/sEEG/ECoG/DBS/fNIRS using inst.set_channel_types before calling inst.set_montage, or omit these channels when creating your montage.\n",
      "  raw = mne.io.read_raw_brainvision(full_fpath)\n"
     ]
    },
    {
     "name": "stdout",
     "output_type": "stream",
     "text": [
      "Reading 0 ... 20922699  =      0.000 ...  4184.540 secs...\n",
      "Renaming aux channels\n",
      "Add line_freq to raw.info\n",
      "Map channel numbers to channel names\n",
      "Original channel names: ['Fp1', 'Fz', 'F3', 'F7', 'FT9', 'FC5', 'FC1', 'C3', 'T7', 'TP9', 'CP5', 'CP1', 'Pz', 'P3', 'P7', 'O1', 'Oz', 'O2', 'P4', 'P8', 'TP10', 'CP6', 'CP2', 'C4', 'T8', 'FT10', 'FC6', 'FC2', 'F4', 'F8', 'Fp2', 'leog', 'AF3', 'AFz', 'F1', 'F5', 'FT7', 'FC3', 'C1', 'C5', 'TP7', 'CP3', 'P1', 'P5', 'PO7', 'PO3', 'POz', 'PO4', 'PO8', 'P6', 'P2', 'CPz', 'CP4', 'TP8', 'C6', 'C2', 'FC4', 'FT8', 'F6', 'reog', 'AF4', 'F2', 'FCz', 'Left', 'Right']\n"
     ]
    },
    {
     "name": "stderr",
     "output_type": "stream",
     "text": [
      "/tmp/ipykernel_55889/2049025406.py:37: RuntimeWarning: The unit for channel(s) leog, reog has changed from NA to V.\n",
      "  raw.set_channel_types({'leog': 'eeg', 'reog': 'eeg'})\n",
      "/tmp/ipykernel_55889/2049025406.py:51: RuntimeWarning: The locations of multiple reference channels are ignored.\n",
      "  raw.add_reference_channels(ref_channels = ['Cz'])\n"
     ]
    },
    {
     "name": "stdout",
     "output_type": "stream",
     "text": [
      "Channel names: ['Fp1', 'Fz', 'F3', 'F7', 'FT9', 'FC5', 'FC1', 'C3', 'T7', 'TP9', 'CP5', 'CP1', 'Pz', 'P3', 'P7', 'O1', 'Oz', 'O2', 'P4', 'P8', 'TP10', 'CP6', 'CP2', 'C4', 'T8', 'FT10', 'FC6', 'FC2', 'F4', 'F8', 'Fp2', 'leog', 'AF3', 'AFz', 'F1', 'F5', 'FT7', 'FC3', 'C1', 'C5', 'TP7', 'CP3', 'P1', 'P5', 'PO7', 'PO3', 'POz', 'PO4', 'PO8', 'P6', 'P2', 'CPz', 'CP4', 'TP8', 'C6', 'C2', 'FC4', 'FT8', 'F6', 'reog', 'AF4', 'F2', 'FCz', 'Left', 'Right', 'Cz']\n",
      "Number of channels: 66\n",
      "Map channels to their captrak coordinates\n",
      "Looking for captrak file\n",
      "../data/captrak/sub-30.bvct\n",
      "Looking for captrak file\n",
      "../data/captrak/sub-30.bvct\n",
      "Looking for captrak file\n",
      "../data/captrak/sub-21.bvct\n",
      "Using captrak file from 21\n",
      "Set annotations\n",
      "Used Annotations descriptions: ['New Segment/', 'Stimulus/S 11', 'Stimulus/S 12', 'Stimulus/S 13', 'Stimulus/S 21', 'Stimulus/S 22', 'Stimulus/S 23', 'Stimulus/S 31', 'Stimulus/S 32', 'Stimulus/S 33']\n",
      "../data/logs/sub-30_blk-0.log\n"
     ]
    },
    {
     "name": "stderr",
     "output_type": "stream",
     "text": [
      "/tmp/ipykernel_55889/2049025406.py:72: RuntimeWarning: DigMontage is only a subset of info. There are 2 channel positions not present in the DigMontage. The required channels are:\n",
      "\n",
      "['leog', 'reog'].\n",
      "\n",
      "Consider using inst.set_channel_types if these are not EEG channels, or use the on_missing parameter if the channel positions are allowed to be unknown in your analyses.\n",
      "  raw.set_montage(dig, on_missing = 'warn')\n"
     ]
    },
    {
     "name": "stdout",
     "output_type": "stream",
     "text": [
      "../data/logs/sub-30_blk-3.log\n",
      "../data/logs/sub-30_blk-5.log\n",
      "../data/logs/sub-30_blk-1.log\n",
      "../data/logs/sub-30_blk-4.log\n",
      "../data/logs/sub-30_blk-2.log\n",
      "Successfully matched marks and tags :-)\n",
      "Write data into BIDS directory\n",
      "Writing '../data/bids/participants.tsv'...\n",
      "Writing '../data/bids/participants.json'...\n",
      "Writing '../data/bids/sub-30/eeg/sub-30_space-CapTrak_electrodes.tsv'...\n",
      "Writing '../data/bids/sub-30/eeg/sub-30_space-CapTrak_coordsystem.json'...\n",
      "Used Annotations descriptions: ['111', '112', '113', '121', '122', '123', '131', '132', '133', '211', '212', '213', '221', '222', '223', '231', '232', '233']\n",
      "Writing '../data/bids/sub-30/eeg/sub-30_task-dichotic_run-1_events.tsv'...\n",
      "Writing '../data/bids/dataset_description.json'...\n",
      "Writing '../data/bids/sub-30/eeg/sub-30_task-dichotic_run-1_eeg.json'...\n",
      "Writing '../data/bids/sub-30/eeg/sub-30_task-dichotic_run-1_channels.tsv'...\n",
      "Copying data files to sub-30_task-dichotic_run-1_eeg.vhdr\n"
     ]
    },
    {
     "name": "stderr",
     "output_type": "stream",
     "text": [
      "/tmp/ipykernel_55889/2049025406.py:97: RuntimeWarning: Converting data files to BrainVision format\n",
      "  write_raw_bids(\n",
      "/home/letitiayhho/.conda/envs/pitch-tracking/lib/python3.10/site-packages/pybv/io.py:394: UserWarning: Encountered unsupported non-voltage units: n/a\n",
      "Note that the BrainVision format specification supports only µV.\n",
      "  warn(msg)\n"
     ]
    },
    {
     "name": "stdout",
     "output_type": "stream",
     "text": [
      "Writing '../data/bids/sub-30/sub-30_scans.tsv'...\n",
      "Wrote ../data/bids/sub-30/sub-30_scans.tsv entry with eeg/sub-30_task-dichotic_run-1_eeg.vhdr.\n",
      ".vhdr file written? True\n",
      "Done :-)\n",
      "sub-6.vhdr\n",
      "sub-6.vhdr 6 dichotic 1\n",
      "sub-42.vhdr\n",
      "sub-42.vhdr 42 dichotic 1\n",
      "../data/raw/sub-42.vhdr\n",
      "Extracting parameters from ../data/raw/sub-42.vhdr...\n",
      "Setting channel info structure...\n"
     ]
    },
    {
     "name": "stderr",
     "output_type": "stream",
     "text": [
      "/tmp/ipykernel_55889/2049025406.py:29: RuntimeWarning: No coordinate information found for channels ['leog', 'reog', 'right', 'left']. Setting channel types to misc. To avoid this warning, set channel types explicitly.\n",
      "  raw = mne.io.read_raw_brainvision(full_fpath)\n",
      "/tmp/ipykernel_55889/2049025406.py:29: RuntimeWarning: Not setting positions of 4 misc channels found in montage:\n",
      "['leog', 'reog', 'right', 'left']\n",
      "Consider setting the channel types to be of EEG/sEEG/ECoG/DBS/fNIRS using inst.set_channel_types before calling inst.set_montage, or omit these channels when creating your montage.\n",
      "  raw = mne.io.read_raw_brainvision(full_fpath)\n"
     ]
    },
    {
     "name": "stdout",
     "output_type": "stream",
     "text": [
      "Reading 0 ... 17261399  =      0.000 ...  3452.280 secs...\n",
      "Renaming aux channels\n",
      "Add line_freq to raw.info\n",
      "Map channel numbers to channel names\n",
      "Original channel names: ['Fp1', 'Fz', 'F3', 'F7', 'FT9', 'FC5', 'FC1', 'C3', 'T7', 'TP9', 'CP5', 'CP1', 'Pz', 'P3', 'P7', 'O1', 'Oz', 'O2', 'P4', 'P8', 'TP10', 'CP6', 'CP2', 'C4', 'T8', 'FT10', 'FC6', 'FC2', 'F4', 'F8', 'Fp2', 'leog', 'AF3', 'AFz', 'F1', 'F5', 'FT7', 'FC3', 'C1', 'C5', 'TP7', 'CP3', 'P1', 'P5', 'PO7', 'PO3', 'POz', 'PO4', 'PO8', 'P6', 'P2', 'CPz', 'CP4', 'TP8', 'C6', 'C2', 'FC4', 'FT8', 'F6', 'reog', 'AF4', 'F2', 'FCz', 'Left', 'Right']\n"
     ]
    },
    {
     "name": "stderr",
     "output_type": "stream",
     "text": [
      "/tmp/ipykernel_55889/2049025406.py:37: RuntimeWarning: The unit for channel(s) leog, reog has changed from NA to V.\n",
      "  raw.set_channel_types({'leog': 'eeg', 'reog': 'eeg'})\n",
      "/tmp/ipykernel_55889/2049025406.py:51: RuntimeWarning: The locations of multiple reference channels are ignored.\n",
      "  raw.add_reference_channels(ref_channels = ['Cz'])\n"
     ]
    },
    {
     "name": "stdout",
     "output_type": "stream",
     "text": [
      "Channel names: ['Fp1', 'Fz', 'F3', 'F7', 'FT9', 'FC5', 'FC1', 'C3', 'T7', 'TP9', 'CP5', 'CP1', 'Pz', 'P3', 'P7', 'O1', 'Oz', 'O2', 'P4', 'P8', 'TP10', 'CP6', 'CP2', 'C4', 'T8', 'FT10', 'FC6', 'FC2', 'F4', 'F8', 'Fp2', 'leog', 'AF3', 'AFz', 'F1', 'F5', 'FT7', 'FC3', 'C1', 'C5', 'TP7', 'CP3', 'P1', 'P5', 'PO7', 'PO3', 'POz', 'PO4', 'PO8', 'P6', 'P2', 'CPz', 'CP4', 'TP8', 'C6', 'C2', 'FC4', 'FT8', 'F6', 'reog', 'AF4', 'F2', 'FCz', 'Left', 'Right', 'Cz']\n",
      "Number of channels: 66\n",
      "Map channels to their captrak coordinates\n",
      "Looking for captrak file\n",
      "../data/captrak/sub-42.bvct\n",
      "Looking for captrak file\n",
      "../data/captrak/sub-28.bvct\n",
      "Using captrak file from 28\n",
      "Set annotations\n",
      "Used Annotations descriptions: ['New Segment/', 'Stimulus/S 11', 'Stimulus/S 12', 'Stimulus/S 13', 'Stimulus/S 21', 'Stimulus/S 22', 'Stimulus/S 23', 'Stimulus/S 31', 'Stimulus/S 32', 'Stimulus/S 33']\n",
      "../data/logs/sub-42_blk-0.log\n",
      "../data/logs/sub-42_blk-1.log\n",
      "../data/logs/sub-42_blk-2.log\n"
     ]
    },
    {
     "name": "stderr",
     "output_type": "stream",
     "text": [
      "/tmp/ipykernel_55889/2049025406.py:72: RuntimeWarning: DigMontage is only a subset of info. There are 2 channel positions not present in the DigMontage. The required channels are:\n",
      "\n",
      "['leog', 'reog'].\n",
      "\n",
      "Consider using inst.set_channel_types if these are not EEG channels, or use the on_missing parameter if the channel positions are allowed to be unknown in your analyses.\n",
      "  raw.set_montage(dig, on_missing = 'warn')\n"
     ]
    },
    {
     "name": "stdout",
     "output_type": "stream",
     "text": [
      "../data/logs/sub-42_blk-5.log\n",
      "../data/logs/sub-42_blk-4.log\n",
      "../data/logs/sub-42_blk-3.log\n",
      "Successfully matched marks and tags :-)\n",
      "Write data into BIDS directory\n",
      "Writing '../data/bids/participants.tsv'...\n",
      "Writing '../data/bids/participants.json'...\n",
      "Writing '../data/bids/sub-42/eeg/sub-42_space-CapTrak_electrodes.tsv'...\n",
      "Writing '../data/bids/sub-42/eeg/sub-42_space-CapTrak_coordsystem.json'...\n",
      "Used Annotations descriptions: ['111', '112', '113', '121', '122', '123', '131', '132', '133', '211', '212', '213', '221', '222', '223', '231', '232', '233']\n",
      "Writing '../data/bids/sub-42/eeg/sub-42_task-dichotic_run-1_events.tsv'...\n",
      "Writing '../data/bids/dataset_description.json'...\n",
      "Writing '../data/bids/sub-42/eeg/sub-42_task-dichotic_run-1_eeg.json'...\n",
      "Writing '../data/bids/sub-42/eeg/sub-42_task-dichotic_run-1_channels.tsv'...\n",
      "Copying data files to sub-42_task-dichotic_run-1_eeg.vhdr\n"
     ]
    },
    {
     "name": "stderr",
     "output_type": "stream",
     "text": [
      "/tmp/ipykernel_55889/2049025406.py:97: RuntimeWarning: Converting data files to BrainVision format\n",
      "  write_raw_bids(\n",
      "/home/letitiayhho/.conda/envs/pitch-tracking/lib/python3.10/site-packages/pybv/io.py:394: UserWarning: Encountered unsupported non-voltage units: n/a\n",
      "Note that the BrainVision format specification supports only µV.\n",
      "  warn(msg)\n"
     ]
    },
    {
     "name": "stdout",
     "output_type": "stream",
     "text": [
      "Writing '../data/bids/sub-42/sub-42_scans.tsv'...\n",
      "Wrote ../data/bids/sub-42/sub-42_scans.tsv entry with eeg/sub-42_task-dichotic_run-1_eeg.vhdr.\n",
      ".vhdr file written? True\n",
      "Done :-)\n",
      "sub-38.vhdr\n",
      "sub-38.vhdr 38 dichotic 1\n",
      "../data/raw/sub-38.vhdr\n",
      "Extracting parameters from ../data/raw/sub-38.vhdr...\n",
      "Setting channel info structure...\n"
     ]
    },
    {
     "name": "stderr",
     "output_type": "stream",
     "text": [
      "/tmp/ipykernel_55889/2049025406.py:29: RuntimeWarning: No coordinate information found for channels ['leog', 'reog', 'Audio', 'Audio2']. Setting channel types to misc. To avoid this warning, set channel types explicitly.\n",
      "  raw = mne.io.read_raw_brainvision(full_fpath)\n",
      "/tmp/ipykernel_55889/2049025406.py:29: RuntimeWarning: Not setting positions of 4 misc channels found in montage:\n",
      "['leog', 'reog', 'Audio', 'Audio2']\n",
      "Consider setting the channel types to be of EEG/sEEG/ECoG/DBS/fNIRS using inst.set_channel_types before calling inst.set_montage, or omit these channels when creating your montage.\n",
      "  raw = mne.io.read_raw_brainvision(full_fpath)\n"
     ]
    },
    {
     "name": "stdout",
     "output_type": "stream",
     "text": [
      "Reading 0 ... 18886199  =      0.000 ...  3777.240 secs...\n",
      "Renaming aux channels\n",
      "Add line_freq to raw.info\n",
      "Map channel numbers to channel names\n",
      "Original channel names: ['Fp1', 'Fz', 'F3', 'F7', 'FT9', 'FC5', 'FC1', 'C3', 'T7', 'TP9', 'CP5', 'CP1', 'Pz', 'P3', 'P7', 'O1', 'Oz', 'O2', 'P4', 'P8', 'TP10', 'CP6', 'CP2', 'C4', 'T8', 'FT10', 'FC6', 'FC2', 'F4', 'F8', 'Fp2', 'leog', 'AF3', 'AFz', 'F1', 'F5', 'FT7', 'FC3', 'C1', 'C5', 'TP7', 'CP3', 'P1', 'P5', 'PO7', 'PO3', 'POz', 'PO4', 'PO8', 'P6', 'P2', 'CPz', 'CP4', 'TP8', 'C6', 'C2', 'FC4', 'FT8', 'F6', 'reog', 'AF4', 'F2', 'FCz', 'Left', 'Right']\n"
     ]
    },
    {
     "name": "stderr",
     "output_type": "stream",
     "text": [
      "/tmp/ipykernel_55889/2049025406.py:37: RuntimeWarning: The unit for channel(s) leog, reog has changed from NA to V.\n",
      "  raw.set_channel_types({'leog': 'eeg', 'reog': 'eeg'})\n",
      "/tmp/ipykernel_55889/2049025406.py:51: RuntimeWarning: The locations of multiple reference channels are ignored.\n",
      "  raw.add_reference_channels(ref_channels = ['Cz'])\n"
     ]
    },
    {
     "name": "stdout",
     "output_type": "stream",
     "text": [
      "Channel names: ['Fp1', 'Fz', 'F3', 'F7', 'FT9', 'FC5', 'FC1', 'C3', 'T7', 'TP9', 'CP5', 'CP1', 'Pz', 'P3', 'P7', 'O1', 'Oz', 'O2', 'P4', 'P8', 'TP10', 'CP6', 'CP2', 'C4', 'T8', 'FT10', 'FC6', 'FC2', 'F4', 'F8', 'Fp2', 'leog', 'AF3', 'AFz', 'F1', 'F5', 'FT7', 'FC3', 'C1', 'C5', 'TP7', 'CP3', 'P1', 'P5', 'PO7', 'PO3', 'POz', 'PO4', 'PO8', 'P6', 'P2', 'CPz', 'CP4', 'TP8', 'C6', 'C2', 'FC4', 'FT8', 'F6', 'reog', 'AF4', 'F2', 'FCz', 'Left', 'Right', 'Cz']\n",
      "Number of channels: 66\n",
      "Map channels to their captrak coordinates\n",
      "Looking for captrak file\n",
      "../data/captrak/sub-38.bvct\n",
      "Looking for captrak file\n",
      "../data/captrak/sub-23.bvct\n",
      "Using captrak file from 23\n",
      "Set annotations\n",
      "Used Annotations descriptions: ['New Segment/', 'Stimulus/S 11', 'Stimulus/S 12', 'Stimulus/S 13', 'Stimulus/S 21', 'Stimulus/S 22', 'Stimulus/S 23', 'Stimulus/S 31', 'Stimulus/S 32', 'Stimulus/S 33']\n"
     ]
    },
    {
     "name": "stderr",
     "output_type": "stream",
     "text": [
      "/tmp/ipykernel_55889/2049025406.py:72: RuntimeWarning: DigMontage is only a subset of info. There are 2 channel positions not present in the DigMontage. The required channels are:\n",
      "\n",
      "['leog', 'reog'].\n",
      "\n",
      "Consider using inst.set_channel_types if these are not EEG channels, or use the on_missing parameter if the channel positions are allowed to be unknown in your analyses.\n",
      "  raw.set_montage(dig, on_missing = 'warn')\n"
     ]
    },
    {
     "name": "stdout",
     "output_type": "stream",
     "text": [
      "../data/logs/sub-38_blk-0.log\n",
      "../data/logs/sub-38_blk-4.log\n",
      "../data/logs/sub-38_blk-1.log\n",
      "../data/logs/sub-38_blk-2.log\n",
      "../data/logs/sub-38_blk-3.log\n",
      "../data/logs/sub-38_blk-5.log\n",
      "Successfully matched marks and tags :-)\n",
      "Write data into BIDS directory\n",
      "Writing '../data/bids/participants.tsv'...\n",
      "Writing '../data/bids/participants.json'...\n",
      "Writing '../data/bids/sub-38/eeg/sub-38_space-CapTrak_electrodes.tsv'...\n",
      "Writing '../data/bids/sub-38/eeg/sub-38_space-CapTrak_coordsystem.json'...\n",
      "Used Annotations descriptions: ['111', '112', '113', '121', '122', '123', '131', '132', '133', '211', '212', '213', '221', '222', '223', '231', '232', '233']\n",
      "Writing '../data/bids/sub-38/eeg/sub-38_task-dichotic_run-1_events.tsv'...\n",
      "Writing '../data/bids/dataset_description.json'...\n",
      "Writing '../data/bids/sub-38/eeg/sub-38_task-dichotic_run-1_eeg.json'...\n",
      "Writing '../data/bids/sub-38/eeg/sub-38_task-dichotic_run-1_channels.tsv'...\n",
      "Copying data files to sub-38_task-dichotic_run-1_eeg.vhdr\n"
     ]
    },
    {
     "name": "stderr",
     "output_type": "stream",
     "text": [
      "/tmp/ipykernel_55889/2049025406.py:97: RuntimeWarning: Converting data files to BrainVision format\n",
      "  write_raw_bids(\n",
      "/home/letitiayhho/.conda/envs/pitch-tracking/lib/python3.10/site-packages/pybv/io.py:394: UserWarning: Encountered unsupported non-voltage units: n/a\n",
      "Note that the BrainVision format specification supports only µV.\n",
      "  warn(msg)\n"
     ]
    },
    {
     "name": "stdout",
     "output_type": "stream",
     "text": [
      "Writing '../data/bids/sub-38/sub-38_scans.tsv'...\n",
      "Wrote ../data/bids/sub-38/sub-38_scans.tsv entry with eeg/sub-38_task-dichotic_run-1_eeg.vhdr.\n",
      ".vhdr file written? True\n",
      "Done :-)\n",
      "sub-33.vhdr\n",
      "sub-33.vhdr 33 dichotic 1\n",
      "../data/raw/sub-33.vhdr\n",
      "Extracting parameters from ../data/raw/sub-33.vhdr...\n",
      "Setting channel info structure...\n"
     ]
    },
    {
     "name": "stderr",
     "output_type": "stream",
     "text": [
      "/tmp/ipykernel_55889/2049025406.py:29: RuntimeWarning: No coordinate information found for channels ['leog', 'reog', 'Audio', 'Audio2']. Setting channel types to misc. To avoid this warning, set channel types explicitly.\n",
      "  raw = mne.io.read_raw_brainvision(full_fpath)\n",
      "/tmp/ipykernel_55889/2049025406.py:29: RuntimeWarning: Not setting positions of 4 misc channels found in montage:\n",
      "['leog', 'reog', 'Audio', 'Audio2']\n",
      "Consider setting the channel types to be of EEG/sEEG/ECoG/DBS/fNIRS using inst.set_channel_types before calling inst.set_montage, or omit these channels when creating your montage.\n",
      "  raw = mne.io.read_raw_brainvision(full_fpath)\n"
     ]
    },
    {
     "name": "stdout",
     "output_type": "stream",
     "text": [
      "Reading 0 ... 16115399  =      0.000 ...  3223.080 secs...\n",
      "Renaming aux channels\n",
      "Add line_freq to raw.info\n",
      "Map channel numbers to channel names\n",
      "Original channel names: ['Fp1', 'Fz', 'F3', 'F7', 'FT9', 'FC5', 'FC1', 'C3', 'T7', 'TP9', 'CP5', 'CP1', 'Pz', 'P3', 'P7', 'O1', 'Oz', 'O2', 'P4', 'P8', 'TP10', 'CP6', 'CP2', 'C4', 'T8', 'FT10', 'FC6', 'FC2', 'F4', 'F8', 'Fp2', 'leog', 'AF3', 'AFz', 'F1', 'F5', 'FT7', 'FC3', 'C1', 'C5', 'TP7', 'CP3', 'P1', 'P5', 'PO7', 'PO3', 'POz', 'PO4', 'PO8', 'P6', 'P2', 'CPz', 'CP4', 'TP8', 'C6', 'C2', 'FC4', 'FT8', 'F6', 'reog', 'AF4', 'F2', 'FCz', 'Left', 'Right']\n"
     ]
    },
    {
     "name": "stderr",
     "output_type": "stream",
     "text": [
      "/tmp/ipykernel_55889/2049025406.py:37: RuntimeWarning: The unit for channel(s) leog, reog has changed from NA to V.\n",
      "  raw.set_channel_types({'leog': 'eeg', 'reog': 'eeg'})\n",
      "/tmp/ipykernel_55889/2049025406.py:51: RuntimeWarning: The locations of multiple reference channels are ignored.\n",
      "  raw.add_reference_channels(ref_channels = ['Cz'])\n"
     ]
    },
    {
     "name": "stdout",
     "output_type": "stream",
     "text": [
      "Channel names: ['Fp1', 'Fz', 'F3', 'F7', 'FT9', 'FC5', 'FC1', 'C3', 'T7', 'TP9', 'CP5', 'CP1', 'Pz', 'P3', 'P7', 'O1', 'Oz', 'O2', 'P4', 'P8', 'TP10', 'CP6', 'CP2', 'C4', 'T8', 'FT10', 'FC6', 'FC2', 'F4', 'F8', 'Fp2', 'leog', 'AF3', 'AFz', 'F1', 'F5', 'FT7', 'FC3', 'C1', 'C5', 'TP7', 'CP3', 'P1', 'P5', 'PO7', 'PO3', 'POz', 'PO4', 'PO8', 'P6', 'P2', 'CPz', 'CP4', 'TP8', 'C6', 'C2', 'FC4', 'FT8', 'F6', 'reog', 'AF4', 'F2', 'FCz', 'Left', 'Right', 'Cz']\n",
      "Number of channels: 66\n",
      "Map channels to their captrak coordinates\n",
      "Looking for captrak file\n",
      "../data/captrak/sub-33.bvct\n",
      "Looking for captrak file\n",
      "../data/captrak/sub-14.bvct\n",
      "Using captrak file from 14\n",
      "Set annotations\n",
      "Used Annotations descriptions: ['New Segment/', 'Stimulus/S 11', 'Stimulus/S 12', 'Stimulus/S 13', 'Stimulus/S 21', 'Stimulus/S 22', 'Stimulus/S 23', 'Stimulus/S 31', 'Stimulus/S 32', 'Stimulus/S 33']\n",
      "../data/logs/sub-33_blk-4.log\n"
     ]
    },
    {
     "name": "stderr",
     "output_type": "stream",
     "text": [
      "/tmp/ipykernel_55889/2049025406.py:72: RuntimeWarning: DigMontage is only a subset of info. There are 2 channel positions not present in the DigMontage. The required channels are:\n",
      "\n",
      "['leog', 'reog'].\n",
      "\n",
      "Consider using inst.set_channel_types if these are not EEG channels, or use the on_missing parameter if the channel positions are allowed to be unknown in your analyses.\n",
      "  raw.set_montage(dig, on_missing = 'warn')\n"
     ]
    },
    {
     "name": "stdout",
     "output_type": "stream",
     "text": [
      "../data/logs/sub-33_blk-0.log\n",
      "../data/logs/sub-33_blk-3.log\n",
      "../data/logs/sub-33_blk-2.log\n",
      "../data/logs/sub-33_blk-1.log\n",
      "Successfully matched marks and tags :-)\n",
      "Write data into BIDS directory\n",
      "Writing '../data/bids/participants.tsv'...\n",
      "Writing '../data/bids/participants.json'...\n",
      "Writing '../data/bids/sub-33/eeg/sub-33_space-CapTrak_electrodes.tsv'...\n",
      "Writing '../data/bids/sub-33/eeg/sub-33_space-CapTrak_coordsystem.json'...\n",
      "Used Annotations descriptions: ['111', '112', '113', '121', '122', '123', '131', '132', '133', '211', '212', '213', '221', '222', '223', '231', '232', '233']\n",
      "Writing '../data/bids/sub-33/eeg/sub-33_task-dichotic_run-1_events.tsv'...\n",
      "Writing '../data/bids/dataset_description.json'...\n",
      "Writing '../data/bids/sub-33/eeg/sub-33_task-dichotic_run-1_eeg.json'...\n",
      "Writing '../data/bids/sub-33/eeg/sub-33_task-dichotic_run-1_channels.tsv'...\n",
      "Copying data files to sub-33_task-dichotic_run-1_eeg.vhdr\n"
     ]
    },
    {
     "name": "stderr",
     "output_type": "stream",
     "text": [
      "/tmp/ipykernel_55889/2049025406.py:97: RuntimeWarning: Converting data files to BrainVision format\n",
      "  write_raw_bids(\n",
      "/home/letitiayhho/.conda/envs/pitch-tracking/lib/python3.10/site-packages/pybv/io.py:394: UserWarning: Encountered unsupported non-voltage units: n/a\n",
      "Note that the BrainVision format specification supports only µV.\n",
      "  warn(msg)\n"
     ]
    },
    {
     "name": "stdout",
     "output_type": "stream",
     "text": [
      "Writing '../data/bids/sub-33/sub-33_scans.tsv'...\n",
      "Wrote ../data/bids/sub-33/sub-33_scans.tsv entry with eeg/sub-33_task-dichotic_run-1_eeg.vhdr.\n",
      ".vhdr file written? True\n",
      "Done :-)\n",
      "sub-35.vhdr\n",
      "sub-35.vhdr 35 dichotic 1\n",
      "../data/raw/sub-35.vhdr\n",
      "Extracting parameters from ../data/raw/sub-35.vhdr...\n",
      "Setting channel info structure...\n"
     ]
    },
    {
     "name": "stderr",
     "output_type": "stream",
     "text": [
      "/tmp/ipykernel_55889/2049025406.py:29: RuntimeWarning: No coordinate information found for channels ['leog', 'reog', 'Audio', 'Audio2']. Setting channel types to misc. To avoid this warning, set channel types explicitly.\n",
      "  raw = mne.io.read_raw_brainvision(full_fpath)\n",
      "/tmp/ipykernel_55889/2049025406.py:29: RuntimeWarning: Not setting positions of 4 misc channels found in montage:\n",
      "['leog', 'reog', 'Audio', 'Audio2']\n",
      "Consider setting the channel types to be of EEG/sEEG/ECoG/DBS/fNIRS using inst.set_channel_types before calling inst.set_montage, or omit these channels when creating your montage.\n",
      "  raw = mne.io.read_raw_brainvision(full_fpath)\n"
     ]
    },
    {
     "name": "stdout",
     "output_type": "stream",
     "text": [
      "Reading 0 ... 19784399  =      0.000 ...  3956.880 secs...\n",
      "Renaming aux channels\n",
      "Add line_freq to raw.info\n",
      "Map channel numbers to channel names\n",
      "Original channel names: ['Fp1', 'Fz', 'F3', 'F7', 'FT9', 'FC5', 'FC1', 'C3', 'T7', 'TP9', 'CP5', 'CP1', 'Pz', 'P3', 'P7', 'O1', 'Oz', 'O2', 'P4', 'P8', 'TP10', 'CP6', 'CP2', 'C4', 'T8', 'FT10', 'FC6', 'FC2', 'F4', 'F8', 'Fp2', 'leog', 'AF3', 'AFz', 'F1', 'F5', 'FT7', 'FC3', 'C1', 'C5', 'TP7', 'CP3', 'P1', 'P5', 'PO7', 'PO3', 'POz', 'PO4', 'PO8', 'P6', 'P2', 'CPz', 'CP4', 'TP8', 'C6', 'C2', 'FC4', 'FT8', 'F6', 'reog', 'AF4', 'F2', 'FCz', 'Left', 'Right']\n"
     ]
    },
    {
     "name": "stderr",
     "output_type": "stream",
     "text": [
      "/tmp/ipykernel_55889/2049025406.py:37: RuntimeWarning: The unit for channel(s) leog, reog has changed from NA to V.\n",
      "  raw.set_channel_types({'leog': 'eeg', 'reog': 'eeg'})\n",
      "/tmp/ipykernel_55889/2049025406.py:51: RuntimeWarning: The locations of multiple reference channels are ignored.\n",
      "  raw.add_reference_channels(ref_channels = ['Cz'])\n"
     ]
    },
    {
     "name": "stdout",
     "output_type": "stream",
     "text": [
      "Channel names: ['Fp1', 'Fz', 'F3', 'F7', 'FT9', 'FC5', 'FC1', 'C3', 'T7', 'TP9', 'CP5', 'CP1', 'Pz', 'P3', 'P7', 'O1', 'Oz', 'O2', 'P4', 'P8', 'TP10', 'CP6', 'CP2', 'C4', 'T8', 'FT10', 'FC6', 'FC2', 'F4', 'F8', 'Fp2', 'leog', 'AF3', 'AFz', 'F1', 'F5', 'FT7', 'FC3', 'C1', 'C5', 'TP7', 'CP3', 'P1', 'P5', 'PO7', 'PO3', 'POz', 'PO4', 'PO8', 'P6', 'P2', 'CPz', 'CP4', 'TP8', 'C6', 'C2', 'FC4', 'FT8', 'F6', 'reog', 'AF4', 'F2', 'FCz', 'Left', 'Right', 'Cz']\n",
      "Number of channels: 66\n",
      "Map channels to their captrak coordinates\n",
      "Looking for captrak file\n",
      "../data/captrak/sub-35.bvct\n",
      "Looking for captrak file\n",
      "../data/captrak/sub-7.bvct\n",
      "Looking for captrak file\n",
      "../data/captrak/sub-30.bvct\n",
      "Looking for captrak file\n",
      "../data/captrak/sub-24.bvct\n",
      "Using captrak file from 24\n",
      "Set annotations\n",
      "Used Annotations descriptions: ['New Segment/', 'Stimulus/S 11', 'Stimulus/S 12', 'Stimulus/S 13', 'Stimulus/S 21', 'Stimulus/S 22', 'Stimulus/S 23', 'Stimulus/S 31', 'Stimulus/S 32', 'Stimulus/S 33']\n"
     ]
    },
    {
     "name": "stderr",
     "output_type": "stream",
     "text": [
      "/tmp/ipykernel_55889/2049025406.py:72: RuntimeWarning: DigMontage is only a subset of info. There are 2 channel positions not present in the DigMontage. The required channels are:\n",
      "\n",
      "['leog', 'reog'].\n",
      "\n",
      "Consider using inst.set_channel_types if these are not EEG channels, or use the on_missing parameter if the channel positions are allowed to be unknown in your analyses.\n",
      "  raw.set_montage(dig, on_missing = 'warn')\n"
     ]
    },
    {
     "name": "stdout",
     "output_type": "stream",
     "text": [
      "../data/logs/sub-35_blk-3.log\n",
      "../data/logs/sub-35_blk-1.log\n",
      "../data/logs/sub-35_blk-4.log\n",
      "../data/logs/sub-35_blk-2.log\n",
      "../data/logs/sub-35_blk-5.log\n",
      "../data/logs/sub-35_blk-0.log\n",
      "Successfully matched marks and tags :-)\n",
      "Write data into BIDS directory\n",
      "Writing '../data/bids/participants.tsv'...\n",
      "Writing '../data/bids/participants.json'...\n",
      "Writing '../data/bids/sub-35/eeg/sub-35_space-CapTrak_electrodes.tsv'...\n",
      "Writing '../data/bids/sub-35/eeg/sub-35_space-CapTrak_coordsystem.json'...\n",
      "Used Annotations descriptions: ['111', '112', '113', '121', '122', '123', '131', '132', '133', '211', '212', '213', '221', '222', '223', '231', '232', '233']\n",
      "Writing '../data/bids/sub-35/eeg/sub-35_task-dichotic_run-1_events.tsv'...\n",
      "Writing '../data/bids/dataset_description.json'...\n",
      "Writing '../data/bids/sub-35/eeg/sub-35_task-dichotic_run-1_eeg.json'...\n",
      "Writing '../data/bids/sub-35/eeg/sub-35_task-dichotic_run-1_channels.tsv'...\n",
      "Copying data files to sub-35_task-dichotic_run-1_eeg.vhdr\n"
     ]
    },
    {
     "name": "stderr",
     "output_type": "stream",
     "text": [
      "/tmp/ipykernel_55889/2049025406.py:97: RuntimeWarning: Converting data files to BrainVision format\n",
      "  write_raw_bids(\n",
      "/home/letitiayhho/.conda/envs/pitch-tracking/lib/python3.10/site-packages/pybv/io.py:394: UserWarning: Encountered unsupported non-voltage units: n/a\n",
      "Note that the BrainVision format specification supports only µV.\n",
      "  warn(msg)\n"
     ]
    },
    {
     "name": "stdout",
     "output_type": "stream",
     "text": [
      "Writing '../data/bids/sub-35/sub-35_scans.tsv'...\n",
      "Wrote ../data/bids/sub-35/sub-35_scans.tsv entry with eeg/sub-35_task-dichotic_run-1_eeg.vhdr.\n",
      ".vhdr file written? True\n",
      "Done :-)\n",
      "sub-8.vhdr\n",
      "sub-8.vhdr 8 dichotic 1\n",
      "sub-43.vhdr\n",
      "sub-43.vhdr 43 dichotic 1\n",
      "../data/raw/sub-43.vhdr\n",
      "Extracting parameters from ../data/raw/sub-43.vhdr...\n",
      "Setting channel info structure...\n"
     ]
    },
    {
     "name": "stderr",
     "output_type": "stream",
     "text": [
      "/tmp/ipykernel_55889/2049025406.py:29: RuntimeWarning: No coordinate information found for channels ['leog', 'reog', 'right', 'left']. Setting channel types to misc. To avoid this warning, set channel types explicitly.\n",
      "  raw = mne.io.read_raw_brainvision(full_fpath)\n",
      "/tmp/ipykernel_55889/2049025406.py:29: RuntimeWarning: Not setting positions of 4 misc channels found in montage:\n",
      "['leog', 'reog', 'right', 'left']\n",
      "Consider setting the channel types to be of EEG/sEEG/ECoG/DBS/fNIRS using inst.set_channel_types before calling inst.set_montage, or omit these channels when creating your montage.\n",
      "  raw = mne.io.read_raw_brainvision(full_fpath)\n"
     ]
    },
    {
     "name": "stdout",
     "output_type": "stream",
     "text": [
      "Reading 0 ... 19007399  =      0.000 ...  3801.480 secs...\n",
      "Renaming aux channels\n",
      "Add line_freq to raw.info\n",
      "Map channel numbers to channel names\n",
      "Original channel names: ['Fp1', 'Fz', 'F3', 'F7', 'FT9', 'FC5', 'FC1', 'C3', 'T7', 'TP9', 'CP5', 'CP1', 'Pz', 'P3', 'P7', 'O1', 'Oz', 'O2', 'P4', 'P8', 'TP10', 'CP6', 'CP2', 'C4', 'T8', 'FT10', 'FC6', 'FC2', 'F4', 'F8', 'Fp2', 'leog', 'AF3', 'AFz', 'F1', 'F5', 'FT7', 'FC3', 'C1', 'C5', 'TP7', 'CP3', 'P1', 'P5', 'PO7', 'PO3', 'POz', 'PO4', 'PO8', 'P6', 'P2', 'CPz', 'CP4', 'TP8', 'C6', 'C2', 'FC4', 'FT8', 'F6', 'reog', 'AF4', 'F2', 'FCz', 'Left', 'Right']\n"
     ]
    },
    {
     "name": "stderr",
     "output_type": "stream",
     "text": [
      "/tmp/ipykernel_55889/2049025406.py:37: RuntimeWarning: The unit for channel(s) leog, reog has changed from NA to V.\n",
      "  raw.set_channel_types({'leog': 'eeg', 'reog': 'eeg'})\n",
      "/tmp/ipykernel_55889/2049025406.py:51: RuntimeWarning: The locations of multiple reference channels are ignored.\n",
      "  raw.add_reference_channels(ref_channels = ['Cz'])\n"
     ]
    },
    {
     "name": "stdout",
     "output_type": "stream",
     "text": [
      "Channel names: ['Fp1', 'Fz', 'F3', 'F7', 'FT9', 'FC5', 'FC1', 'C3', 'T7', 'TP9', 'CP5', 'CP1', 'Pz', 'P3', 'P7', 'O1', 'Oz', 'O2', 'P4', 'P8', 'TP10', 'CP6', 'CP2', 'C4', 'T8', 'FT10', 'FC6', 'FC2', 'F4', 'F8', 'Fp2', 'leog', 'AF3', 'AFz', 'F1', 'F5', 'FT7', 'FC3', 'C1', 'C5', 'TP7', 'CP3', 'P1', 'P5', 'PO7', 'PO3', 'POz', 'PO4', 'PO8', 'P6', 'P2', 'CPz', 'CP4', 'TP8', 'C6', 'C2', 'FC4', 'FT8', 'F6', 'reog', 'AF4', 'F2', 'FCz', 'Left', 'Right', 'Cz']\n",
      "Number of channels: 66\n",
      "Map channels to their captrak coordinates\n",
      "Looking for captrak file\n",
      "../data/captrak/sub-43.bvct\n",
      "Looking for captrak file\n",
      "../data/captrak/sub-6.bvct\n",
      "Using captrak file from 6\n",
      "Set annotations\n",
      "Used Annotations descriptions: ['New Segment/', 'Stimulus/S 11', 'Stimulus/S 12', 'Stimulus/S 13', 'Stimulus/S 21', 'Stimulus/S 22', 'Stimulus/S 23', 'Stimulus/S 31', 'Stimulus/S 32', 'Stimulus/S 33']\n",
      "../data/logs/sub-43_blk-3.log\n"
     ]
    },
    {
     "name": "stderr",
     "output_type": "stream",
     "text": [
      "/tmp/ipykernel_55889/2049025406.py:72: RuntimeWarning: DigMontage is only a subset of info. There are 2 channel positions not present in the DigMontage. The required channels are:\n",
      "\n",
      "['leog', 'reog'].\n",
      "\n",
      "Consider using inst.set_channel_types if these are not EEG channels, or use the on_missing parameter if the channel positions are allowed to be unknown in your analyses.\n",
      "  raw.set_montage(dig, on_missing = 'warn')\n"
     ]
    },
    {
     "name": "stdout",
     "output_type": "stream",
     "text": [
      "../data/logs/sub-43_blk-2.log\n",
      "../data/logs/sub-43_blk-4.log\n",
      "../data/logs/sub-43_blk-0.log\n",
      "../data/logs/sub-43_blk-1.log\n",
      "Successfully matched marks and tags :-)\n",
      "Write data into BIDS directory\n",
      "Writing '../data/bids/participants.tsv'...\n",
      "Writing '../data/bids/participants.json'...\n",
      "Writing '../data/bids/sub-43/eeg/sub-43_space-CapTrak_electrodes.tsv'...\n",
      "Writing '../data/bids/sub-43/eeg/sub-43_space-CapTrak_coordsystem.json'...\n",
      "Used Annotations descriptions: ['111', '112', '113', '121', '122', '123', '131', '132', '133', '211', '212', '213', '221', '222', '223', '231', '232', '233']\n",
      "Writing '../data/bids/sub-43/eeg/sub-43_task-dichotic_run-1_events.tsv'...\n",
      "Writing '../data/bids/dataset_description.json'...\n",
      "Writing '../data/bids/sub-43/eeg/sub-43_task-dichotic_run-1_eeg.json'...\n",
      "Writing '../data/bids/sub-43/eeg/sub-43_task-dichotic_run-1_channels.tsv'...\n",
      "Copying data files to sub-43_task-dichotic_run-1_eeg.vhdr\n"
     ]
    },
    {
     "name": "stderr",
     "output_type": "stream",
     "text": [
      "/tmp/ipykernel_55889/2049025406.py:97: RuntimeWarning: Converting data files to BrainVision format\n",
      "  write_raw_bids(\n",
      "/home/letitiayhho/.conda/envs/pitch-tracking/lib/python3.10/site-packages/pybv/io.py:394: UserWarning: Encountered unsupported non-voltage units: n/a\n",
      "Note that the BrainVision format specification supports only µV.\n",
      "  warn(msg)\n"
     ]
    },
    {
     "name": "stdout",
     "output_type": "stream",
     "text": [
      "Writing '../data/bids/sub-43/sub-43_scans.tsv'...\n",
      "Wrote ../data/bids/sub-43/sub-43_scans.tsv entry with eeg/sub-43_task-dichotic_run-1_eeg.vhdr.\n",
      ".vhdr file written? True\n",
      "Done :-)\n",
      "sub-25.vhdr\n",
      "sub-25.vhdr 25 dichotic 1\n",
      "sub-9.vhdr\n",
      "sub-9.vhdr 9 dichotic 1\n",
      "sub-11.vhdr\n",
      "sub-11.vhdr 11 dichotic 1\n",
      "sub-14.vhdr\n",
      "sub-14.vhdr 14 dichotic 1\n",
      "sub-4.vhdr\n",
      "sub-4.vhdr 4 dichotic 1\n",
      "sub-5.vhdr\n",
      "sub-5.vhdr 5 dichotic 1\n",
      "sub-29.vhdr\n",
      "sub-29.vhdr 29 dichotic 1\n",
      "../data/raw/sub-29.vhdr\n",
      "Extracting parameters from ../data/raw/sub-29.vhdr...\n",
      "Setting channel info structure...\n"
     ]
    },
    {
     "name": "stderr",
     "output_type": "stream",
     "text": [
      "/tmp/ipykernel_55889/2049025406.py:29: RuntimeWarning: No coordinate information found for channels ['leog', 'reog', 'Audio', 'Audio2']. Setting channel types to misc. To avoid this warning, set channel types explicitly.\n",
      "  raw = mne.io.read_raw_brainvision(full_fpath)\n",
      "/tmp/ipykernel_55889/2049025406.py:29: RuntimeWarning: Not setting positions of 4 misc channels found in montage:\n",
      "['leog', 'reog', 'Audio', 'Audio2']\n",
      "Consider setting the channel types to be of EEG/sEEG/ECoG/DBS/fNIRS using inst.set_channel_types before calling inst.set_montage, or omit these channels when creating your montage.\n",
      "  raw = mne.io.read_raw_brainvision(full_fpath)\n"
     ]
    },
    {
     "name": "stdout",
     "output_type": "stream",
     "text": [
      "Reading 0 ... 19300199  =      0.000 ...  3860.040 secs...\n",
      "Renaming aux channels\n",
      "Add line_freq to raw.info\n",
      "Map channel numbers to channel names\n",
      "Original channel names: ['Fp1', 'Fz', 'F3', 'F7', 'FT9', 'FC5', 'FC1', 'C3', 'T7', 'TP9', 'CP5', 'CP1', 'Pz', 'P3', 'P7', 'O1', 'Oz', 'O2', 'P4', 'P8', 'TP10', 'CP6', 'CP2', 'C4', 'T8', 'FT10', 'FC6', 'FC2', 'F4', 'F8', 'Fp2', 'leog', 'AF3', 'AFz', 'F1', 'F5', 'FT7', 'FC3', 'C1', 'C5', 'TP7', 'CP3', 'P1', 'P5', 'PO7', 'PO3', 'POz', 'PO4', 'PO8', 'P6', 'P2', 'CPz', 'CP4', 'TP8', 'C6', 'C2', 'FC4', 'FT8', 'F6', 'reog', 'AF4', 'F2', 'FCz', 'Left', 'Right']\n"
     ]
    },
    {
     "name": "stderr",
     "output_type": "stream",
     "text": [
      "/tmp/ipykernel_55889/2049025406.py:37: RuntimeWarning: The unit for channel(s) leog, reog has changed from NA to V.\n",
      "  raw.set_channel_types({'leog': 'eeg', 'reog': 'eeg'})\n",
      "/tmp/ipykernel_55889/2049025406.py:51: RuntimeWarning: The locations of multiple reference channels are ignored.\n",
      "  raw.add_reference_channels(ref_channels = ['Cz'])\n"
     ]
    },
    {
     "name": "stdout",
     "output_type": "stream",
     "text": [
      "Channel names: ['Fp1', 'Fz', 'F3', 'F7', 'FT9', 'FC5', 'FC1', 'C3', 'T7', 'TP9', 'CP5', 'CP1', 'Pz', 'P3', 'P7', 'O1', 'Oz', 'O2', 'P4', 'P8', 'TP10', 'CP6', 'CP2', 'C4', 'T8', 'FT10', 'FC6', 'FC2', 'F4', 'F8', 'Fp2', 'leog', 'AF3', 'AFz', 'F1', 'F5', 'FT7', 'FC3', 'C1', 'C5', 'TP7', 'CP3', 'P1', 'P5', 'PO7', 'PO3', 'POz', 'PO4', 'PO8', 'P6', 'P2', 'CPz', 'CP4', 'TP8', 'C6', 'C2', 'FC4', 'FT8', 'F6', 'reog', 'AF4', 'F2', 'FCz', 'Left', 'Right', 'Cz']\n",
      "Number of channels: 66\n",
      "Map channels to their captrak coordinates\n",
      "Looking for captrak file\n",
      "../data/captrak/sub-29.bvct\n",
      "Using captrak file from 29\n",
      "Set annotations\n",
      "Used Annotations descriptions: ['New Segment/', 'Stimulus/S 11', 'Stimulus/S 12', 'Stimulus/S 13', 'Stimulus/S 21', 'Stimulus/S 22', 'Stimulus/S 23', 'Stimulus/S 31', 'Stimulus/S 32', 'Stimulus/S 33']\n"
     ]
    },
    {
     "name": "stderr",
     "output_type": "stream",
     "text": [
      "/tmp/ipykernel_55889/2049025406.py:72: RuntimeWarning: DigMontage is only a subset of info. There are 2 channel positions not present in the DigMontage. The required channels are:\n",
      "\n",
      "['leog', 'reog'].\n",
      "\n",
      "Consider using inst.set_channel_types if these are not EEG channels, or use the on_missing parameter if the channel positions are allowed to be unknown in your analyses.\n",
      "  raw.set_montage(dig, on_missing = 'warn')\n"
     ]
    },
    {
     "name": "stdout",
     "output_type": "stream",
     "text": [
      "../data/logs/sub-29_blk-1.log\n",
      "../data/logs/sub-29_blk-2.log\n",
      "../data/logs/sub-29_blk-3.log\n",
      "../data/logs/sub-29_blk-4.log\n",
      "../data/logs/sub-29_blk-0.log\n",
      "Successfully matched marks and tags :-)\n",
      "Write data into BIDS directory\n",
      "Writing '../data/bids/participants.tsv'...\n",
      "Writing '../data/bids/participants.json'...\n",
      "Writing '../data/bids/sub-29/eeg/sub-29_space-CapTrak_electrodes.tsv'...\n",
      "Writing '../data/bids/sub-29/eeg/sub-29_space-CapTrak_coordsystem.json'...\n",
      "Used Annotations descriptions: ['111', '112', '113', '121', '122', '123', '131', '132', '133', '211', '212', '213', '221', '222', '223', '231', '232', '233']\n",
      "Writing '../data/bids/sub-29/eeg/sub-29_task-dichotic_run-1_events.tsv'...\n",
      "Writing '../data/bids/dataset_description.json'...\n",
      "Writing '../data/bids/sub-29/eeg/sub-29_task-dichotic_run-1_eeg.json'...\n",
      "Writing '../data/bids/sub-29/eeg/sub-29_task-dichotic_run-1_channels.tsv'...\n",
      "Copying data files to sub-29_task-dichotic_run-1_eeg.vhdr\n"
     ]
    },
    {
     "name": "stderr",
     "output_type": "stream",
     "text": [
      "/tmp/ipykernel_55889/2049025406.py:97: RuntimeWarning: Converting data files to BrainVision format\n",
      "  write_raw_bids(\n",
      "/home/letitiayhho/.conda/envs/pitch-tracking/lib/python3.10/site-packages/pybv/io.py:394: UserWarning: Encountered unsupported non-voltage units: n/a\n",
      "Note that the BrainVision format specification supports only µV.\n",
      "  warn(msg)\n"
     ]
    },
    {
     "name": "stdout",
     "output_type": "stream",
     "text": [
      "Writing '../data/bids/sub-29/sub-29_scans.tsv'...\n",
      "Wrote ../data/bids/sub-29/sub-29_scans.tsv entry with eeg/sub-29_task-dichotic_run-1_eeg.vhdr.\n",
      ".vhdr file written? True\n",
      "Done :-)\n",
      "sub-31.vhdr\n",
      "sub-31.vhdr 31 dichotic 1\n",
      "../data/raw/sub-31.vhdr\n",
      "Extracting parameters from ../data/raw/sub-31.vhdr...\n",
      "Setting channel info structure...\n"
     ]
    },
    {
     "name": "stderr",
     "output_type": "stream",
     "text": [
      "/tmp/ipykernel_55889/2049025406.py:29: RuntimeWarning: No coordinate information found for channels ['leog', 'reog', 'Audio', 'Audio2']. Setting channel types to misc. To avoid this warning, set channel types explicitly.\n",
      "  raw = mne.io.read_raw_brainvision(full_fpath)\n",
      "/tmp/ipykernel_55889/2049025406.py:29: RuntimeWarning: Not setting positions of 4 misc channels found in montage:\n",
      "['leog', 'reog', 'Audio', 'Audio2']\n",
      "Consider setting the channel types to be of EEG/sEEG/ECoG/DBS/fNIRS using inst.set_channel_types before calling inst.set_montage, or omit these channels when creating your montage.\n",
      "  raw = mne.io.read_raw_brainvision(full_fpath)\n"
     ]
    },
    {
     "name": "stdout",
     "output_type": "stream",
     "text": [
      "Reading 0 ... 17559499  =      0.000 ...  3511.900 secs...\n",
      "Renaming aux channels\n",
      "Add line_freq to raw.info\n",
      "Map channel numbers to channel names\n",
      "Original channel names: ['Fp1', 'Fz', 'F3', 'F7', 'FT9', 'FC5', 'FC1', 'C3', 'T7', 'TP9', 'CP5', 'CP1', 'Pz', 'P3', 'P7', 'O1', 'Oz', 'O2', 'P4', 'P8', 'TP10', 'CP6', 'CP2', 'C4', 'T8', 'FT10', 'FC6', 'FC2', 'F4', 'F8', 'Fp2', 'leog', 'AF3', 'AFz', 'F1', 'F5', 'FT7', 'FC3', 'C1', 'C5', 'TP7', 'CP3', 'P1', 'P5', 'PO7', 'PO3', 'POz', 'PO4', 'PO8', 'P6', 'P2', 'CPz', 'CP4', 'TP8', 'C6', 'C2', 'FC4', 'FT8', 'F6', 'reog', 'AF4', 'F2', 'FCz', 'Left', 'Right']\n"
     ]
    },
    {
     "name": "stderr",
     "output_type": "stream",
     "text": [
      "/tmp/ipykernel_55889/2049025406.py:37: RuntimeWarning: The unit for channel(s) leog, reog has changed from NA to V.\n",
      "  raw.set_channel_types({'leog': 'eeg', 'reog': 'eeg'})\n",
      "/tmp/ipykernel_55889/2049025406.py:51: RuntimeWarning: The locations of multiple reference channels are ignored.\n",
      "  raw.add_reference_channels(ref_channels = ['Cz'])\n"
     ]
    },
    {
     "name": "stdout",
     "output_type": "stream",
     "text": [
      "Channel names: ['Fp1', 'Fz', 'F3', 'F7', 'FT9', 'FC5', 'FC1', 'C3', 'T7', 'TP9', 'CP5', 'CP1', 'Pz', 'P3', 'P7', 'O1', 'Oz', 'O2', 'P4', 'P8', 'TP10', 'CP6', 'CP2', 'C4', 'T8', 'FT10', 'FC6', 'FC2', 'F4', 'F8', 'Fp2', 'leog', 'AF3', 'AFz', 'F1', 'F5', 'FT7', 'FC3', 'C1', 'C5', 'TP7', 'CP3', 'P1', 'P5', 'PO7', 'PO3', 'POz', 'PO4', 'PO8', 'P6', 'P2', 'CPz', 'CP4', 'TP8', 'C6', 'C2', 'FC4', 'FT8', 'F6', 'reog', 'AF4', 'F2', 'FCz', 'Left', 'Right', 'Cz']\n",
      "Number of channels: 66\n",
      "Map channels to their captrak coordinates\n",
      "Looking for captrak file\n",
      "../data/captrak/sub-31.bvct\n",
      "Looking for captrak file\n",
      "../data/captrak/sub-27.bvct\n",
      "Using captrak file from 27\n",
      "Set annotations\n",
      "Used Annotations descriptions: ['New Segment/', 'Stimulus/S 11', 'Stimulus/S 12', 'Stimulus/S 13', 'Stimulus/S 21', 'Stimulus/S 22', 'Stimulus/S 23', 'Stimulus/S 31', 'Stimulus/S 32', 'Stimulus/S 33']\n"
     ]
    },
    {
     "name": "stderr",
     "output_type": "stream",
     "text": [
      "/tmp/ipykernel_55889/2049025406.py:72: RuntimeWarning: DigMontage is only a subset of info. There are 2 channel positions not present in the DigMontage. The required channels are:\n",
      "\n",
      "['leog', 'reog'].\n",
      "\n",
      "Consider using inst.set_channel_types if these are not EEG channels, or use the on_missing parameter if the channel positions are allowed to be unknown in your analyses.\n",
      "  raw.set_montage(dig, on_missing = 'warn')\n"
     ]
    },
    {
     "name": "stdout",
     "output_type": "stream",
     "text": [
      "../data/logs/sub-31_blk-4.log\n",
      "../data/logs/sub-31_blk-3.log\n",
      "../data/logs/sub-31_blk-1.log\n",
      "../data/logs/sub-31_blk-0.log\n",
      "../data/logs/sub-31_blk-2.log\n",
      "Successfully matched marks and tags :-)\n",
      "Write data into BIDS directory\n",
      "Writing '../data/bids/participants.tsv'...\n",
      "Writing '../data/bids/participants.json'...\n",
      "Writing '../data/bids/sub-31/eeg/sub-31_space-CapTrak_electrodes.tsv'...\n",
      "Writing '../data/bids/sub-31/eeg/sub-31_space-CapTrak_coordsystem.json'...\n",
      "Used Annotations descriptions: ['111', '112', '113', '121', '122', '123', '131', '132', '133', '211', '212', '213', '221', '222', '223', '231', '232', '233']\n",
      "Writing '../data/bids/sub-31/eeg/sub-31_task-dichotic_run-1_events.tsv'...\n",
      "Writing '../data/bids/dataset_description.json'...\n",
      "Writing '../data/bids/sub-31/eeg/sub-31_task-dichotic_run-1_eeg.json'...\n",
      "Writing '../data/bids/sub-31/eeg/sub-31_task-dichotic_run-1_channels.tsv'...\n",
      "Copying data files to sub-31_task-dichotic_run-1_eeg.vhdr\n"
     ]
    },
    {
     "name": "stderr",
     "output_type": "stream",
     "text": [
      "/tmp/ipykernel_55889/2049025406.py:97: RuntimeWarning: Converting data files to BrainVision format\n",
      "  write_raw_bids(\n",
      "/home/letitiayhho/.conda/envs/pitch-tracking/lib/python3.10/site-packages/pybv/io.py:394: UserWarning: Encountered unsupported non-voltage units: n/a\n",
      "Note that the BrainVision format specification supports only µV.\n",
      "  warn(msg)\n"
     ]
    },
    {
     "name": "stdout",
     "output_type": "stream",
     "text": [
      "Writing '../data/bids/sub-31/sub-31_scans.tsv'...\n",
      "Wrote ../data/bids/sub-31/sub-31_scans.tsv entry with eeg/sub-31_task-dichotic_run-1_eeg.vhdr.\n",
      ".vhdr file written? True\n",
      "Done :-)\n",
      "sub-39.vhdr\n",
      "sub-39.vhdr 39 dichotic 1\n",
      "../data/raw/sub-39.vhdr\n",
      "Extracting parameters from ../data/raw/sub-39.vhdr...\n",
      "Setting channel info structure...\n"
     ]
    },
    {
     "name": "stderr",
     "output_type": "stream",
     "text": [
      "/tmp/ipykernel_55889/2049025406.py:29: RuntimeWarning: No coordinate information found for channels ['leog', 'reog', 'Audio', 'Audio2']. Setting channel types to misc. To avoid this warning, set channel types explicitly.\n",
      "  raw = mne.io.read_raw_brainvision(full_fpath)\n",
      "/tmp/ipykernel_55889/2049025406.py:29: RuntimeWarning: Not setting positions of 4 misc channels found in montage:\n",
      "['leog', 'reog', 'Audio', 'Audio2']\n",
      "Consider setting the channel types to be of EEG/sEEG/ECoG/DBS/fNIRS using inst.set_channel_types before calling inst.set_montage, or omit these channels when creating your montage.\n",
      "  raw = mne.io.read_raw_brainvision(full_fpath)\n"
     ]
    },
    {
     "name": "stdout",
     "output_type": "stream",
     "text": [
      "Reading 0 ... 17757399  =      0.000 ...  3551.480 secs...\n",
      "Renaming aux channels\n",
      "Add line_freq to raw.info\n",
      "Map channel numbers to channel names\n",
      "Original channel names: ['Fp1', 'Fz', 'F3', 'F7', 'FT9', 'FC5', 'FC1', 'C3', 'T7', 'TP9', 'CP5', 'CP1', 'Pz', 'P3', 'P7', 'O1', 'Oz', 'O2', 'P4', 'P8', 'TP10', 'CP6', 'CP2', 'C4', 'T8', 'FT10', 'FC6', 'FC2', 'F4', 'F8', 'Fp2', 'leog', 'AF3', 'AFz', 'F1', 'F5', 'FT7', 'FC3', 'C1', 'C5', 'TP7', 'CP3', 'P1', 'P5', 'PO7', 'PO3', 'POz', 'PO4', 'PO8', 'P6', 'P2', 'CPz', 'CP4', 'TP8', 'C6', 'C2', 'FC4', 'FT8', 'F6', 'reog', 'AF4', 'F2', 'FCz', 'Left', 'Right']\n"
     ]
    },
    {
     "name": "stderr",
     "output_type": "stream",
     "text": [
      "/tmp/ipykernel_55889/2049025406.py:37: RuntimeWarning: The unit for channel(s) leog, reog has changed from NA to V.\n",
      "  raw.set_channel_types({'leog': 'eeg', 'reog': 'eeg'})\n",
      "/tmp/ipykernel_55889/2049025406.py:51: RuntimeWarning: The locations of multiple reference channels are ignored.\n",
      "  raw.add_reference_channels(ref_channels = ['Cz'])\n"
     ]
    },
    {
     "name": "stdout",
     "output_type": "stream",
     "text": [
      "Channel names: ['Fp1', 'Fz', 'F3', 'F7', 'FT9', 'FC5', 'FC1', 'C3', 'T7', 'TP9', 'CP5', 'CP1', 'Pz', 'P3', 'P7', 'O1', 'Oz', 'O2', 'P4', 'P8', 'TP10', 'CP6', 'CP2', 'C4', 'T8', 'FT10', 'FC6', 'FC2', 'F4', 'F8', 'Fp2', 'leog', 'AF3', 'AFz', 'F1', 'F5', 'FT7', 'FC3', 'C1', 'C5', 'TP7', 'CP3', 'P1', 'P5', 'PO7', 'PO3', 'POz', 'PO4', 'PO8', 'P6', 'P2', 'CPz', 'CP4', 'TP8', 'C6', 'C2', 'FC4', 'FT8', 'F6', 'reog', 'AF4', 'F2', 'FCz', 'Left', 'Right', 'Cz']\n",
      "Number of channels: 66\n",
      "Map channels to their captrak coordinates\n",
      "Looking for captrak file\n",
      "../data/captrak/sub-39.bvct\n",
      "Looking for captrak file\n",
      "../data/captrak/sub-26.bvct\n",
      "Using captrak file from 26\n",
      "Set annotations\n",
      "Used Annotations descriptions: ['New Segment/', 'Stimulus/S 11', 'Stimulus/S 12', 'Stimulus/S 13', 'Stimulus/S 21', 'Stimulus/S 22', 'Stimulus/S 23', 'Stimulus/S 31', 'Stimulus/S 32', 'Stimulus/S 33']\n",
      "../data/logs/sub-39_blk-2.log\n"
     ]
    },
    {
     "name": "stderr",
     "output_type": "stream",
     "text": [
      "/tmp/ipykernel_55889/2049025406.py:72: RuntimeWarning: DigMontage is only a subset of info. There are 2 channel positions not present in the DigMontage. The required channels are:\n",
      "\n",
      "['leog', 'reog'].\n",
      "\n",
      "Consider using inst.set_channel_types if these are not EEG channels, or use the on_missing parameter if the channel positions are allowed to be unknown in your analyses.\n",
      "  raw.set_montage(dig, on_missing = 'warn')\n"
     ]
    },
    {
     "name": "stdout",
     "output_type": "stream",
     "text": [
      "../data/logs/sub-39_blk-3.log\n",
      "../data/logs/sub-39_blk-1.log\n",
      "../data/logs/sub-39_blk-4.log\n",
      "../data/logs/sub-39_blk-0.log\n",
      "Successfully matched marks and tags :-)\n",
      "Write data into BIDS directory\n",
      "Writing '../data/bids/participants.tsv'...\n",
      "Writing '../data/bids/participants.json'...\n",
      "Writing '../data/bids/sub-39/eeg/sub-39_space-CapTrak_electrodes.tsv'...\n",
      "Writing '../data/bids/sub-39/eeg/sub-39_space-CapTrak_coordsystem.json'...\n",
      "Used Annotations descriptions: ['111', '112', '113', '121', '122', '123', '131', '132', '133', '211', '212', '213', '221', '222', '223', '231', '232', '233']\n",
      "Writing '../data/bids/sub-39/eeg/sub-39_task-dichotic_run-1_events.tsv'...\n",
      "Writing '../data/bids/dataset_description.json'...\n",
      "Writing '../data/bids/sub-39/eeg/sub-39_task-dichotic_run-1_eeg.json'...\n",
      "Writing '../data/bids/sub-39/eeg/sub-39_task-dichotic_run-1_channels.tsv'...\n",
      "Copying data files to sub-39_task-dichotic_run-1_eeg.vhdr\n"
     ]
    },
    {
     "name": "stderr",
     "output_type": "stream",
     "text": [
      "/tmp/ipykernel_55889/2049025406.py:97: RuntimeWarning: Converting data files to BrainVision format\n",
      "  write_raw_bids(\n",
      "/home/letitiayhho/.conda/envs/pitch-tracking/lib/python3.10/site-packages/pybv/io.py:394: UserWarning: Encountered unsupported non-voltage units: n/a\n",
      "Note that the BrainVision format specification supports only µV.\n",
      "  warn(msg)\n"
     ]
    },
    {
     "name": "stdout",
     "output_type": "stream",
     "text": [
      "Writing '../data/bids/sub-39/sub-39_scans.tsv'...\n",
      "Wrote ../data/bids/sub-39/sub-39_scans.tsv entry with eeg/sub-39_task-dichotic_run-1_eeg.vhdr.\n",
      ".vhdr file written? True\n",
      "Done :-)\n"
     ]
    }
   ],
   "source": [
    "for fpath, sub, task, run in iter_raw_paths(RAW_DIR):\n",
    "    print(fpath, sub, task, run)\n",
    "    \n",
    "    # Skip bad subs\n",
    "    if sub in [\"1\", \"20\"]: # 20 wrong chan labels, 41-43 missing log files\n",
    "        continue\n",
    "    \n",
    "    # Run only subs recorded on Recorder\n",
    "    if int(sub) < 29:\n",
    "        continue\n",
    "    \n",
    "    bids_path = BIDSPath(\n",
    "        run = run,\n",
    "        subject = sub,\n",
    "        task = task,\n",
    "        datatype = 'eeg',\n",
    "        root = BIDS_DIR\n",
    "    )\n",
    "    vhdr_path = str(bids_path)\n",
    "    \n",
    "#     # Skip subs that are already converted\n",
    "#     if os.path.exists(vhdr_path) & ~force:\n",
    "#         print(f\"{vhdr_path} already exists, skipping.\")\n",
    "#         continue\n",
    "\n",
    "    # load data with MNE function for your file format\n",
    "    full_fpath = os.path.join(RAW_DIR, fpath)\n",
    "    print(full_fpath)\n",
    "    raw = mne.io.read_raw_brainvision(full_fpath)\n",
    "    raw.load_data()\n",
    "\n",
    "    # Rename aux channels according to aux-label-remapping.csv\n",
    "    print(\"Renaming aux channels\")\n",
    "    raw, remap_dict = remap_aux_labels(sub, raw, 'aux-label-remapping.csv')\n",
    "    raw.rename_channels(remap_dict)\n",
    "    raw.set_channel_types({'Left': 'stim', 'Right': 'stim'})\n",
    "    raw.set_channel_types({'leog': 'eeg', 'reog': 'eeg'})\n",
    "\n",
    "    # add some info BIDS will want\n",
    "    print(\"Add line_freq to raw.info\")\n",
    "    raw.info['line_freq'] = 60 # the power line frequency in the building we collected in\n",
    "\n",
    "    # map channel numbers to channel names\n",
    "    print(\"Map channel numbers to channel names\")\n",
    "    print(f\"Original channel names: {raw.ch_names}\")\n",
    "    if int(sub) < 29:\n",
    "        map_fp = '../data/captrak/pitch_tracking_64_at_FCZ.csv'\n",
    "        mapping_table = pd.read_csv(map_fp)\n",
    "        mapping = {mapping_table.number[i]: mapping_table.name[i] for i in range(len(mapping_table))}\n",
    "        raw.rename_channels(mapping)\n",
    "    raw.add_reference_channels(ref_channels = ['Cz'])\n",
    "    print(f\"Channel names: {raw.ch_names}\")\n",
    "\n",
    "    # Checks\n",
    "    n_channels = len(raw.ch_names)\n",
    "    print(f\"Number of channels: {n_channels}\")\n",
    "    if n_channels != 66:\n",
    "        sys.exit(f\"Incorrect number of channels, there should be 66 (2 aux incl) channels, instead there are {n_chans} channels\")\n",
    "\n",
    "    # Map channels to their coordinates\n",
    "    print(\"Map channels to their captrak coordinates\")\n",
    "    captrak_found = False\n",
    "    captrak_sub = sub\n",
    "\n",
    "    while not captrak_found:\n",
    "        print(\"Looking for captrak file\")\n",
    "        captrak_path = MAPS_DIR + 'sub-' + str(captrak_sub) + '.bvct'\n",
    "        print(captrak_path)\n",
    "        if os.path.isfile(captrak_path):\n",
    "            print(f\"Using captrak file from {captrak_sub}\")\n",
    "            dig = mne. channels.read_dig_captrak(captrak_path)\n",
    "            raw.set_montage(dig, on_missing = 'warn')\n",
    "            captrak_found = True\n",
    "        else:\n",
    "            captrak_sub = random.randint(3, 30)\n",
    "\n",
    "    # Extract events from raw file\n",
    "    print(\"Set annotations\")\n",
    "    events, event_ids = mne.events_from_annotations(raw)\n",
    "\n",
    "    # Add stream to event tags\n",
    "    events = add_stream_to_event_tags(events, sub)\n",
    "\n",
    "    # Drop meaningless event name\n",
    "    events = np.array(events)\n",
    "    events = events[events[:,2] != event_ids['New Segment/'], :]\n",
    "\n",
    "    # Rename events to their stimulus pitch\n",
    "    annot = mne.annotations_from_events(events, sfreq = raw.info['sfreq'])\n",
    "    raw.set_annotations(annot)\n",
    "\n",
    "    # Get range of dates the BIDS specification will accept\n",
    "    daysback_min, daysback_max = get_anonymization_daysback(raw)\n",
    "\n",
    "    # Write data into BIDS directory, while anonymizing\n",
    "    print(\"Write data into BIDS directory\")\n",
    "    write_raw_bids(\n",
    "        raw,\n",
    "        bids_path = bids_path,\n",
    "        allow_preload = True, # whether to load full dataset into memory when copying\n",
    "        format = 'BrainVision', # format to save to\n",
    "        anonymize = dict(daysback = daysback_min), # shift dates by daysback\n",
    "        overwrite = True,\n",
    "    )\n",
    "\n",
    "    # Check if conversion was successful and .vhdr file was written\n",
    "    print(f\".vhdr file written? {os.path.exists(vhdr_path)}\")\n",
    "    print(\"Done :-)\")"
   ]
  },
  {
   "cell_type": "code",
   "execution_count": 10,
   "id": "69838d66",
   "metadata": {},
   "outputs": [
    {
     "data": {
      "text/plain": [
       "65"
      ]
     },
     "execution_count": 10,
     "metadata": {},
     "output_type": "execute_result"
    }
   ],
   "source": [
    "len(ch_names)"
   ]
  },
  {
   "cell_type": "code",
   "execution_count": null,
   "id": "61b1070f",
   "metadata": {},
   "outputs": [],
   "source": []
  },
  {
   "cell_type": "code",
   "execution_count": null,
   "id": "df0ef00a",
   "metadata": {},
   "outputs": [],
   "source": []
  },
  {
   "cell_type": "code",
   "execution_count": null,
   "id": "10cec50c",
   "metadata": {},
   "outputs": [],
   "source": []
  },
  {
   "cell_type": "code",
   "execution_count": null,
   "id": "01360fb9",
   "metadata": {},
   "outputs": [],
   "source": [
    "from mne_bids import BIDSPath, write_raw_bids, get_anonymization_daysback\n",
    "import random\n",
    "import pandas as pd\n",
    "import numpy as np\n",
    "import itertools\n",
    "import mne\n",
    "import os\n",
    "import sys\n",
    "import re\n",
    "from util.io.get_chan_mapping import get_chan_mapping\n",
    "from util.io.add_stream_to_event_tags import *\n",
    "from util.io.iter_raw_paths import iter_raw_paths"
   ]
  },
  {
   "cell_type": "code",
   "execution_count": 2,
   "id": "de3fabe3",
   "metadata": {},
   "outputs": [],
   "source": [
    "RAW_DIR = '../data/raw/'\n",
    "BIDS_DIR = '../data/bids/'\n",
    "MAPS_DIR = '../data/captrak/'"
   ]
  },
  {
   "cell_type": "code",
   "execution_count": 4,
   "id": "38782f3c",
   "metadata": {},
   "outputs": [
    {
     "name": "stdout",
     "output_type": "stream",
     "text": [
      "sub-24.vhdr\n",
      "sub-40.vhdr\n"
     ]
    }
   ],
   "source": [
    "for (fpath, sub, task, run) in iter_raw_paths(RAW_DIR):\n",
    "    if int(sub) > 28:\n",
    "        break"
   ]
  },
  {
   "cell_type": "code",
   "execution_count": null,
   "id": "2ea3bc1a",
   "metadata": {},
   "outputs": [
    {
     "name": "stdout",
     "output_type": "stream",
     "text": [
      "Extracting parameters from ../data/raw/sub-40.vhdr...\n",
      "Setting channel info structure...\n"
     ]
    },
    {
     "name": "stderr",
     "output_type": "stream",
     "text": [
      "/tmp/ipykernel_48807/3452802452.py:2: RuntimeWarning: No coordinate information found for channels ['leog', 'reog', 'Audio', 'Audio2']. Setting channel types to misc. To avoid this warning, set channel types explicitly.\n",
      "  raw = mne.io.read_raw_brainvision(fpath)\n",
      "/tmp/ipykernel_48807/3452802452.py:2: RuntimeWarning: Not setting positions of 4 misc channels found in montage:\n",
      "['leog', 'reog', 'Audio', 'Audio2']\n",
      "Consider setting the channel types to be of EEG/sEEG/ECoG/DBS/fNIRS using inst.set_channel_types before calling inst.set_montage, or omit these channels when creating your montage.\n",
      "  raw = mne.io.read_raw_brainvision(fpath)\n"
     ]
    },
    {
     "name": "stdout",
     "output_type": "stream",
     "text": [
      "Reading 0 ... 16163699  =      0.000 ...  3232.740 secs...\n"
     ]
    }
   ],
   "source": [
    "fpath = RAW_DIR + fpath\n",
    "raw = mne.io.read_raw_brainvision(fpath)\n",
    "raw.load_data()"
   ]
  },
  {
   "cell_type": "code",
   "execution_count": null,
   "id": "8d0cf1c5",
   "metadata": {},
   "outputs": [],
   "source": [
    "remapping = pd.read_csv('aux-label-remapping.csv')\n",
    "remapping"
   ]
  },
  {
   "cell_type": "code",
   "execution_count": null,
   "id": "936c1811",
   "metadata": {},
   "outputs": [],
   "source": []
  },
  {
   "cell_type": "code",
   "execution_count": null,
   "id": "a4eda076",
   "metadata": {},
   "outputs": [],
   "source": []
  },
  {
   "cell_type": "code",
   "execution_count": null,
   "id": "9ae0d437",
   "metadata": {},
   "outputs": [],
   "source": []
  },
  {
   "cell_type": "code",
   "execution_count": 4,
   "id": "f2b13ab6",
   "metadata": {},
   "outputs": [],
   "source": [
    "fpath = '../data/raw/sub-40.vhdr'"
   ]
  },
  {
   "cell_type": "code",
   "execution_count": 44,
   "id": "c216d70a",
   "metadata": {},
   "outputs": [
    {
     "name": "stdout",
     "output_type": "stream",
     "text": [
      "../data/raw/sub-40.vhdr\n",
      "Extracting parameters from ../data/raw/sub-40.vhdr...\n",
      "Setting channel info structure...\n"
     ]
    },
    {
     "name": "stderr",
     "output_type": "stream",
     "text": [
      "/tmp/ipykernel_30743/4153386870.py:3: RuntimeWarning: No coordinate information found for channels ['leog', 'reog', 'Audio', 'Audio2']. Setting channel types to misc. To avoid this warning, set channel types explicitly.\n",
      "  raw = mne.io.read_raw_brainvision(fpath)\n",
      "/tmp/ipykernel_30743/4153386870.py:3: RuntimeWarning: Not setting positions of 4 misc channels found in montage:\n",
      "['leog', 'reog', 'Audio', 'Audio2']\n",
      "Consider setting the channel types to be of EEG/sEEG/ECoG/DBS/fNIRS using inst.set_channel_types before calling inst.set_montage, or omit these channels when creating your montage.\n",
      "  raw = mne.io.read_raw_brainvision(fpath)\n"
     ]
    },
    {
     "name": "stdout",
     "output_type": "stream",
     "text": [
      "Reading 0 ... 16163699  =      0.000 ...  3232.740 secs...\n"
     ]
    },
    {
     "name": "stderr",
     "output_type": "stream",
     "text": [
      "/tmp/ipykernel_30743/4153386870.py:6: RuntimeWarning: The unit for channel(s) Left, Right, leog, reog has changed from NA to V.\n",
      "  raw.set_channel_types({'Left': 'eeg', 'Right': 'eeg', 'reog': 'eog', 'leog': 'eog'})\n"
     ]
    },
    {
     "data": {
      "text/html": [
       "<table class=\"table table-hover table-striped table-sm table-responsive small\">\n",
       "    <tr>\n",
       "        <th>Measurement date</th>\n",
       "        \n",
       "        <td>April 17, 2023  16:46:27 GMT</td>\n",
       "        \n",
       "    </tr>\n",
       "    <tr>\n",
       "        <th>Experimenter</th>\n",
       "        \n",
       "        <td>Unknown</td>\n",
       "        \n",
       "    </tr>\n",
       "        <th>Participant</th>\n",
       "        \n",
       "        <td>Unknown</td>\n",
       "        \n",
       "    </tr>\n",
       "    <tr>\n",
       "        <th>Digitized points</th>\n",
       "        \n",
       "        <td>0 points</td>\n",
       "        \n",
       "    </tr>\n",
       "    <tr>\n",
       "        <th>Good channels</th>\n",
       "        <td>2 EEG</td>\n",
       "    </tr>\n",
       "    <tr>\n",
       "        <th>Bad channels</th>\n",
       "        <td>None</td>\n",
       "    </tr>\n",
       "    <tr>\n",
       "        <th>EOG channels</th>\n",
       "        <td>Not available</td>\n",
       "    </tr>\n",
       "    <tr>\n",
       "        <th>ECG channels</th>\n",
       "        <td>Not available</td>\n",
       "    \n",
       "    <tr>\n",
       "        <th>Sampling frequency</th>\n",
       "        <td>5000.00 Hz</td>\n",
       "    </tr>\n",
       "    \n",
       "    \n",
       "    <tr>\n",
       "        <th>Highpass</th>\n",
       "        <td>0.00 Hz</td>\n",
       "    </tr>\n",
       "    \n",
       "    \n",
       "    <tr>\n",
       "        <th>Lowpass</th>\n",
       "        <td>1350.00 Hz</td>\n",
       "    </tr>\n",
       "    \n",
       "    \n",
       "    \n",
       "    <tr>\n",
       "        <th>Filenames</th>\n",
       "        <td>sub-40.eeg</td>\n",
       "    </tr>\n",
       "    \n",
       "    <tr>\n",
       "        <th>Duration</th>\n",
       "        <td>00:53:52 (HH:MM:SS)</td>\n",
       "    </tr>\n",
       "</table>"
      ],
      "text/plain": [
       "<RawBrainVision | sub-40.eeg, 2 x 16163700 (3232.7 s), ~246.7 MB, data loaded>"
      ]
     },
     "execution_count": 44,
     "metadata": {},
     "output_type": "execute_result"
    }
   ],
   "source": [
    "# load data with MNE function for your file format\n",
    "print(fpath)\n",
    "raw = mne.io.read_raw_brainvision(fpath)\n",
    "raw.load_data()\n",
    "if int(sub) < 29:\n",
    "    aux_names = ['Left', 'Right']\n",
    "    raw.rename_channels({'Audio': 'Right', 'Audio2': 'Left'})\n",
    "\n",
    "    raw.set_channel_types({'Left': 'eeg', 'Right': 'eeg'})\n",
    "    raw.pick_channels(aux_names)\n",
    "elif 29 <= int(sub) < 41:\n",
    "    aux_names = ['Audio', 'Audio2']\n",
    "    raw.set_channel_types({'Audio': 'eeg', 'Audio2': 'eeg'})\n",
    "    raw.pick_channels(aux_names)\n",
    "elif int(sub) >= 41:\n",
    "    aux_names = ['left', 'right']\n",
    "    raw.set_channel_types({'left': 'eeg', 'right': 'eeg'})\n",
    "    raw.pick_channels(aux_names)\n",
    "return raw, aux_names\n",
    "raw.set_channel_types({'Left': 'eeg', 'Right': 'eeg', 'reog': 'eog', 'leog': 'eog'})\n",
    "raw.pick_channels([\"Left\", \"Right\"])"
   ]
  },
  {
   "cell_type": "code",
   "execution_count": 14,
   "id": "ebb9e8d7",
   "metadata": {},
   "outputs": [
    {
     "name": "stdout",
     "output_type": "stream",
     "text": [
      "Add line_freq to raw.info\n"
     ]
    }
   ],
   "source": [
    "# add some info BIDS will want\n",
    "print(\"Add line_freq to raw.info\")\n",
    "raw.info['line_freq'] = 60 # the power line frequency in the building we collected in"
   ]
  },
  {
   "cell_type": "code",
   "execution_count": 20,
   "id": "85107d99",
   "metadata": {},
   "outputs": [
    {
     "name": "stdout",
     "output_type": "stream",
     "text": [
      "Set annotations\n",
      "Used Annotations descriptions: ['New Segment/', 'Stimulus/S 11', 'Stimulus/S 12', 'Stimulus/S 13', 'Stimulus/S 21', 'Stimulus/S 22', 'Stimulus/S 23', 'Stimulus/S 31', 'Stimulus/S 32', 'Stimulus/S 33']\n"
     ]
    },
    {
     "data": {
      "text/plain": [
       "array([[       0,        0,    99999],\n",
       "       [   97295,        0,       32],\n",
       "       [  103054,        0,       11],\n",
       "       ...,\n",
       "       [16117404,        0,       32],\n",
       "       [16123169,        0,       31],\n",
       "       [16128933,        0,       22]])"
      ]
     },
     "execution_count": 20,
     "metadata": {},
     "output_type": "execute_result"
    }
   ],
   "source": [
    "# Extract events from raw file\n",
    "print(\"Set annotations\")\n",
    "events, event_ids = mne.events_from_annotations(raw)\n",
    "events"
   ]
  },
  {
   "cell_type": "code",
   "execution_count": 45,
   "id": "46ebf5dc",
   "metadata": {},
   "outputs": [
    {
     "name": "stdout",
     "output_type": "stream",
     "text": [
      "Not setting metadata\n",
      "1801 matching events found\n",
      "Applying baseline correction (mode: mean)\n",
      "0 projection items activated\n",
      "Using data from preloaded Raw for 244 events and 4001 original time points ...\n",
      "0 bad epochs dropped\n",
      "    Using multitaper spectrum estimation with 7 DPSS windows\n"
     ]
    },
    {
     "name": "stderr",
     "output_type": "stream",
     "text": [
      "/tmp/ipykernel_30743/239966647.py:10: RuntimeWarning: Channel locations not available. Disabling spatial colors.\n",
      "  epochs['32'].plot_psd(picks = 'eeg')\n"
     ]
    },
    {
     "data": {
      "image/png": "[encoded data removed]",
      "text/plain": [
       "<MNELineFigure size 720x252 with 1 Axes>"
      ]
     },
     "metadata": {
      "needs_background": "light"
     },
     "output_type": "display_data"
    },
    {
     "data": {
      "image/png": "[encoded data removed]",
      "text/plain": [
       "<MNELineFigure size 720x252 with 1 Axes>"
      ]
     },
     "execution_count": 45,
     "metadata": {},
     "output_type": "execute_result"
    }
   ],
   "source": [
    "# Plot aux channels and match with event labels\n",
    "epochs = mne.Epochs(raw, events, tmin = -0.4, tmax = .4, baseline = (-0.4, 0))\n",
    "# fig = epochs.plot(picks = 'Aux1', events = 11)\n",
    "# raw.plot(block=True, events=events, duration = 2, start = 97)\n",
    "# epochs.plot(picks = 'stim', n_epochs=1, events = events)\n",
    "\n",
    "\n",
    "# Plot psd by event tag and psd at each stim channel\n",
    "# epochs[\"32\"].compute_psd().plot(picks=\"stim\")\n",
    "epochs['32'].plot_psd(picks = 'eeg')\n",
    "\n",
    "# Add units to data?\n",
    "\n",
    "# Look at channel names?\n",
    "# raw.info['ch_names']"
   ]
  },
  {
   "cell_type": "code",
   "execution_count": 7,
   "id": "3a13cf31",
   "metadata": {},
   "outputs": [
    {
     "name": "stdout",
     "output_type": "stream",
     "text": [
      "Map channel numbers to channel names\n"
     ]
    },
    {
     "ename": "ValueError",
     "evalue": "Invalid channel name(s) {'Ch34', 'Ch47', 'Ch37', 'Ch20', 'Ch59', 'Ch10', 'Ch42', 'Ch53', 'Ch31', 'Ch61', 'Ch56', 'Ch7', 'Ch49', 'Ch55', 'Ch62', 'Ch18', 'Ch11', 'Ch28', 'Ch54', 'Ch27', 'Ch64', 'Ch35', 'Ch17', 'Ch57', 'Ch19', 'Ch15', 'Ch30', 'Ch48', 'Ch63', 'Ch5', 'Ch9', 'Ch40', 'Ch44', 'Ch60', 'Ch13', 'Ch16', 'Ch22', 'Ch1', 'Ch26', 'Ch29', 'Ch32', 'Ch38', 'Ch50', 'Ch46', 'Ch21', 'Ch36', 'Ch4', 'Ch51', 'Ch58', 'Ch8', 'Ch33', 'Ch52', 'Ch25', 'Ch43', 'Ch12', 'Ch3', 'Ch45', 'Ch6', 'Ch14', 'Ch23', 'Ch2', 'Ch41', 'Ch39'} are not present in info",
     "output_type": "error",
     "traceback": [
      "\u001b[0;31m---------------------------------------------------------------------------\u001b[0m",
      "\u001b[0;31mValueError\u001b[0m                                Traceback (most recent call last)",
      "Input \u001b[0;32mIn [7]\u001b[0m, in \u001b[0;36m<cell line: 4>\u001b[0;34m()\u001b[0m\n\u001b[1;32m      2\u001b[0m \u001b[38;5;28mprint\u001b[39m(\u001b[38;5;124m\"\u001b[39m\u001b[38;5;124mMap channel numbers to channel names\u001b[39m\u001b[38;5;124m\"\u001b[39m)\n\u001b[1;32m      3\u001b[0m mapping \u001b[38;5;241m=\u001b[39m get_chan_mapping(MAPS_DIR, sub)\n\u001b[0;32m----> 4\u001b[0m \u001b[43mraw\u001b[49m\u001b[38;5;241;43m.\u001b[39;49m\u001b[43mrename_channels\u001b[49m\u001b[43m(\u001b[49m\u001b[43mmapping\u001b[49m\u001b[43m)\u001b[49m\n\u001b[1;32m      5\u001b[0m raw\u001b[38;5;241m.\u001b[39madd_reference_channels(ref_channels \u001b[38;5;241m=\u001b[39m [\u001b[38;5;124m'\u001b[39m\u001b[38;5;124mCz\u001b[39m\u001b[38;5;124m'\u001b[39m])\n",
      "File \u001b[0;32m<decorator-gen-41>:12\u001b[0m, in \u001b[0;36mrename_channels\u001b[0;34m(self, mapping, allow_duplicates, verbose)\u001b[0m\n",
      "File \u001b[0;32m~/.conda/envs/pitch-tracking/lib/python3.10/site-packages/mne/channels/channels.py:407\u001b[0m, in \u001b[0;36mSetChannelsMixin.rename_channels\u001b[0;34m(self, mapping, allow_duplicates, verbose)\u001b[0m\n\u001b[1;32m    404\u001b[0m \u001b[38;5;28;01mfrom\u001b[39;00m \u001b[38;5;21;01m.\u001b[39;00m\u001b[38;5;21;01m.\u001b[39;00m\u001b[38;5;21;01mio\u001b[39;00m \u001b[38;5;28;01mimport\u001b[39;00m BaseRaw\n\u001b[1;32m    406\u001b[0m ch_names_orig \u001b[38;5;241m=\u001b[39m \u001b[38;5;28mlist\u001b[39m(\u001b[38;5;28mself\u001b[39m\u001b[38;5;241m.\u001b[39minfo[\u001b[38;5;124m'\u001b[39m\u001b[38;5;124mch_names\u001b[39m\u001b[38;5;124m'\u001b[39m])\n\u001b[0;32m--> 407\u001b[0m \u001b[43mrename_channels\u001b[49m\u001b[43m(\u001b[49m\u001b[38;5;28;43mself\u001b[39;49m\u001b[38;5;241;43m.\u001b[39;49m\u001b[43minfo\u001b[49m\u001b[43m,\u001b[49m\u001b[43m \u001b[49m\u001b[43mmapping\u001b[49m\u001b[43m,\u001b[49m\u001b[43m \u001b[49m\u001b[43mallow_duplicates\u001b[49m\u001b[43m)\u001b[49m\n\u001b[1;32m    409\u001b[0m \u001b[38;5;66;03m# Update self._orig_units for Raw\u001b[39;00m\n\u001b[1;32m    410\u001b[0m \u001b[38;5;28;01mif\u001b[39;00m \u001b[38;5;28misinstance\u001b[39m(\u001b[38;5;28mself\u001b[39m, BaseRaw):\n\u001b[1;32m    411\u001b[0m     \u001b[38;5;66;03m# whatever mapping was provided, now we can just use a dict\u001b[39;00m\n",
      "File \u001b[0;32m<decorator-gen-48>:12\u001b[0m, in \u001b[0;36mrename_channels\u001b[0;34m(info, mapping, allow_duplicates, verbose)\u001b[0m\n",
      "File \u001b[0;32m~/.conda/envs/pitch-tracking/lib/python3.10/site-packages/mne/channels/channels.py:1122\u001b[0m, in \u001b[0;36mrename_channels\u001b[0;34m(info, mapping, allow_duplicates, verbose)\u001b[0m\n\u001b[1;32m   1120\u001b[0m \u001b[38;5;66;03m# first check and assemble clean mappings of index and name\u001b[39;00m\n\u001b[1;32m   1121\u001b[0m \u001b[38;5;28;01mif\u001b[39;00m \u001b[38;5;28misinstance\u001b[39m(mapping, \u001b[38;5;28mdict\u001b[39m):\n\u001b[0;32m-> 1122\u001b[0m     \u001b[43m_check_dict_keys\u001b[49m\u001b[43m(\u001b[49m\u001b[43mmapping\u001b[49m\u001b[43m,\u001b[49m\u001b[43m \u001b[49m\u001b[43mch_names\u001b[49m\u001b[43m,\u001b[49m\u001b[43m \u001b[49m\u001b[43mkey_description\u001b[49m\u001b[38;5;241;43m=\u001b[39;49m\u001b[38;5;124;43m\"\u001b[39;49m\u001b[38;5;124;43mchannel name(s)\u001b[39;49m\u001b[38;5;124;43m\"\u001b[39;49m\u001b[43m,\u001b[49m\n\u001b[1;32m   1123\u001b[0m \u001b[43m                     \u001b[49m\u001b[43mvalid_key_source\u001b[49m\u001b[38;5;241;43m=\u001b[39;49m\u001b[38;5;124;43m\"\u001b[39;49m\u001b[38;5;124;43minfo\u001b[39;49m\u001b[38;5;124;43m\"\u001b[39;49m\u001b[43m)\u001b[49m\n\u001b[1;32m   1124\u001b[0m     new_names \u001b[38;5;241m=\u001b[39m [(ch_names\u001b[38;5;241m.\u001b[39mindex(ch_name), new_name)\n\u001b[1;32m   1125\u001b[0m                  \u001b[38;5;28;01mfor\u001b[39;00m ch_name, new_name \u001b[38;5;129;01min\u001b[39;00m mapping\u001b[38;5;241m.\u001b[39mitems()]\n\u001b[1;32m   1126\u001b[0m \u001b[38;5;28;01melif\u001b[39;00m callable(mapping):\n",
      "File \u001b[0;32m~/.conda/envs/pitch-tracking/lib/python3.10/site-packages/mne/utils/check.py:681\u001b[0m, in \u001b[0;36m_check_dict_keys\u001b[0;34m(mapping, valid_keys, key_description, valid_key_source)\u001b[0m\n\u001b[1;32m    678\u001b[0m     _is \u001b[38;5;241m=\u001b[39m \u001b[38;5;124m'\u001b[39m\u001b[38;5;124mare\u001b[39m\u001b[38;5;124m'\u001b[39m \u001b[38;5;28;01mif\u001b[39;00m \u001b[38;5;28mlen\u001b[39m(missing) \u001b[38;5;241m>\u001b[39m \u001b[38;5;241m1\u001b[39m \u001b[38;5;28;01melse\u001b[39;00m \u001b[38;5;124m'\u001b[39m\u001b[38;5;124mis\u001b[39m\u001b[38;5;124m'\u001b[39m\n\u001b[1;32m    679\u001b[0m     msg \u001b[38;5;241m=\u001b[39m (\u001b[38;5;124mf\u001b[39m\u001b[38;5;124m'\u001b[39m\u001b[38;5;124mInvalid \u001b[39m\u001b[38;5;132;01m{\u001b[39;00mkey_description\u001b[38;5;132;01m}\u001b[39;00m\u001b[38;5;124m \u001b[39m\u001b[38;5;132;01m{\u001b[39;00mmissing\u001b[38;5;132;01m}\u001b[39;00m\u001b[38;5;124m \u001b[39m\u001b[38;5;132;01m{\u001b[39;00m_is\u001b[38;5;132;01m}\u001b[39;00m\u001b[38;5;124m not present in \u001b[39m\u001b[38;5;124m'\u001b[39m\n\u001b[1;32m    680\u001b[0m            \u001b[38;5;124mf\u001b[39m\u001b[38;5;124m'\u001b[39m\u001b[38;5;132;01m{\u001b[39;00mvalid_key_source\u001b[38;5;132;01m}\u001b[39;00m\u001b[38;5;124m'\u001b[39m)\n\u001b[0;32m--> 681\u001b[0m     \u001b[38;5;28;01mraise\u001b[39;00m \u001b[38;5;167;01mValueError\u001b[39;00m(msg)\n\u001b[1;32m    683\u001b[0m \u001b[38;5;28;01mreturn\u001b[39;00m mapping\n",
      "\u001b[0;31mValueError\u001b[0m: Invalid channel name(s) {'Ch34', 'Ch47', 'Ch37', 'Ch20', 'Ch59', 'Ch10', 'Ch42', 'Ch53', 'Ch31', 'Ch61', 'Ch56', 'Ch7', 'Ch49', 'Ch55', 'Ch62', 'Ch18', 'Ch11', 'Ch28', 'Ch54', 'Ch27', 'Ch64', 'Ch35', 'Ch17', 'Ch57', 'Ch19', 'Ch15', 'Ch30', 'Ch48', 'Ch63', 'Ch5', 'Ch9', 'Ch40', 'Ch44', 'Ch60', 'Ch13', 'Ch16', 'Ch22', 'Ch1', 'Ch26', 'Ch29', 'Ch32', 'Ch38', 'Ch50', 'Ch46', 'Ch21', 'Ch36', 'Ch4', 'Ch51', 'Ch58', 'Ch8', 'Ch33', 'Ch52', 'Ch25', 'Ch43', 'Ch12', 'Ch3', 'Ch45', 'Ch6', 'Ch14', 'Ch23', 'Ch2', 'Ch41', 'Ch39'} are not present in info"
     ]
    }
   ],
   "source": [
    "# map channel numbers to channel names\n",
    "print(\"Map channel numbers to channel names\")\n",
    "mapping = get_chan_mapping(MAPS_DIR, sub)\n",
    "raw.rename_channels(mapping)\n",
    "raw.add_reference_channels(ref_channels = ['Cz'])"
   ]
  },
  {
   "cell_type": "code",
   "execution_count": 7,
   "id": "0a459d50",
   "metadata": {},
   "outputs": [],
   "source": [
    "# Checks\n",
    "if len(raw.ch_names) != 66:\n",
    "    sys.exit(f\"Incorrect number of channels, there should be 66 (2 aux incl) channels, instead there are {n_chans} channels\")"
   ]
  },
  {
   "cell_type": "code",
   "execution_count": 8,
   "id": "314ad857",
   "metadata": {},
   "outputs": [
    {
     "name": "stdout",
     "output_type": "stream",
     "text": [
      "Map channels to their captrak coordinates\n",
      "Looking for captrak file\n",
      "../data/captrak/sub-24.bvct\n",
      "Using captrak file from 24\n"
     ]
    },
    {
     "name": "stderr",
     "output_type": "stream",
     "text": [
      "/tmp/ipykernel_26915/3384685196.py:13: RuntimeWarning: DigMontage is only a subset of info. There are 2 channel positions not present in the DigMontage. The required channels are:\n",
      "\n",
      "['leog', 'reog'].\n",
      "\n",
      "Consider using inst.set_channel_types if these are not EEG channels, or use the on_missing parameter if the channel positions are allowed to be unknown in your analyses.\n",
      "  raw.set_montage(dig, on_missing = 'warn')\n"
     ]
    }
   ],
   "source": [
    "# Map channels to their coordinates\n",
    "print(\"Map channels to their captrak coordinates\")\n",
    "captrak_found = False\n",
    "captrak_sub = sub\n",
    "\n",
    "while not captrak_found:\n",
    "    print(\"Looking for captrak file\")\n",
    "    captrak_path = MAPS_DIR + 'sub-' + str(captrak_sub) + '.bvct'\n",
    "    print(captrak_path)\n",
    "    if os.path.isfile(captrak_path):\n",
    "        print(f\"Using captrak file from {captrak_sub}\")\n",
    "        dig = mne. channels.read_dig_captrak(captrak_path)\n",
    "        raw.set_montage(dig, on_missing = 'warn')\n",
    "        captrak_found = True\n",
    "    else:\n",
    "        captrak_sub = random.randint(3, 30)"
   ]
  },
  {
   "cell_type": "code",
   "execution_count": 28,
   "id": "9693b621",
   "metadata": {},
   "outputs": [
    {
     "name": "stdout",
     "output_type": "stream",
     "text": [
      "../data/logs/sub-24_blk-2.log\n",
      "../data/logs/sub-24_blk-4.log\n",
      "../data/logs/sub-24_blk-0.log\n",
      "../data/logs/sub-24_blk-1.log\n",
      "../data/logs/sub-24_blk-3.log\n",
      "Successfully matched marks and tags :-)\n"
     ]
    }
   ],
   "source": [
    "# Add stream to event tags\n",
    "events = add_stream_to_event_tags(events, sub)\n",
    "\n",
    "# Drop meaningless event name\n",
    "events = np.array(events)\n",
    "events = events[events[:,2] != event_ids['New Segment/'], :]"
   ]
  },
  {
   "cell_type": "code",
   "execution_count": 29,
   "id": "54f22d36",
   "metadata": {},
   "outputs": [
    {
     "data": {
      "text/html": [
       "<table class=\"table table-hover table-striped table-sm table-responsive small\">\n",
       "    <tr>\n",
       "        <th>Measurement date</th>\n",
       "        \n",
       "        <td>February 27, 2023  13:13:02 GMT</td>\n",
       "        \n",
       "    </tr>\n",
       "    <tr>\n",
       "        <th>Experimenter</th>\n",
       "        \n",
       "        <td>Unknown</td>\n",
       "        \n",
       "    </tr>\n",
       "        <th>Participant</th>\n",
       "        \n",
       "        <td>Unknown</td>\n",
       "        \n",
       "    </tr>\n",
       "    <tr>\n",
       "        <th>Digitized points</th>\n",
       "        \n",
       "        <td>0 points</td>\n",
       "        \n",
       "    </tr>\n",
       "    <tr>\n",
       "        <th>Good channels</th>\n",
       "        <td>64 EEG, 2 Stimulus</td>\n",
       "    </tr>\n",
       "    <tr>\n",
       "        <th>Bad channels</th>\n",
       "        <td>None</td>\n",
       "    </tr>\n",
       "    <tr>\n",
       "        <th>EOG channels</th>\n",
       "        <td>Not available</td>\n",
       "    </tr>\n",
       "    <tr>\n",
       "        <th>ECG channels</th>\n",
       "        <td>Not available</td>\n",
       "    \n",
       "    <tr>\n",
       "        <th>Sampling frequency</th>\n",
       "        <td>5000.00 Hz</td>\n",
       "    </tr>\n",
       "    \n",
       "    \n",
       "    <tr>\n",
       "        <th>Highpass</th>\n",
       "        <td>0.00 Hz</td>\n",
       "    </tr>\n",
       "    \n",
       "    \n",
       "    <tr>\n",
       "        <th>Lowpass</th>\n",
       "        <td>2500.00 Hz</td>\n",
       "    </tr>\n",
       "    \n",
       "    \n",
       "    \n",
       "    <tr>\n",
       "        <th>Filenames</th>\n",
       "        <td>sub-24.eeg</td>\n",
       "    </tr>\n",
       "    \n",
       "    <tr>\n",
       "        <th>Duration</th>\n",
       "        <td>00:57:40 (HH:MM:SS)</td>\n",
       "    </tr>\n",
       "</table>"
      ],
      "text/plain": [
       "<RawBrainVision | sub-24.eeg, 66 x 17303500 (3460.7 s), ~8.51 GB, data loaded>"
      ]
     },
     "execution_count": 29,
     "metadata": {},
     "output_type": "execute_result"
    }
   ],
   "source": [
    "# Rename events to their stimulus pitch\n",
    "annot = mne.annotations_from_events(events, sfreq = raw.info['sfreq'])\n",
    "raw.set_annotations(annot)"
   ]
  },
  {
   "cell_type": "code",
   "execution_count": 30,
   "id": "6cd87955",
   "metadata": {},
   "outputs": [],
   "source": [
    "# Get range of dates the BIDS specification will accept\n",
    "daysback_min, daysback_max = get_anonymization_daysback(raw)"
   ]
  },
  {
   "cell_type": "code",
   "execution_count": 31,
   "id": "6512d49c",
   "metadata": {},
   "outputs": [
    {
     "name": "stdout",
     "output_type": "stream",
     "text": [
      "Write data into BIDS directory\n",
      "Writing '../data/bids/README'...\n",
      "Writing '../data/bids/participants.tsv'...\n",
      "Writing '../data/bids/participants.json'...\n",
      "Writing '../data/bids/sub-24/eeg/sub-24_space-CapTrak_electrodes.tsv'...\n",
      "Writing '../data/bids/sub-24/eeg/sub-24_space-CapTrak_coordsystem.json'...\n",
      "Used Annotations descriptions: ['111', '112', '113', '121', '122', '123', '131', '132', '133', '211', '212', '213', '221', '222', '223', '231', '232', '233']\n",
      "Writing '../data/bids/sub-24/eeg/sub-24_task-pitch_run-1_events.tsv'...\n",
      "Writing '../data/bids/dataset_description.json'...\n",
      "Writing '../data/bids/sub-24/eeg/sub-24_task-pitch_run-1_eeg.json'...\n",
      "Writing '../data/bids/sub-24/eeg/sub-24_task-pitch_run-1_channels.tsv'...\n",
      "Copying data files to sub-24_task-pitch_run-1_eeg.vhdr\n"
     ]
    },
    {
     "name": "stderr",
     "output_type": "stream",
     "text": [
      "/tmp/ipykernel_26915/1538107732.py:11: RuntimeWarning: Converting data files to BrainVision format\n",
      "  write_raw_bids(\n",
      "/home/letitiayhho/.conda/envs/pitch-tracking/lib/python3.10/site-packages/pybv/io.py:394: UserWarning: Encountered unsupported non-voltage units: n/a\n",
      "Note that the BrainVision format specification supports only µV.\n",
      "  warn(msg)\n"
     ]
    },
    {
     "name": "stdout",
     "output_type": "stream",
     "text": [
      "Writing '../data/bids/sub-24/sub-24_scans.tsv'...\n",
      "Wrote ../data/bids/sub-24/sub-24_scans.tsv entry with eeg/sub-24_task-pitch_run-1_eeg.vhdr.\n"
     ]
    },
    {
     "data": {
      "text/plain": [
       "BIDSPath(\n",
       "root: ../data/bids\n",
       "datatype: eeg\n",
       "basename: sub-24_task-pitch_run-1_eeg.vhdr)"
      ]
     },
     "execution_count": 31,
     "metadata": {},
     "output_type": "execute_result"
    }
   ],
   "source": [
    "# Write data into BIDS directory, while anonymizing\n",
    "print(\"Write data into BIDS directory\")\n",
    "bids_path = BIDSPath(\n",
    "        run = run,\n",
    "        subject = sub,\n",
    "        task = task,\n",
    "        datatype = 'eeg',\n",
    "        root = BIDS_DIR\n",
    ")\n",
    "\n",
    "write_raw_bids(\n",
    "    raw,\n",
    "    bids_path = bids_path,\n",
    "    allow_preload = True, # whether to load full dataset into memory when copying\n",
    "    format = 'BrainVision', # format to save to\n",
    "    anonymize = dict(daysback = daysback_min), # shift dates by daysback\n",
    "    overwrite = True,\n",
    ")"
   ]
  },
  {
   "cell_type": "code",
   "execution_count": null,
   "id": "fc71e2b1",
   "metadata": {},
   "outputs": [],
   "source": []
  },
  {
   "cell_type": "code",
   "execution_count": null,
   "id": "2b8b1a0d",
   "metadata": {},
   "outputs": [],
   "source": []
  },
  {
   "cell_type": "code",
   "execution_count": null,
   "id": "5d86d94f",
   "metadata": {},
   "outputs": [],
   "source": []
  },
  {
   "cell_type": "code",
   "execution_count": null,
   "id": "e25b7a3a",
   "metadata": {},
   "outputs": [],
   "source": []
  },
  {
   "cell_type": "code",
   "execution_count": null,
   "id": "8a407604",
   "metadata": {},
   "outputs": [],
   "source": []
  },
  {
   "cell_type": "code",
   "execution_count": null,
   "id": "52d51429",
   "metadata": {},
   "outputs": [],
   "source": []
  }
 ],
 "metadata": {
  "kernelspec": {
   "display_name": "Python 3 (ipykernel)",
   "language": "python",
   "name": "python3"
  },
  "language_info": {
   "codemirror_mode": {
    "name": "ipython",
    "version": 3
   },
   "file_extension": ".py",
   "mimetype": "text/x-python",
   "name": "python",
   "nbconvert_exporter": "python",
   "pygments_lexer": "ipython3",
   "version": "3.10.4"
  }
 },
 "nbformat": 4,
 "nbformat_minor": 5
}
