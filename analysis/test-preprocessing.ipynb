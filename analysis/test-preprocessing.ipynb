{
 "cells": [
  {
   "cell_type": "code",
   "execution_count": 1,
   "id": "c1557f70",
   "metadata": {},
   "outputs": [],
   "source": [
    "import sys\n",
    "import gc\n",
    "from util.io.preprocessing import *\n",
    "from util.io.iter_BIDSPaths import *"
   ]
  },
  {
   "cell_type": "code",
   "execution_count": 3,
   "id": "1217bf96",
   "metadata": {},
   "outputs": [
    {
     "name": "stdout",
     "output_type": "stream",
     "text": [
      "('/project2/hcn1/dichotic_pitch_tracking/analysis/../data/bids/sub-4/eeg/sub-4_task-dichotic_run-1_eeg.eeg', '4', 'dichotic', '1')\n",
      "/project2/hcn1/dichotic_pitch_tracking/analysis/../data/bids/sub-4/eeg/sub-4_task-dichotic_run-1_eeg.eeg 4 dichotic 1\n"
     ]
    }
   ],
   "source": [
    "BIDS_ROOT = '../data/bids'\n",
    "DERIV_ROOT = '../data/bids/derivatives'\n",
    "layout = BIDSLayout(BIDS_ROOT, derivatives = False)\n",
    "fpaths = layout.get(extension = 'eeg',\n",
    "                    return_type = 'filename')\n",
    "\n",
    "for fpath, sub, task, run in iter_BIDSPaths(fpaths):\n",
    "    print(fpath, sub, task, run)\n",
    "    break"
   ]
  },
  {
   "cell_type": "code",
   "execution_count": null,
   "id": "632110a7",
   "metadata": {},
   "outputs": [],
   "source": [
    "# Constants\n",
    "LOWPASS = 300\n",
    "FS = 5000\n",
    "\n",
    "# Import data\n",
    "print(\"---------- Import data ----------\")\n",
    "print(sub, task, run)\n",
    "raw = import_bids_data(BIDS_ROOT, sub, task, run)\n",
    "events, event_ids = read_events(raw)\n",
    "\n",
    "# Create virtual EOGs\n",
    "raw.load_data()\n",
    "raw = create_eogs(raw)\n",
    "\n",
    "# Resampling and PREP\n",
    "print(\"---------- Resampling and PREP ----------\")\n",
    "raw, bads = run_PREP(raw, sub, run, LOWPASS)\n",
    "\n",
    "# Run ICA on one copy of the data\n",
    "print(\"---------- Run ICA on one copy of the data ----------\")\n",
    "raw_for_ica = bandpass(raw, None, 1)\n",
    "raw = bandpass(raw, 300, 100)\n",
    "\n",
    "epochs_for_ica = epoch(raw_for_ica, events, event_ids)\n",
    "epochs = epoch(raw, events, event_ids)\n",
    "del raw_for_ica\n",
    "del raw\n",
    "gc.collect()\n",
    "\n",
    "ica = compute_ICA(epochs_for_ica) # run ICA on less aggressively filtered data\n",
    "epochs, ica = apply_ICA(epochs_for_ica, epochs, ica) # apply ICA on more aggressively filtered data\n",
    "\n",
    "# Baseline correct and reject trials\n",
    "print(\"---------- Baseline correct and reject trials ----------\")\n",
    "epochs = baseline_correct(epochs)\n",
    "epochs, thres = reject_trials(epochs)\n",
    "\n",
    "# Save results and generate report\n",
    "print(\"---------- Save results and generate report ----------\")\n",
    "fpath, sink = get_save_path(DERIV_ROOT, sub, task, run)\n",
    "save_and_generate_report(fpath, epochs, sink, sub, task, run, ica, bads, thres)\n",
    "print(\"Saving results and report to: \" + str(fpath))"
   ]
  }
 ],
 "metadata": {
  "kernelspec": {
   "display_name": "Python 3 (ipykernel)",
   "language": "python",
   "name": "python3"
  },
  "language_info": {
   "codemirror_mode": {
    "name": "ipython",
    "version": 3
   },
   "file_extension": ".py",
   "mimetype": "text/x-python",
   "name": "python",
   "nbconvert_exporter": "python",
   "pygments_lexer": "ipython3",
   "version": "3.10.4"
  }
 },
 "nbformat": 4,
 "nbformat_minor": 5
}
