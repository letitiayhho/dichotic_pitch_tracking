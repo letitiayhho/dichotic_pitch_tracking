{
 "cells": [
  {
   "cell_type": "code",
   "execution_count": 7,
   "id": "09b59540",
   "metadata": {},
   "outputs": [
    {
     "name": "stdout",
     "output_type": "stream",
     "text": [
      "Extracting parameters from ../data/raw/sub-9.vhdr...\n",
      "Setting channel info structure...\n",
      "Used Annotations descriptions: ['New Segment/', 'Stimulus/S 11', 'Stimulus/S 12', 'Stimulus/S 13', 'Stimulus/S 21', 'Stimulus/S 22', 'Stimulus/S 23', 'Stimulus/S 31', 'Stimulus/S 32', 'Stimulus/S 33']\n",
      "../data/logs/sub-9_blk-4.log\n",
      "../data/logs/sub-9_blk-2.log\n",
      "../data/logs/sub-9_blk-3.log\n",
      "../data/logs/sub-9_blk-1.log\n",
      "../data/logs/sub-9_blk-0.log\n",
      "Match found! tags_i: 0; marks_i: 50\n",
      "tags_set: (31, 13, 12, 12, 33, 23, 32, 23, 33, 33, 33, 21, 31, 12, 33, 23, 13, 12, 13, 12)\n",
      "marks_set: (31, 13, 12, 12, 33, 23, 32, 23, 33, 33, 33, 21, 31, 12, 33, 23, 13, 12, 13, 12)\n"
     ]
    }
   ],
   "source": [
    "#testing from terminal \n",
    "# from util.io.add_stream_to_event_tags import *\n",
    "import mne\n",
    "import os\n",
    "import glob\n",
    "import pandas as pd\n",
    "        \n",
    "def add_stream_to_event_tags(events, sub):\n",
    "\n",
    "    # Extract event tags\n",
    "    tags = []\n",
    "    for i in range(1, len(events)):\n",
    "        tags.append(events[i][2])\n",
    "        \n",
    "    # Get marks from log files\n",
    "    marks, streams = get_marks_and_streams_from_log_file(sub)\n",
    "\n",
    "    # Find the indexes that match event and log tags up\n",
    "    window = 20\n",
    "    tags_i, marks_i = get_index_of_match(tags, marks, window)\n",
    "\n",
    "    # Trim marks to match event tags\n",
    "    start_i = marks_i\n",
    "    end_i = marks_i + len(tags)\n",
    "    marks = marks[start_i:end_i]\n",
    "    streams = streams[start_i:end_i]\n",
    "\n",
    "    # Add stream to tag\n",
    "    hier_tags = make_tags_hierarchical(streams, tags)\n",
    "\n",
    "    # Add hierarchical tags to events object\n",
    "    hier_events = add_hierarchical_tags_to_events(events, hier_tags)\n",
    "\n",
    "    return(hier_events)\n",
    "    \n",
    "def get_marks_and_streams_from_log_file(sub):\n",
    "    # Get events from log files\n",
    "    log_dir = '../data/logs'\n",
    "    logs = pd.DataFrame()\n",
    "\n",
    "    for fpath in list(glob.glob(f'{log_dir}/sub-{sub}_*.log')):\n",
    "        print(fpath)\n",
    "\n",
    "        # checking if it is a file\n",
    "        if os.path.isfile(fpath):\n",
    "            log = pd.read_csv(fpath)\n",
    "            logs = pd.concat([logs, log])\n",
    "\n",
    "    logs = logs.sort_values(by = ['block_num', 'seq_num', 'tone_num'])\n",
    "    logs = logs.reset_index()\n",
    "    marks = logs.mark\n",
    "    streams = logs.stream\n",
    "\n",
    "    return(marks, streams)\n",
    "\n",
    "def check(tags, marks, tags_i, marks_i, score):\n",
    "    if tags[tags_i] == marks[marks_i]:\n",
    "        score += 1\n",
    "        tags_i += 1\n",
    "        marks_i += 1\n",
    "    else:\n",
    "        tags_i = tags_i - score\n",
    "        marks_i += 1\n",
    "        score = 0\n",
    "    return(tags_i, marks_i, score)\n",
    "\n",
    "def get_index_of_match(tags, marks, window):\n",
    "    for tags_i in range(len(tags) - window):\n",
    "        for marks_i in range(len(marks) - window):\n",
    "            tags_set = tuple(tags[tags_i:tags_i+window])\n",
    "            marks_set = tuple(marks[marks_i:marks_i+window])\n",
    "            if tags_set == marks_set:\n",
    "                print(f'Match found! tags_i: {tags_i}; marks_i: {marks_i}')\n",
    "                print(f'tags_set: {tags_set}')\n",
    "                print(f'marks_set: {marks_set}')\n",
    "                found = True\n",
    "                break\n",
    "        if found:\n",
    "            break\n",
    "\n",
    "    if not found:\n",
    "        raise ValueError('No match found!')\n",
    "    if tuple(tags[tags_i:len(tags)]) != tuple(marks[marks_i:marks_i + len(tags)]): # length of marks will always >= length of tags\n",
    "        raise ValueError('Event tags do not match log file tags!')\n",
    "    return(tags_i, marks_i)\n",
    "\n",
    "def make_tags_hierarchical(streams, tags):\n",
    "\n",
    "    # Change stream string value from 'r' and 'l' into 1 and 2\n",
    "    stream_tag = streams.replace(['r', 'l'], [1, 2])\n",
    "    stream_tag = list(stream_tag)\n",
    "\n",
    "    # Concat stream tags with event tags\n",
    "    hier_tags = []\n",
    "    hier_tags.insert(0, 99999)\n",
    "    for stream, tag in zip(stream_tag, tags):\n",
    "        hier_tag = int(str(stream) + str(tag))\n",
    "        hier_tags.append(hier_tag)\n",
    "\n",
    "    return(hier_tags)\n",
    "\n",
    "def add_hierarchical_tags_to_events(events, hier_tags):\n",
    "    hier_events = []\n",
    "    for i in range(0, len(events)):\n",
    "        hier_event = list(events[i])\n",
    "        hier_event[2] = hier_tags[i]\n",
    "        hier_events.append(hier_event)\n",
    "    return(hier_events)\n",
    "\n",
    "sub = 9\n",
    "eeg_fpath = '../data/raw/sub-9.vhdr'\n",
    "raw = mne.io.read_raw(eeg_fpath)\n",
    "events, event_ids = mne.events_from_annotations(raw)\n",
    "events_new = add_stream_to_event_tags(events, sub)"
   ]
  },
  {
   "cell_type": "code",
   "execution_count": 1,
   "id": "cb947e7f",
   "metadata": {},
   "outputs": [],
   "source": [
    "# from util.io.preprocessing import *\n",
    "import mne\n",
    "import os\n",
    "import pandas as pd\n",
    "import glob\n",
    "import time"
   ]
  },
  {
   "cell_type": "code",
   "execution_count": 5,
   "id": "b7533266",
   "metadata": {},
   "outputs": [
    {
     "name": "stdout",
     "output_type": "stream",
     "text": [
      "Extracting parameters from ../data/raw/sub-9.vhdr...\n",
      "Setting channel info structure...\n",
      "Used Annotations descriptions: ['New Segment/', 'Stimulus/S 11', 'Stimulus/S 12', 'Stimulus/S 13', 'Stimulus/S 21', 'Stimulus/S 22', 'Stimulus/S 23', 'Stimulus/S 31', 'Stimulus/S 32', 'Stimulus/S 33']\n"
     ]
    }
   ],
   "source": [
    "# Get events from raw data\n",
    "sub = 9\n",
    "eeg_fpath = '../data/raw/sub-9.vhdr'\n",
    "raw = mne.io.read_raw(eeg_fpath)\n",
    "events, event_ids = mne.events_from_annotations(raw)\n",
    "\n",
    "# Extract tags from events\n",
    "tags = []\n",
    "for i in range(1, len(events)):\n",
    "    tags.append(events[i][2])"
   ]
  },
  {
   "cell_type": "code",
   "execution_count": null,
   "id": "c573b4e8",
   "metadata": {},
   "outputs": [],
   "source": []
  },
  {
   "cell_type": "code",
   "execution_count": 9,
   "id": "8d49ba46",
   "metadata": {},
   "outputs": [
    {
     "name": "stdout",
     "output_type": "stream",
     "text": [
      "../data/logs/sub-9_blk-4.log\n",
      "../data/logs/sub-9_blk-2.log\n",
      "../data/logs/sub-9_blk-3.log\n",
      "../data/logs/sub-9_blk-1.log\n",
      "../data/logs/sub-9_blk-0.log\n"
     ]
    }
   ],
   "source": [
    "# Get events from log files\n",
    "log_dir = '../data/logs'\n",
    "logs = pd.DataFrame()\n",
    "\n",
    "for fpath in list(glob.glob(f'{log_dir}/sub-{sub}_*.log')):\n",
    "\n",
    "    # checking if it is a file\n",
    "    print(fpath)\n",
    "    if os.path.isfile(fpath):\n",
    "        log = pd.read_csv(fpath)\n",
    "        logs = pd.concat([logs, log])\n",
    "\n",
    "logs = logs.sort_values(by = ['block_num', 'seq_num', 'tone_num'])\n",
    "logs = logs.reset_index()\n",
    "marks = logs.mark\n",
    "streams = logs.stream"
   ]
  },
  {
   "cell_type": "markdown",
   "id": "0db03cc6",
   "metadata": {},
   "source": []
  },
  {
   "cell_type": "code",
   "execution_count": 6,
   "id": "6d29e4b9",
   "metadata": {},
   "outputs": [
    {
     "name": "stdout",
     "output_type": "stream",
     "text": [
      "Match found! tags_i: 0; marks_i: 50\n",
      "tags_set: (31, 13, 12, 12, 33, 23, 32, 23, 33, 33, 33, 21, 31, 12, 33, 23, 13, 12, 13, 12)\n",
      "marks_set: (31, 13, 12, 12, 33, 23, 32, 23, 33, 33, 33, 21, 31, 12, 33, 23, 13, 12, 13, 12)\n",
      "TIME: 0.0058002471923828125\n"
     ]
    }
   ],
   "source": [
    "# Iterate over tags in exponential time\n",
    "t0 = time.time()\n",
    "\n",
    "window = 20\n",
    "for tags_i in range(len(tags) - window):\n",
    "    for marks_i in range(len(marks) - window):\n",
    "        tags_set = tuple(tags[tags_i:tags_i+window])\n",
    "        marks_set = tuple(marks[marks_i:marks_i+window])\n",
    "        if tags_set == marks_set:\n",
    "            print(f'Match found! tags_i: {tags_i}; marks_i: {marks_i}')\n",
    "            print(f'tags_set: {tags_set}')\n",
    "            print(f'marks_set: {marks_set}')\n",
    "            found = True\n",
    "            break\n",
    "    if found:\n",
    "        break\n",
    "        \n",
    "t1 = time.time()\n",
    "\n",
    "print(f\"TIME: {t1-t0}\")"
   ]
  },
  {
   "cell_type": "code",
   "execution_count": 238,
   "id": "37f7be6d",
   "metadata": {},
   "outputs": [
    {
     "name": "stdout",
     "output_type": "stream",
     "text": [
      "Match found! tags_i: 20; marks_i: 70\n",
      "tags_set: (31, 13, 12, 12, 33, 23, 32, 23, 33, 33, 33, 21, 31, 12, 33, 23, 13, 12, 13, 12)\n",
      "marks_set: (31, 13, 12, 12, 33, 23, 32, 23, 33, 33, 33, 21, 31, 12, 33, 23, 13, 12, 13, 12)\n",
      "TIME: 0.003219127655029297\n"
     ]
    }
   ],
   "source": [
    "# Iterate over tags in linear time\n",
    "t0 = time.time()\n",
    "\n",
    "window = 20\n",
    "\n",
    "def check(tags, marks, tags_i, marks_i, score):\n",
    "    if tags[tags_i] == marks[marks_i]:\n",
    "        score += 1\n",
    "        tags_i += 1\n",
    "        marks_i += 1\n",
    "    else:\n",
    "        tags_i = tags_i - score\n",
    "        marks_i += 1\n",
    "        score = 0\n",
    "    return(tags_i, marks_i, score)\n",
    "\n",
    "score = 0\n",
    "marks_i = 0\n",
    "for tags_i in range(len(tags) - window):\n",
    "    while score < window:\n",
    "        tags_i, marks_i, score = check(tags, marks, tags_i, marks_i, score)\n",
    "    if score == window:\n",
    "        print(f'Match found! tags_i: {tags_i}; marks_i: {marks_i}')\n",
    "        print(f'tags_set: {tags_set}')\n",
    "        print(f'marks_set: {marks_set}')\n",
    "        break\n",
    "        \n",
    "t1 = time.time()\n",
    "\n",
    "print(f\"TIME: {t1-t0}\")"
   ]
  },
  {
   "cell_type": "code",
   "execution_count": null,
   "id": "21cbe05d",
   "metadata": {},
   "outputs": [],
   "source": [
    "# Trim marks to match event tags\n",
    "start_i = marks_i\n",
    "end_i = marks_i + len(tags)\n",
    "marks = marks[start_i:end_i]\n",
    "streams = streams[start_i:end_i]\n",
    "\n",
    "# Aggressive check\n",
    "if not found:\n",
    "    raise ValueError('No match found!')\n",
    "if tuple(tags[tags_i:len(tags)]) != tuple(marks): # length of marks will always >= length of tags\n",
    "    raise ValueError('Event tags do not match log file tags!')"
   ]
  },
  {
   "cell_type": "code",
   "execution_count": 257,
   "id": "ccd43af0",
   "metadata": {},
   "outputs": [],
   "source": [
    "# Make event tags hierarchical\n",
    "\n",
    "# Change stream string value from 'r' and 'l' into 1 and 2\n",
    "stream_tag = streams.replace(['r', 'l'], [1, 2])\n",
    "stream_tag = list(stream_tag)\n",
    "\n",
    "# Concat stream tags with event tags\n",
    "hier_tags = []\n",
    "hier_tags.insert(0, 99999)\n",
    "for stream, tag in zip(stream_tag, tags):\n",
    "    hier_tag = int(str(stream) + str(tag))\n",
    "    hier_tags.append(hier_tag)"
   ]
  },
  {
   "cell_type": "code",
   "execution_count": 264,
   "id": "4f06d206",
   "metadata": {},
   "outputs": [],
   "source": [
    "# Return new events object\n",
    "hier_events = []\n",
    "for i in range(0, len(events)):\n",
    "    hier_event = list(events[i])\n",
    "    hier_event[2] = hier_tags[i]\n",
    "    hier_events.append(hier_event)"
   ]
  }
 ],
 "metadata": {
  "kernelspec": {
   "display_name": "Python 3 (ipykernel)",
   "language": "python",
   "name": "python3"
  },
  "language_info": {
   "codemirror_mode": {
    "name": "ipython",
    "version": 3
   },
   "file_extension": ".py",
   "mimetype": "text/x-python",
   "name": "python",
   "nbconvert_exporter": "python",
   "pygments_lexer": "ipython3",
   "version": "3.10.2"
  }
 },
 "nbformat": 4,
 "nbformat_minor": 5
}
